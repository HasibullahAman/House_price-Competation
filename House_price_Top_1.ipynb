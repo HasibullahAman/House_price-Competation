{
 "cells": [
  {
   "cell_type": "markdown",
   "metadata": {},
   "source": [
    "\n",
    "# <b>1 <span style='color:#94D4F6'>|</span> Data Preprocessing</b>\n",
    "\n",
    "<div style=\"color:white;display:fill;border-radius:8px;background-color:#03112A;font-size:150%;letter-spacing:1.0px\"><p style=\"padding: 10px;color:white;\"><b><b><span style='color:#94D4F6'>1.1 |</span></b> Importing the libraries </b></p>\n"
   ]
  },
  {
   "cell_type": "markdown",
   "metadata": {},
   "source": [
    "-  **<mark style=\"background-color:#FFC300;color:black;border-radius:5px;opacity:0.7\"> Importing the  necessary libraries </mark>** "
   ]
  },
  {
   "cell_type": "code",
   "execution_count": null,
   "metadata": {},
   "outputs": [],
   "source": []
  }
 ],
 "metadata": {
  "kernelspec": {
   "display_name": "Python 3",
   "language": "python",
   "name": "python3"
  },
  "language_info": {
   "codemirror_mode": {
    "name": "ipython",
    "version": 3
   },
   "file_extension": ".py",
   "mimetype": "text/x-python",
   "name": "python",
   "nbconvert_exporter": "python",
   "pygments_lexer": "ipython3",
   "version": "3.8.3"
  }
 },
 "nbformat": 4,
 "nbformat_minor": 4
}
