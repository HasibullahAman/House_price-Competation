{
 "cells": [
  {
   "cell_type": "markdown",
   "id": "b895a0da",
   "metadata": {
    "_cell_guid": "6876eaaa-66b8-4955-9d92-e4bceb008a40",
    "_uuid": "23c5712d-3fa8-4ef3-8432-923825d5a0b4",
    "papermill": {
     "duration": 0.043847,
     "end_time": "2022-05-05T22:11:15.539857",
     "exception": false,
     "start_time": "2022-05-05T22:11:15.496010",
     "status": "completed"
    },
    "tags": []
   },
   "source": [
    "# Packages"
   ]
  },
  {
   "cell_type": "code",
   "execution_count": 1,
   "id": "ec85c954",
   "metadata": {
    "_cell_guid": "41b1b1df-7330-4e89-b81f-5eb833deeea1",
    "_uuid": "48246f9c-b9d4-4cb4-bfb4-37cb16d9090b",
    "collapsed": false,
    "execution": {
     "iopub.execute_input": "2022-05-05T22:11:15.629736Z",
     "iopub.status.busy": "2022-05-05T22:11:15.628499Z",
     "iopub.status.idle": "2022-05-05T22:11:18.007257Z",
     "shell.execute_reply": "2022-05-05T22:11:18.006316Z"
    },
    "jupyter": {
     "outputs_hidden": false
    },
    "papermill": {
     "duration": 2.428487,
     "end_time": "2022-05-05T22:11:18.010381",
     "exception": false,
     "start_time": "2022-05-05T22:11:15.581894",
     "status": "completed"
    },
    "tags": []
   },
   "outputs": [],
   "source": [
    "import numpy as np\n",
    "import pandas as pd\n",
    "\n",
    "from matplotlib import pyplot as plt\n",
    "from plotly import express as px, graph_objects as go\n",
    "\n",
    "from sklearn.metrics import mean_squared_log_error\n",
    "from sklearn.preprocessing import StandardScaler\n",
    "\n",
    "%matplotlib inline"
   ]
  },
  {
   "cell_type": "markdown",
   "id": "0e19d806",
   "metadata": {
    "_cell_guid": "81a9e4b6-d05c-4ae9-8180-403bff04d0a4",
    "_uuid": "a02f38be-8290-4be9-aaeb-17f611f8c652",
    "papermill": {
     "duration": 0.041508,
     "end_time": "2022-05-05T22:11:18.095329",
     "exception": false,
     "start_time": "2022-05-05T22:11:18.053821",
     "status": "completed"
    },
    "tags": []
   },
   "source": [
    "# Reading Data"
   ]
  },
  {
   "cell_type": "code",
   "execution_count": 2,
   "id": "1010173e",
   "metadata": {
    "_cell_guid": "b847c758-a244-464f-bf43-f91383cafea6",
    "_uuid": "f1cdc3aa-144e-4726-a114-55506de33067",
    "collapsed": false,
    "execution": {
     "iopub.execute_input": "2022-05-05T22:11:18.183958Z",
     "iopub.status.busy": "2022-05-05T22:11:18.183482Z",
     "iopub.status.idle": "2022-05-05T22:11:18.294326Z",
     "shell.execute_reply": "2022-05-05T22:11:18.293414Z"
    },
    "jupyter": {
     "outputs_hidden": false
    },
    "papermill": {
     "duration": 0.159087,
     "end_time": "2022-05-05T22:11:18.298074",
     "exception": false,
     "start_time": "2022-05-05T22:11:18.138987",
     "status": "completed"
    },
    "tags": []
   },
   "outputs": [
    {
     "name": "stdout",
     "output_type": "stream",
     "text": [
      "Reading data...\n",
      "<class 'pandas.core.frame.DataFrame'>\n",
      "Int64Index: 1460 entries, 1 to 1460\n",
      "Data columns (total 80 columns):\n",
      " #   Column         Non-Null Count  Dtype  \n",
      "---  ------         --------------  -----  \n",
      " 0   MSSubClass     1460 non-null   int64  \n",
      " 1   MSZoning       1460 non-null   object \n",
      " 2   LotFrontage    1201 non-null   float64\n",
      " 3   LotArea        1460 non-null   int64  \n",
      " 4   Street         1460 non-null   object \n",
      " 5   Alley          91 non-null     object \n",
      " 6   LotShape       1460 non-null   object \n",
      " 7   LandContour    1460 non-null   object \n",
      " 8   Utilities      1460 non-null   object \n",
      " 9   LotConfig      1460 non-null   object \n",
      " 10  LandSlope      1460 non-null   object \n",
      " 11  Neighborhood   1460 non-null   object \n",
      " 12  Condition1     1460 non-null   object \n",
      " 13  Condition2     1460 non-null   object \n",
      " 14  BldgType       1460 non-null   object \n",
      " 15  HouseStyle     1460 non-null   object \n",
      " 16  OverallQual    1460 non-null   int64  \n",
      " 17  OverallCond    1460 non-null   int64  \n",
      " 18  YearBuilt      1460 non-null   int64  \n",
      " 19  YearRemodAdd   1460 non-null   int64  \n",
      " 20  RoofStyle      1460 non-null   object \n",
      " 21  RoofMatl       1460 non-null   object \n",
      " 22  Exterior1st    1460 non-null   object \n",
      " 23  Exterior2nd    1460 non-null   object \n",
      " 24  MasVnrType     1452 non-null   object \n",
      " 25  MasVnrArea     1452 non-null   float64\n",
      " 26  ExterQual      1460 non-null   object \n",
      " 27  ExterCond      1460 non-null   object \n",
      " 28  Foundation     1460 non-null   object \n",
      " 29  BsmtQual       1423 non-null   object \n",
      " 30  BsmtCond       1423 non-null   object \n",
      " 31  BsmtExposure   1422 non-null   object \n",
      " 32  BsmtFinType1   1423 non-null   object \n",
      " 33  BsmtFinSF1     1460 non-null   int64  \n",
      " 34  BsmtFinType2   1422 non-null   object \n",
      " 35  BsmtFinSF2     1460 non-null   int64  \n",
      " 36  BsmtUnfSF      1460 non-null   int64  \n",
      " 37  TotalBsmtSF    1460 non-null   int64  \n",
      " 38  Heating        1460 non-null   object \n",
      " 39  HeatingQC      1460 non-null   object \n",
      " 40  CentralAir     1460 non-null   object \n",
      " 41  Electrical     1459 non-null   object \n",
      " 42  1stFlrSF       1460 non-null   int64  \n",
      " 43  2ndFlrSF       1460 non-null   int64  \n",
      " 44  LowQualFinSF   1460 non-null   int64  \n",
      " 45  GrLivArea      1460 non-null   int64  \n",
      " 46  BsmtFullBath   1460 non-null   int64  \n",
      " 47  BsmtHalfBath   1460 non-null   int64  \n",
      " 48  FullBath       1460 non-null   int64  \n",
      " 49  HalfBath       1460 non-null   int64  \n",
      " 50  BedroomAbvGr   1460 non-null   int64  \n",
      " 51  KitchenAbvGr   1460 non-null   int64  \n",
      " 52  KitchenQual    1460 non-null   object \n",
      " 53  TotRmsAbvGrd   1460 non-null   int64  \n",
      " 54  Functional     1460 non-null   object \n",
      " 55  Fireplaces     1460 non-null   int64  \n",
      " 56  FireplaceQu    770 non-null    object \n",
      " 57  GarageType     1379 non-null   object \n",
      " 58  GarageYrBlt    1379 non-null   float64\n",
      " 59  GarageFinish   1379 non-null   object \n",
      " 60  GarageCars     1460 non-null   int64  \n",
      " 61  GarageArea     1460 non-null   int64  \n",
      " 62  GarageQual     1379 non-null   object \n",
      " 63  GarageCond     1379 non-null   object \n",
      " 64  PavedDrive     1460 non-null   object \n",
      " 65  WoodDeckSF     1460 non-null   int64  \n",
      " 66  OpenPorchSF    1460 non-null   int64  \n",
      " 67  EnclosedPorch  1460 non-null   int64  \n",
      " 68  3SsnPorch      1460 non-null   int64  \n",
      " 69  ScreenPorch    1460 non-null   int64  \n",
      " 70  PoolArea       1460 non-null   int64  \n",
      " 71  PoolQC         7 non-null      object \n",
      " 72  Fence          281 non-null    object \n",
      " 73  MiscFeature    54 non-null     object \n",
      " 74  MiscVal        1460 non-null   int64  \n",
      " 75  MoSold         1460 non-null   int64  \n",
      " 76  YrSold         1460 non-null   int64  \n",
      " 77  SaleType       1460 non-null   object \n",
      " 78  SaleCondition  1460 non-null   object \n",
      " 79  SalePrice      1460 non-null   int64  \n",
      "dtypes: float64(3), int64(34), object(43)\n",
      "memory usage: 923.9+ KB\n"
     ]
    },
    {
     "data": {
      "text/html": [
       "<div>\n",
       "<style scoped>\n",
       "    .dataframe tbody tr th:only-of-type {\n",
       "        vertical-align: middle;\n",
       "    }\n",
       "\n",
       "    .dataframe tbody tr th {\n",
       "        vertical-align: top;\n",
       "    }\n",
       "\n",
       "    .dataframe thead th {\n",
       "        text-align: right;\n",
       "    }\n",
       "</style>\n",
       "<table border=\"1\" class=\"dataframe\">\n",
       "  <thead>\n",
       "    <tr style=\"text-align: right;\">\n",
       "      <th></th>\n",
       "      <th>MSSubClass</th>\n",
       "      <th>MSZoning</th>\n",
       "      <th>LotFrontage</th>\n",
       "      <th>LotArea</th>\n",
       "      <th>Street</th>\n",
       "      <th>Alley</th>\n",
       "      <th>LotShape</th>\n",
       "      <th>LandContour</th>\n",
       "      <th>Utilities</th>\n",
       "      <th>LotConfig</th>\n",
       "      <th>...</th>\n",
       "      <th>PoolArea</th>\n",
       "      <th>PoolQC</th>\n",
       "      <th>Fence</th>\n",
       "      <th>MiscFeature</th>\n",
       "      <th>MiscVal</th>\n",
       "      <th>MoSold</th>\n",
       "      <th>YrSold</th>\n",
       "      <th>SaleType</th>\n",
       "      <th>SaleCondition</th>\n",
       "      <th>SalePrice</th>\n",
       "    </tr>\n",
       "    <tr>\n",
       "      <th>Id</th>\n",
       "      <th></th>\n",
       "      <th></th>\n",
       "      <th></th>\n",
       "      <th></th>\n",
       "      <th></th>\n",
       "      <th></th>\n",
       "      <th></th>\n",
       "      <th></th>\n",
       "      <th></th>\n",
       "      <th></th>\n",
       "      <th></th>\n",
       "      <th></th>\n",
       "      <th></th>\n",
       "      <th></th>\n",
       "      <th></th>\n",
       "      <th></th>\n",
       "      <th></th>\n",
       "      <th></th>\n",
       "      <th></th>\n",
       "      <th></th>\n",
       "      <th></th>\n",
       "    </tr>\n",
       "  </thead>\n",
       "  <tbody>\n",
       "    <tr>\n",
       "      <th>1</th>\n",
       "      <td>60</td>\n",
       "      <td>RL</td>\n",
       "      <td>65.0</td>\n",
       "      <td>8450</td>\n",
       "      <td>Pave</td>\n",
       "      <td>NaN</td>\n",
       "      <td>Reg</td>\n",
       "      <td>Lvl</td>\n",
       "      <td>AllPub</td>\n",
       "      <td>Inside</td>\n",
       "      <td>...</td>\n",
       "      <td>0</td>\n",
       "      <td>NaN</td>\n",
       "      <td>NaN</td>\n",
       "      <td>NaN</td>\n",
       "      <td>0</td>\n",
       "      <td>2</td>\n",
       "      <td>2008</td>\n",
       "      <td>WD</td>\n",
       "      <td>Normal</td>\n",
       "      <td>208500</td>\n",
       "    </tr>\n",
       "    <tr>\n",
       "      <th>2</th>\n",
       "      <td>20</td>\n",
       "      <td>RL</td>\n",
       "      <td>80.0</td>\n",
       "      <td>9600</td>\n",
       "      <td>Pave</td>\n",
       "      <td>NaN</td>\n",
       "      <td>Reg</td>\n",
       "      <td>Lvl</td>\n",
       "      <td>AllPub</td>\n",
       "      <td>FR2</td>\n",
       "      <td>...</td>\n",
       "      <td>0</td>\n",
       "      <td>NaN</td>\n",
       "      <td>NaN</td>\n",
       "      <td>NaN</td>\n",
       "      <td>0</td>\n",
       "      <td>5</td>\n",
       "      <td>2007</td>\n",
       "      <td>WD</td>\n",
       "      <td>Normal</td>\n",
       "      <td>181500</td>\n",
       "    </tr>\n",
       "    <tr>\n",
       "      <th>3</th>\n",
       "      <td>60</td>\n",
       "      <td>RL</td>\n",
       "      <td>68.0</td>\n",
       "      <td>11250</td>\n",
       "      <td>Pave</td>\n",
       "      <td>NaN</td>\n",
       "      <td>IR1</td>\n",
       "      <td>Lvl</td>\n",
       "      <td>AllPub</td>\n",
       "      <td>Inside</td>\n",
       "      <td>...</td>\n",
       "      <td>0</td>\n",
       "      <td>NaN</td>\n",
       "      <td>NaN</td>\n",
       "      <td>NaN</td>\n",
       "      <td>0</td>\n",
       "      <td>9</td>\n",
       "      <td>2008</td>\n",
       "      <td>WD</td>\n",
       "      <td>Normal</td>\n",
       "      <td>223500</td>\n",
       "    </tr>\n",
       "    <tr>\n",
       "      <th>4</th>\n",
       "      <td>70</td>\n",
       "      <td>RL</td>\n",
       "      <td>60.0</td>\n",
       "      <td>9550</td>\n",
       "      <td>Pave</td>\n",
       "      <td>NaN</td>\n",
       "      <td>IR1</td>\n",
       "      <td>Lvl</td>\n",
       "      <td>AllPub</td>\n",
       "      <td>Corner</td>\n",
       "      <td>...</td>\n",
       "      <td>0</td>\n",
       "      <td>NaN</td>\n",
       "      <td>NaN</td>\n",
       "      <td>NaN</td>\n",
       "      <td>0</td>\n",
       "      <td>2</td>\n",
       "      <td>2006</td>\n",
       "      <td>WD</td>\n",
       "      <td>Abnorml</td>\n",
       "      <td>140000</td>\n",
       "    </tr>\n",
       "    <tr>\n",
       "      <th>5</th>\n",
       "      <td>60</td>\n",
       "      <td>RL</td>\n",
       "      <td>84.0</td>\n",
       "      <td>14260</td>\n",
       "      <td>Pave</td>\n",
       "      <td>NaN</td>\n",
       "      <td>IR1</td>\n",
       "      <td>Lvl</td>\n",
       "      <td>AllPub</td>\n",
       "      <td>FR2</td>\n",
       "      <td>...</td>\n",
       "      <td>0</td>\n",
       "      <td>NaN</td>\n",
       "      <td>NaN</td>\n",
       "      <td>NaN</td>\n",
       "      <td>0</td>\n",
       "      <td>12</td>\n",
       "      <td>2008</td>\n",
       "      <td>WD</td>\n",
       "      <td>Normal</td>\n",
       "      <td>250000</td>\n",
       "    </tr>\n",
       "  </tbody>\n",
       "</table>\n",
       "<p>5 rows × 80 columns</p>\n",
       "</div>"
      ],
      "text/plain": [
       "    MSSubClass MSZoning  LotFrontage  LotArea Street Alley LotShape  \\\n",
       "Id                                                                    \n",
       "1           60       RL         65.0     8450   Pave   NaN      Reg   \n",
       "2           20       RL         80.0     9600   Pave   NaN      Reg   \n",
       "3           60       RL         68.0    11250   Pave   NaN      IR1   \n",
       "4           70       RL         60.0     9550   Pave   NaN      IR1   \n",
       "5           60       RL         84.0    14260   Pave   NaN      IR1   \n",
       "\n",
       "   LandContour Utilities LotConfig  ... PoolArea PoolQC Fence MiscFeature  \\\n",
       "Id                                  ...                                     \n",
       "1          Lvl    AllPub    Inside  ...        0    NaN   NaN         NaN   \n",
       "2          Lvl    AllPub       FR2  ...        0    NaN   NaN         NaN   \n",
       "3          Lvl    AllPub    Inside  ...        0    NaN   NaN         NaN   \n",
       "4          Lvl    AllPub    Corner  ...        0    NaN   NaN         NaN   \n",
       "5          Lvl    AllPub       FR2  ...        0    NaN   NaN         NaN   \n",
       "\n",
       "   MiscVal MoSold  YrSold  SaleType  SaleCondition  SalePrice  \n",
       "Id                                                             \n",
       "1        0      2    2008        WD         Normal     208500  \n",
       "2        0      5    2007        WD         Normal     181500  \n",
       "3        0      9    2008        WD         Normal     223500  \n",
       "4        0      2    2006        WD        Abnorml     140000  \n",
       "5        0     12    2008        WD         Normal     250000  \n",
       "\n",
       "[5 rows x 80 columns]"
      ]
     },
     "execution_count": 2,
     "metadata": {},
     "output_type": "execute_result"
    }
   ],
   "source": [
    "print('Reading data...')\n",
    "\n",
    "df = pd.read_csv('../input/house-prices-advanced-regression-techniques/train.csv', index_col='Id')\n",
    "\n",
    "df.info()\n",
    "df.head()"
   ]
  },
  {
   "cell_type": "markdown",
   "id": "61c9c6b6",
   "metadata": {
    "_cell_guid": "6045f3f9-ebad-42c2-b1f5-ee8847bdfe13",
    "_uuid": "466e05cf-91ef-4acc-8b51-1699cd2614bd",
    "papermill": {
     "duration": 0.042809,
     "end_time": "2022-05-05T22:11:18.384454",
     "exception": false,
     "start_time": "2022-05-05T22:11:18.341645",
     "status": "completed"
    },
    "tags": []
   },
   "source": [
    "# Exploratory Data Analysis"
   ]
  },
  {
   "cell_type": "markdown",
   "id": "dbbffc3d",
   "metadata": {
    "papermill": {
     "duration": 0.043274,
     "end_time": "2022-05-05T22:11:18.470892",
     "exception": false,
     "start_time": "2022-05-05T22:11:18.427618",
     "status": "completed"
    },
    "tags": []
   },
   "source": [
    "### Drop columns with many missing values"
   ]
  },
  {
   "cell_type": "code",
   "execution_count": 3,
   "id": "11e50c52",
   "metadata": {
    "execution": {
     "iopub.execute_input": "2022-05-05T22:11:18.561014Z",
     "iopub.status.busy": "2022-05-05T22:11:18.560590Z",
     "iopub.status.idle": "2022-05-05T22:11:18.579217Z",
     "shell.execute_reply": "2022-05-05T22:11:18.578318Z"
    },
    "papermill": {
     "duration": 0.065383,
     "end_time": "2022-05-05T22:11:18.581383",
     "exception": false,
     "start_time": "2022-05-05T22:11:18.516000",
     "status": "completed"
    },
    "tags": []
   },
   "outputs": [
    {
     "data": {
      "text/plain": [
       "Alley          0.937671\n",
       "FireplaceQu    0.472603\n",
       "PoolQC         0.995205\n",
       "Fence          0.807534\n",
       "MiscFeature    0.963014\n",
       "dtype: float64"
      ]
     },
     "execution_count": 3,
     "metadata": {},
     "output_type": "execute_result"
    }
   ],
   "source": [
    "df.loc[:, df.isna().mean() > 0.4].isna().mean()"
   ]
  },
  {
   "cell_type": "code",
   "execution_count": 4,
   "id": "ee8e9413",
   "metadata": {
    "execution": {
     "iopub.execute_input": "2022-05-05T22:11:18.671521Z",
     "iopub.status.busy": "2022-05-05T22:11:18.671225Z",
     "iopub.status.idle": "2022-05-05T22:11:18.677447Z",
     "shell.execute_reply": "2022-05-05T22:11:18.676633Z"
    },
    "papermill": {
     "duration": 0.054422,
     "end_time": "2022-05-05T22:11:18.679447",
     "exception": false,
     "start_time": "2022-05-05T22:11:18.625025",
     "status": "completed"
    },
    "tags": []
   },
   "outputs": [],
   "source": [
    "df = df.drop(['Alley', 'FireplaceQu', 'PoolQC', 'Fence', 'MiscFeature'], axis=1)"
   ]
  },
  {
   "cell_type": "markdown",
   "id": "ef43480b",
   "metadata": {
    "_cell_guid": "8037cfd6-c9be-4b39-be2b-126e8af873b0",
    "_uuid": "08c62b95-9008-40dd-ac79-558f95c80136",
    "papermill": {
     "duration": 0.043159,
     "end_time": "2022-05-05T22:11:18.766418",
     "exception": false,
     "start_time": "2022-05-05T22:11:18.723259",
     "status": "completed"
    },
    "tags": []
   },
   "source": [
    "### Splitting features and target"
   ]
  },
  {
   "cell_type": "code",
   "execution_count": 5,
   "id": "62913c83",
   "metadata": {
    "_cell_guid": "27bc17d9-3015-4c95-81da-33732f49c10f",
    "_uuid": "9db26e25-c641-4f60-8303-cad589698e28",
    "collapsed": false,
    "execution": {
     "iopub.execute_input": "2022-05-05T22:11:18.855513Z",
     "iopub.status.busy": "2022-05-05T22:11:18.854599Z",
     "iopub.status.idle": "2022-05-05T22:11:18.862868Z",
     "shell.execute_reply": "2022-05-05T22:11:18.862195Z"
    },
    "jupyter": {
     "outputs_hidden": false
    },
    "papermill": {
     "duration": 0.055185,
     "end_time": "2022-05-05T22:11:18.864984",
     "exception": false,
     "start_time": "2022-05-05T22:11:18.809799",
     "status": "completed"
    },
    "tags": []
   },
   "outputs": [],
   "source": [
    "X = df.drop('SalePrice', axis=1)\n",
    "y = np.log(df['SalePrice'])"
   ]
  },
  {
   "cell_type": "markdown",
   "id": "802193e3",
   "metadata": {
    "_cell_guid": "442f5315-ab5b-4c64-9020-0ce9c4de50ff",
    "_uuid": "1c9dde4f-6036-4cf1-867a-eeddca906457",
    "papermill": {
     "duration": 0.043347,
     "end_time": "2022-05-05T22:11:18.956388",
     "exception": false,
     "start_time": "2022-05-05T22:11:18.913041",
     "status": "completed"
    },
    "tags": []
   },
   "source": [
    "### Defining numerical and categorical features"
   ]
  },
  {
   "cell_type": "code",
   "execution_count": 6,
   "id": "9638783e",
   "metadata": {
    "_cell_guid": "26559abe-f6d9-4583-989c-fc2446806970",
    "_uuid": "b1a005bf-a06a-4018-8fc2-eab66ed18047",
    "collapsed": false,
    "execution": {
     "iopub.execute_input": "2022-05-05T22:11:19.047789Z",
     "iopub.status.busy": "2022-05-05T22:11:19.046879Z",
     "iopub.status.idle": "2022-05-05T22:11:19.054899Z",
     "shell.execute_reply": "2022-05-05T22:11:19.054197Z"
    },
    "jupyter": {
     "outputs_hidden": false
    },
    "papermill": {
     "duration": 0.056104,
     "end_time": "2022-05-05T22:11:19.056996",
     "exception": false,
     "start_time": "2022-05-05T22:11:19.000892",
     "status": "completed"
    },
    "tags": []
   },
   "outputs": [],
   "source": [
    "nominal_features = [\n",
    "    'MSSubClass', 'MSZoning', 'Street', 'LandContour', 'LotConfig', 'Neighborhood', \n",
    "    'Condition1', 'Condition2', 'BldgType', 'HouseStyle', 'RoofStyle', 'RoofMatl', \n",
    "    'Exterior1st', 'Exterior2nd', 'MasVnrType', 'Foundation', 'Heating', 'SaleType', \n",
    "    'SaleCondition','GarageType'\n",
    "]\n",
    "\n",
    "ordinal_features = [\n",
    "    'LotShape', 'Utilities', 'LandSlope', 'OverallQual', 'OverallCond', 'ExterQual', \n",
    "    'ExterCond', 'HeatingQC', 'CentralAir', 'KitchenQual', 'Functional', 'PavedDrive', \n",
    "    'Electrical', 'BsmtQual', 'BsmtCond', 'BsmtExposure', 'BsmtFinType1', 'BsmtFinType2', \n",
    "    'GarageFinish', 'GarageQual', 'GarageCond'\n",
    "]\n",
    "\n",
    "continuous_features = [\n",
    "    'LotFrontage', 'LotArea', 'MasVnrArea', 'BsmtFinSF1', 'BsmtFinSF2', 'BsmtUnfSF', \n",
    "    'TotalBsmtSF', '1stFlrSF', '2ndFlrSF', 'LowQualFinSF', 'GrLivArea', 'GarageArea', \n",
    "    'WoodDeckSF', 'OpenPorchSF', 'EnclosedPorch', '3SsnPorch', 'ScreenPorch', 'PoolArea', \n",
    "    'MiscVal'\n",
    "]\n",
    "\n",
    "discrete_features = [\n",
    "    'YearBuilt', 'YearRemodAdd', 'BsmtFullBath', 'BsmtHalfBath', 'FullBath', 'HalfBath', \n",
    "    'BedroomAbvGr', 'KitchenAbvGr', 'TotRmsAbvGrd', 'Fireplaces', 'GarageYrBlt', 'GarageCars', \n",
    "    'MoSold', 'YrSold'\n",
    "]"
   ]
  },
  {
   "cell_type": "markdown",
   "id": "fe451334",
   "metadata": {
    "_cell_guid": "58702060-5e81-4471-8a1f-8596b5228a05",
    "_uuid": "1c1df372-30cb-4c39-8ad2-34ec5cb364a9",
    "papermill": {
     "duration": 0.044989,
     "end_time": "2022-05-05T22:11:19.145694",
     "exception": false,
     "start_time": "2022-05-05T22:11:19.100705",
     "status": "completed"
    },
    "tags": []
   },
   "source": [
    "### Filling missing values"
   ]
  },
  {
   "cell_type": "markdown",
   "id": "9bcd1217",
   "metadata": {
    "_cell_guid": "b405ee7c-a38e-4cff-8321-0fae020c7870",
    "_uuid": "1bda4732-b014-4553-ac62-f224f8265599",
    "papermill": {
     "duration": 0.043245,
     "end_time": "2022-05-05T22:11:19.233422",
     "exception": false,
     "start_time": "2022-05-05T22:11:19.190177",
     "status": "completed"
    },
    "tags": []
   },
   "source": [
    "#### Filling missing categorical values with None"
   ]
  },
  {
   "cell_type": "code",
   "execution_count": 7,
   "id": "3163d7af",
   "metadata": {
    "_cell_guid": "111f8756-720e-45a3-aa58-2d5f451aa740",
    "_uuid": "2db46684-b71f-42fe-beb5-84c4bf627933",
    "collapsed": false,
    "execution": {
     "iopub.execute_input": "2022-05-05T22:11:19.322231Z",
     "iopub.status.busy": "2022-05-05T22:11:19.321920Z",
     "iopub.status.idle": "2022-05-05T22:11:19.346326Z",
     "shell.execute_reply": "2022-05-05T22:11:19.345402Z"
    },
    "jupyter": {
     "outputs_hidden": false
    },
    "papermill": {
     "duration": 0.071716,
     "end_time": "2022-05-05T22:11:19.348655",
     "exception": false,
     "start_time": "2022-05-05T22:11:19.276939",
     "status": "completed"
    },
    "tags": []
   },
   "outputs": [],
   "source": [
    "for col in (nominal_features + ordinal_features):\n",
    "    X[col] = X[col].fillna('None')"
   ]
  },
  {
   "cell_type": "markdown",
   "id": "e4f30e57",
   "metadata": {
    "_cell_guid": "73509ee7-c829-44fb-b299-3dc3e562bf73",
    "_uuid": "7046059a-044c-48d2-89e9-5368c70c88e6",
    "papermill": {
     "duration": 0.043676,
     "end_time": "2022-05-05T22:11:19.436042",
     "exception": false,
     "start_time": "2022-05-05T22:11:19.392366",
     "status": "completed"
    },
    "tags": []
   },
   "source": [
    "#### Filling missing numerical values with 0"
   ]
  },
  {
   "cell_type": "code",
   "execution_count": 8,
   "id": "5e87df11",
   "metadata": {
    "_cell_guid": "ce89ce2f-d9ba-4488-9882-b97542379ae5",
    "_uuid": "339b0819-1b4a-4513-ad94-3805f02e0f4f",
    "collapsed": false,
    "execution": {
     "iopub.execute_input": "2022-05-05T22:11:19.526555Z",
     "iopub.status.busy": "2022-05-05T22:11:19.526254Z",
     "iopub.status.idle": "2022-05-05T22:11:19.538194Z",
     "shell.execute_reply": "2022-05-05T22:11:19.537305Z"
    },
    "jupyter": {
     "outputs_hidden": false
    },
    "papermill": {
     "duration": 0.060338,
     "end_time": "2022-05-05T22:11:19.540518",
     "exception": false,
     "start_time": "2022-05-05T22:11:19.480180",
     "status": "completed"
    },
    "tags": []
   },
   "outputs": [],
   "source": [
    "for col in (continuous_features + discrete_features):\n",
    "    X[col] = X[col].fillna(0)"
   ]
  },
  {
   "cell_type": "markdown",
   "id": "fd6bbd4a",
   "metadata": {
    "_cell_guid": "c7fe20ad-d487-4b3a-984a-f1acd6e3386b",
    "_uuid": "68823ad1-c7e9-476e-9650-baa09f543620",
    "papermill": {
     "duration": 0.043139,
     "end_time": "2022-05-05T22:11:19.627750",
     "exception": false,
     "start_time": "2022-05-05T22:11:19.584611",
     "status": "completed"
    },
    "tags": []
   },
   "source": [
    "### Encoding Categorical Features"
   ]
  },
  {
   "cell_type": "markdown",
   "id": "37d214a5",
   "metadata": {
    "_cell_guid": "dbc306b4-fcee-48f3-bb5d-7fe7f2f0b325",
    "_uuid": "e17d3308-ec90-41bb-8be4-62b9e57d214b",
    "papermill": {
     "duration": 0.04337,
     "end_time": "2022-05-05T22:11:19.715221",
     "exception": false,
     "start_time": "2022-05-05T22:11:19.671851",
     "status": "completed"
    },
    "tags": []
   },
   "source": [
    "#### One-hot encoding"
   ]
  },
  {
   "cell_type": "code",
   "execution_count": 9,
   "id": "c06d973f",
   "metadata": {
    "_cell_guid": "87ef8944-3809-48bf-83ed-7c916ac4300f",
    "_uuid": "3c29ebf5-c577-442c-aae4-e44c6d7a6591",
    "collapsed": false,
    "execution": {
     "iopub.execute_input": "2022-05-05T22:11:19.803734Z",
     "iopub.status.busy": "2022-05-05T22:11:19.803428Z",
     "iopub.status.idle": "2022-05-05T22:11:19.875506Z",
     "shell.execute_reply": "2022-05-05T22:11:19.874373Z"
    },
    "jupyter": {
     "outputs_hidden": false
    },
    "papermill": {
     "duration": 0.118995,
     "end_time": "2022-05-05T22:11:19.877711",
     "exception": false,
     "start_time": "2022-05-05T22:11:19.758716",
     "status": "completed"
    },
    "tags": []
   },
   "outputs": [
    {
     "name": "stdout",
     "output_type": "stream",
     "text": [
      "\n",
      "One-hot encoding...\n",
      "\n",
      "<class 'pandas.core.frame.DataFrame'>\n",
      "Int64Index: 1460 entries, 1 to 1460\n",
      "Columns: 208 entries, LotFrontage to GarageType_None\n",
      "dtypes: float64(3), int64(32), object(19), uint8(154)\n",
      "memory usage: 846.9+ KB\n"
     ]
    },
    {
     "data": {
      "text/html": [
       "<div>\n",
       "<style scoped>\n",
       "    .dataframe tbody tr th:only-of-type {\n",
       "        vertical-align: middle;\n",
       "    }\n",
       "\n",
       "    .dataframe tbody tr th {\n",
       "        vertical-align: top;\n",
       "    }\n",
       "\n",
       "    .dataframe thead th {\n",
       "        text-align: right;\n",
       "    }\n",
       "</style>\n",
       "<table border=\"1\" class=\"dataframe\">\n",
       "  <thead>\n",
       "    <tr style=\"text-align: right;\">\n",
       "      <th></th>\n",
       "      <th>LotFrontage</th>\n",
       "      <th>LotArea</th>\n",
       "      <th>LotShape</th>\n",
       "      <th>Utilities</th>\n",
       "      <th>LandSlope</th>\n",
       "      <th>OverallQual</th>\n",
       "      <th>OverallCond</th>\n",
       "      <th>YearBuilt</th>\n",
       "      <th>YearRemodAdd</th>\n",
       "      <th>MasVnrArea</th>\n",
       "      <th>...</th>\n",
       "      <th>SaleCondition_Family</th>\n",
       "      <th>SaleCondition_Normal</th>\n",
       "      <th>SaleCondition_Partial</th>\n",
       "      <th>GarageType_2Types</th>\n",
       "      <th>GarageType_Attchd</th>\n",
       "      <th>GarageType_Basment</th>\n",
       "      <th>GarageType_BuiltIn</th>\n",
       "      <th>GarageType_CarPort</th>\n",
       "      <th>GarageType_Detchd</th>\n",
       "      <th>GarageType_None</th>\n",
       "    </tr>\n",
       "    <tr>\n",
       "      <th>Id</th>\n",
       "      <th></th>\n",
       "      <th></th>\n",
       "      <th></th>\n",
       "      <th></th>\n",
       "      <th></th>\n",
       "      <th></th>\n",
       "      <th></th>\n",
       "      <th></th>\n",
       "      <th></th>\n",
       "      <th></th>\n",
       "      <th></th>\n",
       "      <th></th>\n",
       "      <th></th>\n",
       "      <th></th>\n",
       "      <th></th>\n",
       "      <th></th>\n",
       "      <th></th>\n",
       "      <th></th>\n",
       "      <th></th>\n",
       "      <th></th>\n",
       "      <th></th>\n",
       "    </tr>\n",
       "  </thead>\n",
       "  <tbody>\n",
       "    <tr>\n",
       "      <th>1</th>\n",
       "      <td>65.0</td>\n",
       "      <td>8450</td>\n",
       "      <td>Reg</td>\n",
       "      <td>AllPub</td>\n",
       "      <td>Gtl</td>\n",
       "      <td>7</td>\n",
       "      <td>5</td>\n",
       "      <td>2003</td>\n",
       "      <td>2003</td>\n",
       "      <td>196.0</td>\n",
       "      <td>...</td>\n",
       "      <td>0</td>\n",
       "      <td>1</td>\n",
       "      <td>0</td>\n",
       "      <td>0</td>\n",
       "      <td>1</td>\n",
       "      <td>0</td>\n",
       "      <td>0</td>\n",
       "      <td>0</td>\n",
       "      <td>0</td>\n",
       "      <td>0</td>\n",
       "    </tr>\n",
       "    <tr>\n",
       "      <th>2</th>\n",
       "      <td>80.0</td>\n",
       "      <td>9600</td>\n",
       "      <td>Reg</td>\n",
       "      <td>AllPub</td>\n",
       "      <td>Gtl</td>\n",
       "      <td>6</td>\n",
       "      <td>8</td>\n",
       "      <td>1976</td>\n",
       "      <td>1976</td>\n",
       "      <td>0.0</td>\n",
       "      <td>...</td>\n",
       "      <td>0</td>\n",
       "      <td>1</td>\n",
       "      <td>0</td>\n",
       "      <td>0</td>\n",
       "      <td>1</td>\n",
       "      <td>0</td>\n",
       "      <td>0</td>\n",
       "      <td>0</td>\n",
       "      <td>0</td>\n",
       "      <td>0</td>\n",
       "    </tr>\n",
       "    <tr>\n",
       "      <th>3</th>\n",
       "      <td>68.0</td>\n",
       "      <td>11250</td>\n",
       "      <td>IR1</td>\n",
       "      <td>AllPub</td>\n",
       "      <td>Gtl</td>\n",
       "      <td>7</td>\n",
       "      <td>5</td>\n",
       "      <td>2001</td>\n",
       "      <td>2002</td>\n",
       "      <td>162.0</td>\n",
       "      <td>...</td>\n",
       "      <td>0</td>\n",
       "      <td>1</td>\n",
       "      <td>0</td>\n",
       "      <td>0</td>\n",
       "      <td>1</td>\n",
       "      <td>0</td>\n",
       "      <td>0</td>\n",
       "      <td>0</td>\n",
       "      <td>0</td>\n",
       "      <td>0</td>\n",
       "    </tr>\n",
       "    <tr>\n",
       "      <th>4</th>\n",
       "      <td>60.0</td>\n",
       "      <td>9550</td>\n",
       "      <td>IR1</td>\n",
       "      <td>AllPub</td>\n",
       "      <td>Gtl</td>\n",
       "      <td>7</td>\n",
       "      <td>5</td>\n",
       "      <td>1915</td>\n",
       "      <td>1970</td>\n",
       "      <td>0.0</td>\n",
       "      <td>...</td>\n",
       "      <td>0</td>\n",
       "      <td>0</td>\n",
       "      <td>0</td>\n",
       "      <td>0</td>\n",
       "      <td>0</td>\n",
       "      <td>0</td>\n",
       "      <td>0</td>\n",
       "      <td>0</td>\n",
       "      <td>1</td>\n",
       "      <td>0</td>\n",
       "    </tr>\n",
       "    <tr>\n",
       "      <th>5</th>\n",
       "      <td>84.0</td>\n",
       "      <td>14260</td>\n",
       "      <td>IR1</td>\n",
       "      <td>AllPub</td>\n",
       "      <td>Gtl</td>\n",
       "      <td>8</td>\n",
       "      <td>5</td>\n",
       "      <td>2000</td>\n",
       "      <td>2000</td>\n",
       "      <td>350.0</td>\n",
       "      <td>...</td>\n",
       "      <td>0</td>\n",
       "      <td>1</td>\n",
       "      <td>0</td>\n",
       "      <td>0</td>\n",
       "      <td>1</td>\n",
       "      <td>0</td>\n",
       "      <td>0</td>\n",
       "      <td>0</td>\n",
       "      <td>0</td>\n",
       "      <td>0</td>\n",
       "    </tr>\n",
       "  </tbody>\n",
       "</table>\n",
       "<p>5 rows × 208 columns</p>\n",
       "</div>"
      ],
      "text/plain": [
       "    LotFrontage  LotArea LotShape Utilities LandSlope  OverallQual  \\\n",
       "Id                                                                   \n",
       "1          65.0     8450      Reg    AllPub       Gtl            7   \n",
       "2          80.0     9600      Reg    AllPub       Gtl            6   \n",
       "3          68.0    11250      IR1    AllPub       Gtl            7   \n",
       "4          60.0     9550      IR1    AllPub       Gtl            7   \n",
       "5          84.0    14260      IR1    AllPub       Gtl            8   \n",
       "\n",
       "    OverallCond  YearBuilt  YearRemodAdd  MasVnrArea  ...  \\\n",
       "Id                                                    ...   \n",
       "1             5       2003          2003       196.0  ...   \n",
       "2             8       1976          1976         0.0  ...   \n",
       "3             5       2001          2002       162.0  ...   \n",
       "4             5       1915          1970         0.0  ...   \n",
       "5             5       2000          2000       350.0  ...   \n",
       "\n",
       "   SaleCondition_Family SaleCondition_Normal SaleCondition_Partial  \\\n",
       "Id                                                                   \n",
       "1                     0                    1                     0   \n",
       "2                     0                    1                     0   \n",
       "3                     0                    1                     0   \n",
       "4                     0                    0                     0   \n",
       "5                     0                    1                     0   \n",
       "\n",
       "   GarageType_2Types GarageType_Attchd GarageType_Basment  GarageType_BuiltIn  \\\n",
       "Id                                                                              \n",
       "1                  0                 1                  0                   0   \n",
       "2                  0                 1                  0                   0   \n",
       "3                  0                 1                  0                   0   \n",
       "4                  0                 0                  0                   0   \n",
       "5                  0                 1                  0                   0   \n",
       "\n",
       "   GarageType_CarPort  GarageType_Detchd  GarageType_None  \n",
       "Id                                                         \n",
       "1                   0                  0                0  \n",
       "2                   0                  0                0  \n",
       "3                   0                  0                0  \n",
       "4                   0                  1                0  \n",
       "5                   0                  0                0  \n",
       "\n",
       "[5 rows x 208 columns]"
      ]
     },
     "execution_count": 9,
     "metadata": {},
     "output_type": "execute_result"
    }
   ],
   "source": [
    "print('\\nOne-hot encoding...\\n')\n",
    "\n",
    "dummies = pd.get_dummies(X[nominal_features]).sort_index()\n",
    "\n",
    "X = pd.concat([X, dummies], axis=1)\n",
    "X = X.drop(nominal_features, axis=1)\n",
    "\n",
    "X.info()\n",
    "X.head()"
   ]
  },
  {
   "cell_type": "markdown",
   "id": "0567732f",
   "metadata": {
    "_cell_guid": "a4679c2f-749a-48e4-80b9-beb00847247e",
    "_uuid": "da710bdd-9c9c-4358-88ef-4bd14f9e1f44",
    "papermill": {
     "duration": 0.04467,
     "end_time": "2022-05-05T22:11:19.967522",
     "exception": false,
     "start_time": "2022-05-05T22:11:19.922852",
     "status": "completed"
    },
    "tags": []
   },
   "source": [
    "#### Ordinal encoding"
   ]
  },
  {
   "cell_type": "code",
   "execution_count": 10,
   "id": "55a7beb7",
   "metadata": {
    "_cell_guid": "60dad8dd-20df-4f30-b18d-4c6ee1e8670f",
    "_uuid": "d7ca921c-49d4-41ac-81ce-0c3bb1cb61b6",
    "collapsed": false,
    "execution": {
     "iopub.execute_input": "2022-05-05T22:11:20.060809Z",
     "iopub.status.busy": "2022-05-05T22:11:20.060507Z",
     "iopub.status.idle": "2022-05-05T22:11:20.072112Z",
     "shell.execute_reply": "2022-05-05T22:11:20.071442Z"
    },
    "jupyter": {
     "outputs_hidden": false
    },
    "papermill": {
     "duration": 0.0605,
     "end_time": "2022-05-05T22:11:20.074145",
     "exception": false,
     "start_time": "2022-05-05T22:11:20.013645",
     "status": "completed"
    },
    "tags": []
   },
   "outputs": [],
   "source": [
    "rating = {'None': 0, 'Po': 1, 'Fa': 2, 'TA': 3, 'Gd': 4, 'Ex': 5}\n",
    "\n",
    "ordinal_encoding = {\n",
    "    'LotShape': {'None': 0, 'Reg': 1, 'IR1': 2, 'IR2': 3, 'IR3': 4}, \n",
    "    'Utilities': {'None': 0, 'ElO': 1, 'NoSeWa': 2, 'NoSeWr': 3, 'AllPub': 4}, \n",
    "    'LandSlope': {'None': 0, 'Gtl': 1, 'Mod': 2, 'Sev': 3}, \n",
    "    'ExterQual': rating, \n",
    "    'ExterCond': rating, \n",
    "    'BsmtQual': rating, \n",
    "    'BsmtCond': rating, \n",
    "    'BsmtExposure': {'None': 0, 'No': 1, 'Mn': 2, 'Av': 3, 'Gd': 4}, \n",
    "    'BsmtFinType1': {'None': 0, 'Unf': 1, 'LwQ': 2, 'Rec': 3, 'BLQ': 4, 'ALQ': 5, 'GLQ': 6}, \n",
    "    'BsmtFinType2': {'None': 0, 'Unf': 1, 'LwQ': 2, 'Rec': 3, 'BLQ': 4, 'ALQ': 5, 'GLQ': 6}, \n",
    "    'HeatingQC': rating, \n",
    "    'CentralAir': {'None': 0, 'N': 1, 'Y': 2}, \n",
    "    'Electrical': {'None': 0, 'Mix': 1, 'FuseP': 2, 'FuseF': 3, 'FuseA': 4, 'SBrkr': 5}, \n",
    "    'KitchenQual': rating, \n",
    "    'Functional': {'None': 0, 'Sal': 1, 'Sev': 2, 'Maj2': 3, 'Maj1': 4, 'Mod': 5, 'Min2': 6, 'Min1': 7, 'Typ': 8}, \n",
    "    'GarageFinish': {'None': 0, 'Unf': 1, 'RFn': 2, 'Fin': 3}, \n",
    "    'GarageQual': rating, \n",
    "    'GarageCond': rating, \n",
    "    'PavedDrive': {'None': 0, 'N': 1, 'P': 2, 'Y': 3}\n",
    "}"
   ]
  },
  {
   "cell_type": "code",
   "execution_count": 11,
   "id": "c7230916",
   "metadata": {
    "_cell_guid": "1c16e66a-2558-43c9-9489-f97cbb2b464f",
    "_uuid": "3d64a354-d083-4805-a030-2384a58d3a9a",
    "collapsed": false,
    "execution": {
     "iopub.execute_input": "2022-05-05T22:11:20.165770Z",
     "iopub.status.busy": "2022-05-05T22:11:20.165197Z",
     "iopub.status.idle": "2022-05-05T22:11:20.375069Z",
     "shell.execute_reply": "2022-05-05T22:11:20.373882Z"
    },
    "jupyter": {
     "outputs_hidden": false
    },
    "papermill": {
     "duration": 0.259015,
     "end_time": "2022-05-05T22:11:20.378209",
     "exception": false,
     "start_time": "2022-05-05T22:11:20.119194",
     "status": "completed"
    },
    "tags": []
   },
   "outputs": [
    {
     "name": "stdout",
     "output_type": "stream",
     "text": [
      "\n",
      "Ordinal encoding...\n",
      "\n",
      "<class 'pandas.core.frame.DataFrame'>\n",
      "Int64Index: 1460 entries, 1 to 1460\n",
      "Columns: 208 entries, LotFrontage to GarageType_None\n",
      "dtypes: float64(3), int64(51), uint8(154)\n",
      "memory usage: 846.9 KB\n"
     ]
    },
    {
     "data": {
      "text/html": [
       "<div>\n",
       "<style scoped>\n",
       "    .dataframe tbody tr th:only-of-type {\n",
       "        vertical-align: middle;\n",
       "    }\n",
       "\n",
       "    .dataframe tbody tr th {\n",
       "        vertical-align: top;\n",
       "    }\n",
       "\n",
       "    .dataframe thead th {\n",
       "        text-align: right;\n",
       "    }\n",
       "</style>\n",
       "<table border=\"1\" class=\"dataframe\">\n",
       "  <thead>\n",
       "    <tr style=\"text-align: right;\">\n",
       "      <th></th>\n",
       "      <th>LotFrontage</th>\n",
       "      <th>LotArea</th>\n",
       "      <th>LotShape</th>\n",
       "      <th>Utilities</th>\n",
       "      <th>LandSlope</th>\n",
       "      <th>OverallQual</th>\n",
       "      <th>OverallCond</th>\n",
       "      <th>YearBuilt</th>\n",
       "      <th>YearRemodAdd</th>\n",
       "      <th>MasVnrArea</th>\n",
       "      <th>...</th>\n",
       "      <th>SaleCondition_Family</th>\n",
       "      <th>SaleCondition_Normal</th>\n",
       "      <th>SaleCondition_Partial</th>\n",
       "      <th>GarageType_2Types</th>\n",
       "      <th>GarageType_Attchd</th>\n",
       "      <th>GarageType_Basment</th>\n",
       "      <th>GarageType_BuiltIn</th>\n",
       "      <th>GarageType_CarPort</th>\n",
       "      <th>GarageType_Detchd</th>\n",
       "      <th>GarageType_None</th>\n",
       "    </tr>\n",
       "    <tr>\n",
       "      <th>Id</th>\n",
       "      <th></th>\n",
       "      <th></th>\n",
       "      <th></th>\n",
       "      <th></th>\n",
       "      <th></th>\n",
       "      <th></th>\n",
       "      <th></th>\n",
       "      <th></th>\n",
       "      <th></th>\n",
       "      <th></th>\n",
       "      <th></th>\n",
       "      <th></th>\n",
       "      <th></th>\n",
       "      <th></th>\n",
       "      <th></th>\n",
       "      <th></th>\n",
       "      <th></th>\n",
       "      <th></th>\n",
       "      <th></th>\n",
       "      <th></th>\n",
       "      <th></th>\n",
       "    </tr>\n",
       "  </thead>\n",
       "  <tbody>\n",
       "    <tr>\n",
       "      <th>1</th>\n",
       "      <td>65.0</td>\n",
       "      <td>8450</td>\n",
       "      <td>1</td>\n",
       "      <td>4</td>\n",
       "      <td>1</td>\n",
       "      <td>7</td>\n",
       "      <td>5</td>\n",
       "      <td>2003</td>\n",
       "      <td>2003</td>\n",
       "      <td>196.0</td>\n",
       "      <td>...</td>\n",
       "      <td>0</td>\n",
       "      <td>1</td>\n",
       "      <td>0</td>\n",
       "      <td>0</td>\n",
       "      <td>1</td>\n",
       "      <td>0</td>\n",
       "      <td>0</td>\n",
       "      <td>0</td>\n",
       "      <td>0</td>\n",
       "      <td>0</td>\n",
       "    </tr>\n",
       "    <tr>\n",
       "      <th>2</th>\n",
       "      <td>80.0</td>\n",
       "      <td>9600</td>\n",
       "      <td>1</td>\n",
       "      <td>4</td>\n",
       "      <td>1</td>\n",
       "      <td>6</td>\n",
       "      <td>8</td>\n",
       "      <td>1976</td>\n",
       "      <td>1976</td>\n",
       "      <td>0.0</td>\n",
       "      <td>...</td>\n",
       "      <td>0</td>\n",
       "      <td>1</td>\n",
       "      <td>0</td>\n",
       "      <td>0</td>\n",
       "      <td>1</td>\n",
       "      <td>0</td>\n",
       "      <td>0</td>\n",
       "      <td>0</td>\n",
       "      <td>0</td>\n",
       "      <td>0</td>\n",
       "    </tr>\n",
       "    <tr>\n",
       "      <th>3</th>\n",
       "      <td>68.0</td>\n",
       "      <td>11250</td>\n",
       "      <td>2</td>\n",
       "      <td>4</td>\n",
       "      <td>1</td>\n",
       "      <td>7</td>\n",
       "      <td>5</td>\n",
       "      <td>2001</td>\n",
       "      <td>2002</td>\n",
       "      <td>162.0</td>\n",
       "      <td>...</td>\n",
       "      <td>0</td>\n",
       "      <td>1</td>\n",
       "      <td>0</td>\n",
       "      <td>0</td>\n",
       "      <td>1</td>\n",
       "      <td>0</td>\n",
       "      <td>0</td>\n",
       "      <td>0</td>\n",
       "      <td>0</td>\n",
       "      <td>0</td>\n",
       "    </tr>\n",
       "    <tr>\n",
       "      <th>4</th>\n",
       "      <td>60.0</td>\n",
       "      <td>9550</td>\n",
       "      <td>2</td>\n",
       "      <td>4</td>\n",
       "      <td>1</td>\n",
       "      <td>7</td>\n",
       "      <td>5</td>\n",
       "      <td>1915</td>\n",
       "      <td>1970</td>\n",
       "      <td>0.0</td>\n",
       "      <td>...</td>\n",
       "      <td>0</td>\n",
       "      <td>0</td>\n",
       "      <td>0</td>\n",
       "      <td>0</td>\n",
       "      <td>0</td>\n",
       "      <td>0</td>\n",
       "      <td>0</td>\n",
       "      <td>0</td>\n",
       "      <td>1</td>\n",
       "      <td>0</td>\n",
       "    </tr>\n",
       "    <tr>\n",
       "      <th>5</th>\n",
       "      <td>84.0</td>\n",
       "      <td>14260</td>\n",
       "      <td>2</td>\n",
       "      <td>4</td>\n",
       "      <td>1</td>\n",
       "      <td>8</td>\n",
       "      <td>5</td>\n",
       "      <td>2000</td>\n",
       "      <td>2000</td>\n",
       "      <td>350.0</td>\n",
       "      <td>...</td>\n",
       "      <td>0</td>\n",
       "      <td>1</td>\n",
       "      <td>0</td>\n",
       "      <td>0</td>\n",
       "      <td>1</td>\n",
       "      <td>0</td>\n",
       "      <td>0</td>\n",
       "      <td>0</td>\n",
       "      <td>0</td>\n",
       "      <td>0</td>\n",
       "    </tr>\n",
       "  </tbody>\n",
       "</table>\n",
       "<p>5 rows × 208 columns</p>\n",
       "</div>"
      ],
      "text/plain": [
       "    LotFrontage  LotArea  LotShape  Utilities  LandSlope  OverallQual  \\\n",
       "Id                                                                      \n",
       "1          65.0     8450         1          4          1            7   \n",
       "2          80.0     9600         1          4          1            6   \n",
       "3          68.0    11250         2          4          1            7   \n",
       "4          60.0     9550         2          4          1            7   \n",
       "5          84.0    14260         2          4          1            8   \n",
       "\n",
       "    OverallCond  YearBuilt  YearRemodAdd  MasVnrArea  ...  \\\n",
       "Id                                                    ...   \n",
       "1             5       2003          2003       196.0  ...   \n",
       "2             8       1976          1976         0.0  ...   \n",
       "3             5       2001          2002       162.0  ...   \n",
       "4             5       1915          1970         0.0  ...   \n",
       "5             5       2000          2000       350.0  ...   \n",
       "\n",
       "    SaleCondition_Family  SaleCondition_Normal  SaleCondition_Partial  \\\n",
       "Id                                                                      \n",
       "1                      0                     1                      0   \n",
       "2                      0                     1                      0   \n",
       "3                      0                     1                      0   \n",
       "4                      0                     0                      0   \n",
       "5                      0                     1                      0   \n",
       "\n",
       "    GarageType_2Types  GarageType_Attchd  GarageType_Basment  \\\n",
       "Id                                                             \n",
       "1                   0                  1                   0   \n",
       "2                   0                  1                   0   \n",
       "3                   0                  1                   0   \n",
       "4                   0                  0                   0   \n",
       "5                   0                  1                   0   \n",
       "\n",
       "    GarageType_BuiltIn  GarageType_CarPort  GarageType_Detchd  GarageType_None  \n",
       "Id                                                                              \n",
       "1                    0                   0                  0                0  \n",
       "2                    0                   0                  0                0  \n",
       "3                    0                   0                  0                0  \n",
       "4                    0                   0                  1                0  \n",
       "5                    0                   0                  0                0  \n",
       "\n",
       "[5 rows x 208 columns]"
      ]
     },
     "execution_count": 11,
     "metadata": {},
     "output_type": "execute_result"
    }
   ],
   "source": [
    "print('\\nOrdinal encoding...\\n')\n",
    "\n",
    "X = X.replace(ordinal_encoding)\n",
    "\n",
    "X.info()\n",
    "X.head()"
   ]
  },
  {
   "cell_type": "markdown",
   "id": "55d9a6d5",
   "metadata": {
    "papermill": {
     "duration": 0.045647,
     "end_time": "2022-05-05T22:11:20.470518",
     "exception": false,
     "start_time": "2022-05-05T22:11:20.424871",
     "status": "completed"
    },
    "tags": []
   },
   "source": [
    "### Scaling features"
   ]
  },
  {
   "cell_type": "code",
   "execution_count": 12,
   "id": "174acc6b",
   "metadata": {
    "execution": {
     "iopub.execute_input": "2022-05-05T22:11:20.565870Z",
     "iopub.status.busy": "2022-05-05T22:11:20.565553Z",
     "iopub.status.idle": "2022-05-05T22:11:20.747484Z",
     "shell.execute_reply": "2022-05-05T22:11:20.746620Z"
    },
    "papermill": {
     "duration": 0.232263,
     "end_time": "2022-05-05T22:11:20.749437",
     "exception": false,
     "start_time": "2022-05-05T22:11:20.517174",
     "status": "completed"
    },
    "tags": []
   },
   "outputs": [
    {
     "name": "stdout",
     "output_type": "stream",
     "text": [
      "\n",
      "Scaling features...\n",
      "\n",
      "<class 'pandas.core.frame.DataFrame'>\n",
      "Int64Index: 1460 entries, 1 to 1460\n",
      "Columns: 208 entries, LotFrontage to GarageType_None\n",
      "dtypes: float64(208)\n",
      "memory usage: 2.3 MB\n"
     ]
    },
    {
     "data": {
      "text/html": [
       "<div>\n",
       "<style scoped>\n",
       "    .dataframe tbody tr th:only-of-type {\n",
       "        vertical-align: middle;\n",
       "    }\n",
       "\n",
       "    .dataframe tbody tr th {\n",
       "        vertical-align: top;\n",
       "    }\n",
       "\n",
       "    .dataframe thead th {\n",
       "        text-align: right;\n",
       "    }\n",
       "</style>\n",
       "<table border=\"1\" class=\"dataframe\">\n",
       "  <thead>\n",
       "    <tr style=\"text-align: right;\">\n",
       "      <th></th>\n",
       "      <th>LotFrontage</th>\n",
       "      <th>LotArea</th>\n",
       "      <th>LotShape</th>\n",
       "      <th>Utilities</th>\n",
       "      <th>LandSlope</th>\n",
       "      <th>OverallQual</th>\n",
       "      <th>OverallCond</th>\n",
       "      <th>YearBuilt</th>\n",
       "      <th>YearRemodAdd</th>\n",
       "      <th>MasVnrArea</th>\n",
       "      <th>...</th>\n",
       "      <th>SaleCondition_Family</th>\n",
       "      <th>SaleCondition_Normal</th>\n",
       "      <th>SaleCondition_Partial</th>\n",
       "      <th>GarageType_2Types</th>\n",
       "      <th>GarageType_Attchd</th>\n",
       "      <th>GarageType_Basment</th>\n",
       "      <th>GarageType_BuiltIn</th>\n",
       "      <th>GarageType_CarPort</th>\n",
       "      <th>GarageType_Detchd</th>\n",
       "      <th>GarageType_None</th>\n",
       "    </tr>\n",
       "    <tr>\n",
       "      <th>Id</th>\n",
       "      <th></th>\n",
       "      <th></th>\n",
       "      <th></th>\n",
       "      <th></th>\n",
       "      <th></th>\n",
       "      <th></th>\n",
       "      <th></th>\n",
       "      <th></th>\n",
       "      <th></th>\n",
       "      <th></th>\n",
       "      <th></th>\n",
       "      <th></th>\n",
       "      <th></th>\n",
       "      <th></th>\n",
       "      <th></th>\n",
       "      <th></th>\n",
       "      <th></th>\n",
       "      <th></th>\n",
       "      <th></th>\n",
       "      <th></th>\n",
       "      <th></th>\n",
       "    </tr>\n",
       "  </thead>\n",
       "  <tbody>\n",
       "    <tr>\n",
       "      <th>1</th>\n",
       "      <td>0.212877</td>\n",
       "      <td>-0.207142</td>\n",
       "      <td>-0.701291</td>\n",
       "      <td>0.02618</td>\n",
       "      <td>-0.225716</td>\n",
       "      <td>0.651479</td>\n",
       "      <td>-0.517200</td>\n",
       "      <td>1.050994</td>\n",
       "      <td>0.878668</td>\n",
       "      <td>0.514104</td>\n",
       "      <td>...</td>\n",
       "      <td>-0.117851</td>\n",
       "      <td>0.467651</td>\n",
       "      <td>-0.305995</td>\n",
       "      <td>-0.064238</td>\n",
       "      <td>0.823505</td>\n",
       "      <td>-0.114827</td>\n",
       "      <td>-0.253259</td>\n",
       "      <td>-0.078757</td>\n",
       "      <td>-0.600559</td>\n",
       "      <td>-0.24236</td>\n",
       "    </tr>\n",
       "    <tr>\n",
       "      <th>2</th>\n",
       "      <td>0.645747</td>\n",
       "      <td>-0.091886</td>\n",
       "      <td>-0.701291</td>\n",
       "      <td>0.02618</td>\n",
       "      <td>-0.225716</td>\n",
       "      <td>-0.071836</td>\n",
       "      <td>2.179628</td>\n",
       "      <td>0.156734</td>\n",
       "      <td>-0.429577</td>\n",
       "      <td>-0.570750</td>\n",
       "      <td>...</td>\n",
       "      <td>-0.117851</td>\n",
       "      <td>0.467651</td>\n",
       "      <td>-0.305995</td>\n",
       "      <td>-0.064238</td>\n",
       "      <td>0.823505</td>\n",
       "      <td>-0.114827</td>\n",
       "      <td>-0.253259</td>\n",
       "      <td>-0.078757</td>\n",
       "      <td>-0.600559</td>\n",
       "      <td>-0.24236</td>\n",
       "    </tr>\n",
       "    <tr>\n",
       "      <th>3</th>\n",
       "      <td>0.299451</td>\n",
       "      <td>0.073480</td>\n",
       "      <td>1.016637</td>\n",
       "      <td>0.02618</td>\n",
       "      <td>-0.225716</td>\n",
       "      <td>0.651479</td>\n",
       "      <td>-0.517200</td>\n",
       "      <td>0.984752</td>\n",
       "      <td>0.830215</td>\n",
       "      <td>0.325915</td>\n",
       "      <td>...</td>\n",
       "      <td>-0.117851</td>\n",
       "      <td>0.467651</td>\n",
       "      <td>-0.305995</td>\n",
       "      <td>-0.064238</td>\n",
       "      <td>0.823505</td>\n",
       "      <td>-0.114827</td>\n",
       "      <td>-0.253259</td>\n",
       "      <td>-0.078757</td>\n",
       "      <td>-0.600559</td>\n",
       "      <td>-0.24236</td>\n",
       "    </tr>\n",
       "    <tr>\n",
       "      <th>4</th>\n",
       "      <td>0.068587</td>\n",
       "      <td>-0.096897</td>\n",
       "      <td>1.016637</td>\n",
       "      <td>0.02618</td>\n",
       "      <td>-0.225716</td>\n",
       "      <td>0.651479</td>\n",
       "      <td>-0.517200</td>\n",
       "      <td>-1.863632</td>\n",
       "      <td>-0.720298</td>\n",
       "      <td>-0.570750</td>\n",
       "      <td>...</td>\n",
       "      <td>-0.117851</td>\n",
       "      <td>-2.138345</td>\n",
       "      <td>-0.305995</td>\n",
       "      <td>-0.064238</td>\n",
       "      <td>-1.214321</td>\n",
       "      <td>-0.114827</td>\n",
       "      <td>-0.253259</td>\n",
       "      <td>-0.078757</td>\n",
       "      <td>1.665116</td>\n",
       "      <td>-0.24236</td>\n",
       "    </tr>\n",
       "    <tr>\n",
       "      <th>5</th>\n",
       "      <td>0.761179</td>\n",
       "      <td>0.375148</td>\n",
       "      <td>1.016637</td>\n",
       "      <td>0.02618</td>\n",
       "      <td>-0.225716</td>\n",
       "      <td>1.374795</td>\n",
       "      <td>-0.517200</td>\n",
       "      <td>0.951632</td>\n",
       "      <td>0.733308</td>\n",
       "      <td>1.366489</td>\n",
       "      <td>...</td>\n",
       "      <td>-0.117851</td>\n",
       "      <td>0.467651</td>\n",
       "      <td>-0.305995</td>\n",
       "      <td>-0.064238</td>\n",
       "      <td>0.823505</td>\n",
       "      <td>-0.114827</td>\n",
       "      <td>-0.253259</td>\n",
       "      <td>-0.078757</td>\n",
       "      <td>-0.600559</td>\n",
       "      <td>-0.24236</td>\n",
       "    </tr>\n",
       "  </tbody>\n",
       "</table>\n",
       "<p>5 rows × 208 columns</p>\n",
       "</div>"
      ],
      "text/plain": [
       "    LotFrontage   LotArea  LotShape  Utilities  LandSlope  OverallQual  \\\n",
       "Id                                                                       \n",
       "1      0.212877 -0.207142 -0.701291    0.02618  -0.225716     0.651479   \n",
       "2      0.645747 -0.091886 -0.701291    0.02618  -0.225716    -0.071836   \n",
       "3      0.299451  0.073480  1.016637    0.02618  -0.225716     0.651479   \n",
       "4      0.068587 -0.096897  1.016637    0.02618  -0.225716     0.651479   \n",
       "5      0.761179  0.375148  1.016637    0.02618  -0.225716     1.374795   \n",
       "\n",
       "    OverallCond  YearBuilt  YearRemodAdd  MasVnrArea  ...  \\\n",
       "Id                                                    ...   \n",
       "1     -0.517200   1.050994      0.878668    0.514104  ...   \n",
       "2      2.179628   0.156734     -0.429577   -0.570750  ...   \n",
       "3     -0.517200   0.984752      0.830215    0.325915  ...   \n",
       "4     -0.517200  -1.863632     -0.720298   -0.570750  ...   \n",
       "5     -0.517200   0.951632      0.733308    1.366489  ...   \n",
       "\n",
       "    SaleCondition_Family  SaleCondition_Normal  SaleCondition_Partial  \\\n",
       "Id                                                                      \n",
       "1              -0.117851              0.467651              -0.305995   \n",
       "2              -0.117851              0.467651              -0.305995   \n",
       "3              -0.117851              0.467651              -0.305995   \n",
       "4              -0.117851             -2.138345              -0.305995   \n",
       "5              -0.117851              0.467651              -0.305995   \n",
       "\n",
       "    GarageType_2Types  GarageType_Attchd  GarageType_Basment  \\\n",
       "Id                                                             \n",
       "1           -0.064238           0.823505           -0.114827   \n",
       "2           -0.064238           0.823505           -0.114827   \n",
       "3           -0.064238           0.823505           -0.114827   \n",
       "4           -0.064238          -1.214321           -0.114827   \n",
       "5           -0.064238           0.823505           -0.114827   \n",
       "\n",
       "    GarageType_BuiltIn  GarageType_CarPort  GarageType_Detchd  GarageType_None  \n",
       "Id                                                                              \n",
       "1            -0.253259           -0.078757          -0.600559         -0.24236  \n",
       "2            -0.253259           -0.078757          -0.600559         -0.24236  \n",
       "3            -0.253259           -0.078757          -0.600559         -0.24236  \n",
       "4            -0.253259           -0.078757           1.665116         -0.24236  \n",
       "5            -0.253259           -0.078757          -0.600559         -0.24236  \n",
       "\n",
       "[5 rows x 208 columns]"
      ]
     },
     "execution_count": 12,
     "metadata": {},
     "output_type": "execute_result"
    }
   ],
   "source": [
    "print('\\nScaling features...\\n')\n",
    "\n",
    "scaler = StandardScaler().fit(X)\n",
    "\n",
    "X[:] = scaler.transform(X)\n",
    "\n",
    "X.info()\n",
    "X.head()"
   ]
  },
  {
   "cell_type": "code",
   "execution_count": 13,
   "id": "5b0e1d4f",
   "metadata": {
    "execution": {
     "iopub.execute_input": "2022-05-05T22:11:20.845305Z",
     "iopub.status.busy": "2022-05-05T22:11:20.844976Z",
     "iopub.status.idle": "2022-05-05T22:11:21.517008Z",
     "shell.execute_reply": "2022-05-05T22:11:21.515960Z"
    },
    "papermill": {
     "duration": 0.723192,
     "end_time": "2022-05-05T22:11:21.519621",
     "exception": false,
     "start_time": "2022-05-05T22:11:20.796429",
     "status": "completed"
    },
    "tags": []
   },
   "outputs": [],
   "source": [
    "pd.concat([X, y], axis=1).to_csv('HousePrices.csv', index=False)"
   ]
  },
  {
   "cell_type": "markdown",
   "id": "4d498dfa",
   "metadata": {
    "_cell_guid": "1549f9da-ae36-40e0-83a3-bbd22477e83a",
    "_uuid": "98710a4e-398a-4b1f-a945-476edfcd1751",
    "papermill": {
     "duration": 0.047126,
     "end_time": "2022-05-05T22:11:21.614123",
     "exception": false,
     "start_time": "2022-05-05T22:11:21.566997",
     "status": "completed"
    },
    "tags": []
   },
   "source": [
    "# Data Preparation Pipeline"
   ]
  },
  {
   "cell_type": "markdown",
   "id": "cb67ecdf",
   "metadata": {
    "_cell_guid": "456eb457-0729-4a9e-a6ca-94d5620f9df9",
    "_uuid": "c588b4af-5bac-4d09-b497-68953cf9d666",
    "papermill": {
     "duration": 0.04764,
     "end_time": "2022-05-05T22:11:21.708825",
     "exception": false,
     "start_time": "2022-05-05T22:11:21.661185",
     "status": "completed"
    },
    "tags": []
   },
   "source": [
    "### Prepare features function (Pipeline for all data preparation above)"
   ]
  },
  {
   "cell_type": "code",
   "execution_count": 14,
   "id": "8780b821",
   "metadata": {
    "_cell_guid": "bd267ab9-f002-47a8-ae08-d59e2f7d8ea1",
    "_uuid": "6e4aab54-963d-4eb8-ad39-c6950cb27644",
    "collapsed": false,
    "execution": {
     "iopub.execute_input": "2022-05-05T22:11:21.809740Z",
     "iopub.status.busy": "2022-05-05T22:11:21.809458Z",
     "iopub.status.idle": "2022-05-05T22:11:21.832144Z",
     "shell.execute_reply": "2022-05-05T22:11:21.831399Z"
    },
    "jupyter": {
     "outputs_hidden": false
    },
    "papermill": {
     "duration": 0.076103,
     "end_time": "2022-05-05T22:11:21.834406",
     "exception": false,
     "start_time": "2022-05-05T22:11:21.758303",
     "status": "completed"
    },
    "tags": []
   },
   "outputs": [],
   "source": [
    "def prepare_features(df: pd.DataFrame, scaler, feature_names: list = None):\n",
    "    \"\"\"Preparing features for training\"\"\"\n",
    "    \n",
    "    # Creating DF\n",
    "    \n",
    "    if feature_names is not None:\n",
    "        X = pd.concat([pd.DataFrame(columns=feature_names), df])\n",
    "    else:\n",
    "        X = df\n",
    "    \n",
    "    # Defining numerical and categorical features\n",
    "    \n",
    "    nominal_features = [\n",
    "        'MSSubClass', 'MSZoning', 'Street', 'LandContour', 'LotConfig', 'Neighborhood', \n",
    "        'Condition1', 'Condition2', 'BldgType', 'HouseStyle', 'RoofStyle', 'RoofMatl', \n",
    "        'Exterior1st', 'Exterior2nd', 'MasVnrType', 'Foundation', 'Heating', 'SaleType', \n",
    "        'SaleCondition','GarageType'\n",
    "    ]\n",
    "\n",
    "    ordinal_features = [\n",
    "        'LotShape', 'Utilities', 'LandSlope', 'OverallQual', 'OverallCond', 'ExterQual', \n",
    "        'ExterCond', 'HeatingQC', 'CentralAir', 'KitchenQual', 'Functional', 'PavedDrive', \n",
    "        'Electrical', 'BsmtQual', 'BsmtCond', 'BsmtExposure', 'BsmtFinType1', 'BsmtFinType2', \n",
    "        'GarageFinish', 'GarageQual', 'GarageCond'\n",
    "    ]\n",
    "\n",
    "    continuous_features = [\n",
    "        'LotFrontage', 'LotArea', 'MasVnrArea', 'BsmtFinSF1', 'BsmtFinSF2', 'BsmtUnfSF', \n",
    "        'TotalBsmtSF', '1stFlrSF', '2ndFlrSF', 'LowQualFinSF', 'GrLivArea', 'GarageArea', \n",
    "        'WoodDeckSF', 'OpenPorchSF', 'EnclosedPorch', '3SsnPorch', 'ScreenPorch', 'PoolArea', \n",
    "        'MiscVal'\n",
    "    ]\n",
    "\n",
    "    discrete_features = [\n",
    "        'YearBuilt', 'YearRemodAdd', 'BsmtFullBath', 'BsmtHalfBath', 'FullBath', 'HalfBath', \n",
    "        'BedroomAbvGr', 'KitchenAbvGr', 'TotRmsAbvGrd', 'Fireplaces', 'GarageYrBlt', 'GarageCars', \n",
    "        'MoSold', 'YrSold'\n",
    "    ]\n",
    "    \n",
    "    # Filling missing categorical values with None\n",
    "\n",
    "    for col in (nominal_features + ordinal_features):\n",
    "        X[col] = X[col].fillna('None')\n",
    "\n",
    "    # Filling numerical missing values with 0\n",
    "\n",
    "    for col in (continuous_features + discrete_features):\n",
    "        X[col] = X[col].fillna(0)\n",
    "    \n",
    "    # One Hot Encoding\n",
    "\n",
    "    dummies = pd.get_dummies(X[nominal_features]).sort_index()\n",
    "    dummies_cols = list(set(dummies.columns) & set(X.columns))\n",
    "    X[dummies_cols] = dummies[dummies_cols]\n",
    "    X = X.drop(nominal_features, axis=1)\n",
    "    \n",
    "    # Ordinal Encoding\n",
    "\n",
    "    rating = {'None': 0, 'Po': 1, 'Fa': 2, 'TA': 3, 'Gd': 4, 'Ex': 5}\n",
    "    \n",
    "    ordinal_encoding = {\n",
    "        'LotShape': {'None': 0, 'Reg': 1, 'IR1': 2, 'IR2': 3, 'IR3': 4}, \n",
    "        'Utilities': {'None': 0, 'ElO': 1, 'NoSeWa': 2, 'NoSeWr': 3, 'AllPub': 4}, \n",
    "        'LandSlope': {'None': 0, 'Gtl': 1, 'Mod': 2, 'Sev': 3}, \n",
    "        'ExterQual': rating, \n",
    "        'ExterCond': rating, \n",
    "        'BsmtQual': rating, \n",
    "        'BsmtCond': rating, \n",
    "        'BsmtExposure': {'None': 0, 'No': 1, 'Mn': 2, 'Av': 3, 'Gd': 4}, \n",
    "        'BsmtFinType1': {'None': 0, 'Unf': 1, 'LwQ': 2, 'Rec': 3, 'BLQ': 4, 'ALQ': 5, 'GLQ': 6}, \n",
    "        'BsmtFinType2': {'None': 0, 'Unf': 1, 'LwQ': 2, 'Rec': 3, 'BLQ': 4, 'ALQ': 5, 'GLQ': 6}, \n",
    "        'HeatingQC': rating, \n",
    "        'CentralAir': {'None': 0, 'N': 1, 'Y': 2}, \n",
    "        'Electrical': {'None': 0, 'Mix': 1, 'FuseP': 2, 'FuseF': 3, 'FuseA': 4, 'SBrkr': 5}, \n",
    "        'KitchenQual': rating, \n",
    "        'Functional': {'None': 0, 'Sal': 1, 'Sev': 2, 'Maj2': 3, 'Maj1': 4, 'Mod': 5, 'Min2': 6, 'Min1': 7, 'Typ': 8}, \n",
    "        'GarageFinish': {'None': 0, 'Unf': 1, 'RFn': 2, 'Fin': 3}, \n",
    "        'GarageQual': rating, \n",
    "        'GarageCond': rating, \n",
    "        'PavedDrive': {'None': 0, 'N': 1, 'P': 2, 'Y': 3}\n",
    "    }\n",
    "\n",
    "    X = X.replace(ordinal_encoding)\n",
    "    \n",
    "    # Feature selection\n",
    "    \n",
    "    if feature_names is not None:\n",
    "        X = X[feature_names]\n",
    "    \n",
    "    # Filling NAs\n",
    "    \n",
    "    X = X.fillna(0)\n",
    "    \n",
    "    # Scaling features\n",
    "    \n",
    "    X[:] = scaler.transform(X)\n",
    "    \n",
    "    return X\n"
   ]
  },
  {
   "cell_type": "markdown",
   "id": "9b8c9146",
   "metadata": {
    "_cell_guid": "73d9b3b4-fb29-4da9-bfc5-45a4acae5995",
    "_uuid": "5e5e7ddc-970d-4df3-af79-0fde80244020",
    "papermill": {
     "duration": 0.048641,
     "end_time": "2022-05-05T22:11:21.932602",
     "exception": false,
     "start_time": "2022-05-05T22:11:21.883961",
     "status": "completed"
    },
    "tags": []
   },
   "source": [
    "# Plot Function"
   ]
  },
  {
   "cell_type": "code",
   "execution_count": 15,
   "id": "8c19f86e",
   "metadata": {
    "_cell_guid": "2c04c17c-bfd3-4969-bf3f-58f5c9cf46ae",
    "_uuid": "ebdcc5dc-7eb7-4f86-aa67-4379f9dc5b76",
    "collapsed": false,
    "execution": {
     "iopub.execute_input": "2022-05-05T22:11:22.031223Z",
     "iopub.status.busy": "2022-05-05T22:11:22.030691Z",
     "iopub.status.idle": "2022-05-05T22:11:22.037186Z",
     "shell.execute_reply": "2022-05-05T22:11:22.036585Z"
    },
    "jupyter": {
     "outputs_hidden": false
    },
    "papermill": {
     "duration": 0.058054,
     "end_time": "2022-05-05T22:11:22.039185",
     "exception": false,
     "start_time": "2022-05-05T22:11:21.981131",
     "status": "completed"
    },
    "tags": []
   },
   "outputs": [],
   "source": [
    "def plot_actual_vs_pred(model, X, y):\n",
    "    \"\"\"Plotting actual vs predicted label\"\"\"\n",
    "    \n",
    "    y_pred = np.exp(model.predict(X.values))\n",
    "    \n",
    "    plot_data = pd.concat([np.exp(y), pd.Series(y_pred, name='PredictedPrice', index=y.index)], axis=1)\n",
    "    plot_data = plot_data.sort_values('SalePrice')\n",
    "    plot_data.index = y.index\n",
    "    plot_data = plot_data.reset_index()\n",
    "    \n",
    "    fig = px.scatter(plot_data, x='Id', y='SalePrice')\n",
    "    fig.add_trace(go.Scatter(x=plot_data['Id'], y=plot_data['PredictedPrice'], name='Prediction'))\n",
    "    fig.show()"
   ]
  },
  {
   "cell_type": "markdown",
   "id": "fa305a5a",
   "metadata": {
    "papermill": {
     "duration": 0.053346,
     "end_time": "2022-05-05T22:11:22.140968",
     "exception": false,
     "start_time": "2022-05-05T22:11:22.087622",
     "status": "completed"
    },
    "tags": []
   },
   "source": [
    "# Model"
   ]
  },
  {
   "cell_type": "markdown",
   "id": "2259bf7f",
   "metadata": {
    "papermill": {
     "duration": 0.047436,
     "end_time": "2022-05-05T22:11:22.236002",
     "exception": false,
     "start_time": "2022-05-05T22:11:22.188566",
     "status": "completed"
    },
    "tags": []
   },
   "source": [
    "### sklearn packages"
   ]
  },
  {
   "cell_type": "code",
   "execution_count": 16,
   "id": "b985d485",
   "metadata": {
    "execution": {
     "iopub.execute_input": "2022-05-05T22:11:22.332531Z",
     "iopub.status.busy": "2022-05-05T22:11:22.332209Z",
     "iopub.status.idle": "2022-05-05T22:11:22.644664Z",
     "shell.execute_reply": "2022-05-05T22:11:22.643728Z"
    },
    "papermill": {
     "duration": 0.363841,
     "end_time": "2022-05-05T22:11:22.647145",
     "exception": false,
     "start_time": "2022-05-05T22:11:22.283304",
     "status": "completed"
    },
    "tags": []
   },
   "outputs": [],
   "source": [
    "from sklearn.ensemble import (\n",
    "    BaggingRegressor,\n",
    "    ExtraTreesRegressor,\n",
    "    HistGradientBoostingRegressor,\n",
    "    RandomForestRegressor,\n",
    "    StackingRegressor\n",
    ")\n",
    "from xgboost import XGBRegressor"
   ]
  },
  {
   "cell_type": "markdown",
   "id": "404b0b78",
   "metadata": {
    "papermill": {
     "duration": 0.046508,
     "end_time": "2022-05-05T22:11:22.743230",
     "exception": false,
     "start_time": "2022-05-05T22:11:22.696722",
     "status": "completed"
    },
    "tags": []
   },
   "source": [
    "### Build model"
   ]
  },
  {
   "cell_type": "code",
   "execution_count": 17,
   "id": "d63fd7ff",
   "metadata": {
    "execution": {
     "iopub.execute_input": "2022-05-05T22:11:22.839069Z",
     "iopub.status.busy": "2022-05-05T22:11:22.838498Z",
     "iopub.status.idle": "2022-05-05T22:11:22.844863Z",
     "shell.execute_reply": "2022-05-05T22:11:22.843804Z"
    },
    "papermill": {
     "duration": 0.056906,
     "end_time": "2022-05-05T22:11:22.847164",
     "exception": false,
     "start_time": "2022-05-05T22:11:22.790258",
     "status": "completed"
    },
    "tags": []
   },
   "outputs": [],
   "source": [
    "bagging = BaggingRegressor(n_jobs=-1)\n",
    "extraTrees = ExtraTreesRegressor(max_depth=10, n_jobs=-1)\n",
    "randomForest = RandomForestRegressor(n_jobs=-1)\n",
    "histGradientBoosting = HistGradientBoostingRegressor()\n",
    "XGB = XGBRegressor(n_jobs=-1)\n",
    "\n",
    "model = StackingRegressor([\n",
    "    ('bagging', bagging),\n",
    "    ('extraTress', extraTrees),\n",
    "    ('randomforest', randomForest),\n",
    "    ('histGradientBoosting', histGradientBoosting),\n",
    "    ('XGB', XGB)\n",
    "], n_jobs=-1)"
   ]
  },
  {
   "cell_type": "markdown",
   "id": "80cb2b4a",
   "metadata": {
    "papermill": {
     "duration": 0.047672,
     "end_time": "2022-05-05T22:11:22.943872",
     "exception": false,
     "start_time": "2022-05-05T22:11:22.896200",
     "status": "completed"
    },
    "tags": []
   },
   "source": [
    "### Fit model"
   ]
  },
  {
   "cell_type": "code",
   "execution_count": 18,
   "id": "5cb95e81",
   "metadata": {
    "execution": {
     "iopub.execute_input": "2022-05-05T22:11:23.039281Z",
     "iopub.status.busy": "2022-05-05T22:11:23.038724Z",
     "iopub.status.idle": "2022-05-05T22:11:43.370803Z",
     "shell.execute_reply": "2022-05-05T22:11:43.370136Z"
    },
    "papermill": {
     "duration": 20.382412,
     "end_time": "2022-05-05T22:11:43.372878",
     "exception": false,
     "start_time": "2022-05-05T22:11:22.990466",
     "status": "completed"
    },
    "tags": []
   },
   "outputs": [
    {
     "data": {
      "text/plain": [
       "0.9934101884161262"
      ]
     },
     "execution_count": 18,
     "metadata": {},
     "output_type": "execute_result"
    }
   ],
   "source": [
    "model = model.fit(X.values, y)\n",
    "model.score(X.values, y)"
   ]
  },
  {
   "cell_type": "markdown",
   "id": "5dc42381",
   "metadata": {
    "papermill": {
     "duration": 0.046529,
     "end_time": "2022-05-05T22:11:43.466783",
     "exception": false,
     "start_time": "2022-05-05T22:11:43.420254",
     "status": "completed"
    },
    "tags": []
   },
   "source": [
    "### RMSE"
   ]
  },
  {
   "cell_type": "code",
   "execution_count": 19,
   "id": "e0e3f71e",
   "metadata": {
    "execution": {
     "iopub.execute_input": "2022-05-05T22:11:43.563354Z",
     "iopub.status.busy": "2022-05-05T22:11:43.562310Z",
     "iopub.status.idle": "2022-05-05T22:11:43.829338Z",
     "shell.execute_reply": "2022-05-05T22:11:43.828130Z"
    },
    "papermill": {
     "duration": 0.31843,
     "end_time": "2022-05-05T22:11:43.832157",
     "exception": false,
     "start_time": "2022-05-05T22:11:43.513727",
     "status": "completed"
    },
    "tags": []
   },
   "outputs": [
    {
     "name": "stdout",
     "output_type": "stream",
     "text": [
      "\n",
      "RMSE:  0.002505550846953378\n"
     ]
    }
   ],
   "source": [
    "print('\\nRMSE: ', np.sqrt(mean_squared_log_error(y, model.predict(X.values))))"
   ]
  },
  {
   "cell_type": "markdown",
   "id": "5882a7b1",
   "metadata": {
    "_cell_guid": "1266d4f1-0a0a-4f75-ac3f-84ff9ca15431",
    "_uuid": "b827c561-81a3-4e30-8b19-017eeef2be4b",
    "papermill": {
     "duration": 0.047648,
     "end_time": "2022-05-05T22:11:43.927771",
     "exception": false,
     "start_time": "2022-05-05T22:11:43.880123",
     "status": "completed"
    },
    "tags": []
   },
   "source": [
    "### Plot actual label vs model prediction"
   ]
  },
  {
   "cell_type": "code",
   "execution_count": 20,
   "id": "507bdd41",
   "metadata": {
    "_cell_guid": "86221dea-8ddd-4bb7-bae2-c2d57cb1f7c6",
    "_uuid": "63603d10-b727-4319-864e-61c81c6be111",
    "collapsed": false,
    "execution": {
     "iopub.execute_input": "2022-05-05T22:11:44.026905Z",
     "iopub.status.busy": "2022-05-05T22:11:44.026361Z",
     "iopub.status.idle": "2022-05-05T22:11:45.277233Z",
     "shell.execute_reply": "2022-05-05T22:11:45.276637Z"
    },
    "jupyter": {
     "outputs_hidden": false
    },
    "papermill": {
     "duration": 1.303584,
     "end_time": "2022-05-05T22:11:45.279937",
     "exception": false,
     "start_time": "2022-05-05T22:11:43.976353",
     "status": "completed"
    },
    "tags": []
   },
   "outputs": [
    {
     "data": {
      "text/html": [
       "        <script type=\"text/javascript\">\n",
       "        window.PlotlyConfig = {MathJaxConfig: 'local'};\n",
       "        if (window.MathJax) {MathJax.Hub.Config({SVG: {font: \"STIX-Web\"}});}\n",
       "        if (typeof require !== 'undefined') {\n",
       "        require.undef(\"plotly\");\n",
       "        requirejs.config({\n",
       "            paths: {\n",
       "                'plotly': ['https://cdn.plot.ly/plotly-2.11.1.min']\n",
       "            }\n",
       "        });\n",
       "        require(['plotly'], function(Plotly) {\n",
       "            window._Plotly = Plotly;\n",
       "        });\n",
       "        }\n",
       "        </script>\n",
       "        "
      ]
     },
     "metadata": {},
     "output_type": "display_data"
    },
    {
     "data": {
      "text/html": [
       "<div>                            <div id=\"16aa4fa4-bcd0-420a-ae37-24976f6c5aec\" class=\"plotly-graph-div\" style=\"height:525px; width:100%;\"></div>            <script type=\"text/javascript\">                require([\"plotly\"], function(Plotly) {                    window.PLOTLYENV=window.PLOTLYENV || {};                                    if (document.getElementById(\"16aa4fa4-bcd0-420a-ae37-24976f6c5aec\")) {                    Plotly.newPlot(                        \"16aa4fa4-bcd0-420a-ae37-24976f6c5aec\",                        [{\"hovertemplate\":\"Id=%{x}<br>SalePrice=%{y}<extra></extra>\",\"legendgroup\":\"\",\"marker\":{\"color\":\"#636efa\",\"symbol\":\"circle\"},\"mode\":\"markers\",\"name\":\"\",\"showlegend\":false,\"x\":[1,2,3,4,5,6,7,8,9,10,11,12,13,14,15,16,17,18,19,20,21,22,23,24,25,26,27,28,29,30,31,32,33,34,35,36,37,38,39,40,41,42,43,44,45,46,47,48,49,50,51,52,53,54,55,56,57,58,59,60,61,62,63,64,65,66,67,68,69,70,71,72,73,74,75,76,77,78,79,80,81,82,83,84,85,86,87,88,89,90,91,92,93,94,95,96,97,98,99,100,101,102,103,104,105,106,107,108,109,110,111,112,113,114,115,116,117,118,119,120,121,122,123,124,125,126,127,128,129,130,131,132,133,134,135,136,137,138,139,140,141,142,143,144,145,146,147,148,149,150,151,152,153,154,155,156,157,158,159,160,161,162,163,164,165,166,167,168,169,170,171,172,173,174,175,176,177,178,179,180,181,182,183,184,185,186,187,188,189,190,191,192,193,194,195,196,197,198,199,200,201,202,203,204,205,206,207,208,209,210,211,212,213,214,215,216,217,218,219,220,221,222,223,224,225,226,227,228,229,230,231,232,233,234,235,236,237,238,239,240,241,242,243,244,245,246,247,248,249,250,251,252,253,254,255,256,257,258,259,260,261,262,263,264,265,266,267,268,269,270,271,272,273,274,275,276,277,278,279,280,281,282,283,284,285,286,287,288,289,290,291,292,293,294,295,296,297,298,299,300,301,302,303,304,305,306,307,308,309,310,311,312,313,314,315,316,317,318,319,320,321,322,323,324,325,326,327,328,329,330,331,332,333,334,335,336,337,338,339,340,341,342,343,344,345,346,347,348,349,350,351,352,353,354,355,356,357,358,359,360,361,362,363,364,365,366,367,368,369,370,371,372,373,374,375,376,377,378,379,380,381,382,383,384,385,386,387,388,389,390,391,392,393,394,395,396,397,398,399,400,401,402,403,404,405,406,407,408,409,410,411,412,413,414,415,416,417,418,419,420,421,422,423,424,425,426,427,428,429,430,431,432,433,434,435,436,437,438,439,440,441,442,443,444,445,446,447,448,449,450,451,452,453,454,455,456,457,458,459,460,461,462,463,464,465,466,467,468,469,470,471,472,473,474,475,476,477,478,479,480,481,482,483,484,485,486,487,488,489,490,491,492,493,494,495,496,497,498,499,500,501,502,503,504,505,506,507,508,509,510,511,512,513,514,515,516,517,518,519,520,521,522,523,524,525,526,527,528,529,530,531,532,533,534,535,536,537,538,539,540,541,542,543,544,545,546,547,548,549,550,551,552,553,554,555,556,557,558,559,560,561,562,563,564,565,566,567,568,569,570,571,572,573,574,575,576,577,578,579,580,581,582,583,584,585,586,587,588,589,590,591,592,593,594,595,596,597,598,599,600,601,602,603,604,605,606,607,608,609,610,611,612,613,614,615,616,617,618,619,620,621,622,623,624,625,626,627,628,629,630,631,632,633,634,635,636,637,638,639,640,641,642,643,644,645,646,647,648,649,650,651,652,653,654,655,656,657,658,659,660,661,662,663,664,665,666,667,668,669,670,671,672,673,674,675,676,677,678,679,680,681,682,683,684,685,686,687,688,689,690,691,692,693,694,695,696,697,698,699,700,701,702,703,704,705,706,707,708,709,710,711,712,713,714,715,716,717,718,719,720,721,722,723,724,725,726,727,728,729,730,731,732,733,734,735,736,737,738,739,740,741,742,743,744,745,746,747,748,749,750,751,752,753,754,755,756,757,758,759,760,761,762,763,764,765,766,767,768,769,770,771,772,773,774,775,776,777,778,779,780,781,782,783,784,785,786,787,788,789,790,791,792,793,794,795,796,797,798,799,800,801,802,803,804,805,806,807,808,809,810,811,812,813,814,815,816,817,818,819,820,821,822,823,824,825,826,827,828,829,830,831,832,833,834,835,836,837,838,839,840,841,842,843,844,845,846,847,848,849,850,851,852,853,854,855,856,857,858,859,860,861,862,863,864,865,866,867,868,869,870,871,872,873,874,875,876,877,878,879,880,881,882,883,884,885,886,887,888,889,890,891,892,893,894,895,896,897,898,899,900,901,902,903,904,905,906,907,908,909,910,911,912,913,914,915,916,917,918,919,920,921,922,923,924,925,926,927,928,929,930,931,932,933,934,935,936,937,938,939,940,941,942,943,944,945,946,947,948,949,950,951,952,953,954,955,956,957,958,959,960,961,962,963,964,965,966,967,968,969,970,971,972,973,974,975,976,977,978,979,980,981,982,983,984,985,986,987,988,989,990,991,992,993,994,995,996,997,998,999,1000,1001,1002,1003,1004,1005,1006,1007,1008,1009,1010,1011,1012,1013,1014,1015,1016,1017,1018,1019,1020,1021,1022,1023,1024,1025,1026,1027,1028,1029,1030,1031,1032,1033,1034,1035,1036,1037,1038,1039,1040,1041,1042,1043,1044,1045,1046,1047,1048,1049,1050,1051,1052,1053,1054,1055,1056,1057,1058,1059,1060,1061,1062,1063,1064,1065,1066,1067,1068,1069,1070,1071,1072,1073,1074,1075,1076,1077,1078,1079,1080,1081,1082,1083,1084,1085,1086,1087,1088,1089,1090,1091,1092,1093,1094,1095,1096,1097,1098,1099,1100,1101,1102,1103,1104,1105,1106,1107,1108,1109,1110,1111,1112,1113,1114,1115,1116,1117,1118,1119,1120,1121,1122,1123,1124,1125,1126,1127,1128,1129,1130,1131,1132,1133,1134,1135,1136,1137,1138,1139,1140,1141,1142,1143,1144,1145,1146,1147,1148,1149,1150,1151,1152,1153,1154,1155,1156,1157,1158,1159,1160,1161,1162,1163,1164,1165,1166,1167,1168,1169,1170,1171,1172,1173,1174,1175,1176,1177,1178,1179,1180,1181,1182,1183,1184,1185,1186,1187,1188,1189,1190,1191,1192,1193,1194,1195,1196,1197,1198,1199,1200,1201,1202,1203,1204,1205,1206,1207,1208,1209,1210,1211,1212,1213,1214,1215,1216,1217,1218,1219,1220,1221,1222,1223,1224,1225,1226,1227,1228,1229,1230,1231,1232,1233,1234,1235,1236,1237,1238,1239,1240,1241,1242,1243,1244,1245,1246,1247,1248,1249,1250,1251,1252,1253,1254,1255,1256,1257,1258,1259,1260,1261,1262,1263,1264,1265,1266,1267,1268,1269,1270,1271,1272,1273,1274,1275,1276,1277,1278,1279,1280,1281,1282,1283,1284,1285,1286,1287,1288,1289,1290,1291,1292,1293,1294,1295,1296,1297,1298,1299,1300,1301,1302,1303,1304,1305,1306,1307,1308,1309,1310,1311,1312,1313,1314,1315,1316,1317,1318,1319,1320,1321,1322,1323,1324,1325,1326,1327,1328,1329,1330,1331,1332,1333,1334,1335,1336,1337,1338,1339,1340,1341,1342,1343,1344,1345,1346,1347,1348,1349,1350,1351,1352,1353,1354,1355,1356,1357,1358,1359,1360,1361,1362,1363,1364,1365,1366,1367,1368,1369,1370,1371,1372,1373,1374,1375,1376,1377,1378,1379,1380,1381,1382,1383,1384,1385,1386,1387,1388,1389,1390,1391,1392,1393,1394,1395,1396,1397,1398,1399,1400,1401,1402,1403,1404,1405,1406,1407,1408,1409,1410,1411,1412,1413,1414,1415,1416,1417,1418,1419,1420,1421,1422,1423,1424,1425,1426,1427,1428,1429,1430,1431,1432,1433,1434,1435,1436,1437,1438,1439,1440,1441,1442,1443,1444,1445,1446,1447,1448,1449,1450,1451,1452,1453,1454,1455,1456,1457,1458,1459,1460],\"xaxis\":\"x\",\"y\":[34900.00000000001,35311.000000000015,37899.99999999998,39299.99999999998,39999.99999999997,51999.99999999997,52500.000000000015,54999.99999999995,54999.99999999995,55992.99999999998,58499.99999999999,60000.00000000002,60000.00000000002,60000.00000000002,61000.000000000044,62382.99999999996,64500.00000000002,66499.99999999997,67000.00000000001,67000.00000000001,68399.99999999996,68500.00000000004,72499.99999999996,72999.99999999997,74999.99999999996,75500.00000000004,75999.99999999999,76499.99999999996,78000.00000000004,79000.00000000006,79000.00000000006,79000.00000000006,79499.99999999997,79900.00000000003,79900.00000000003,79999.99999999994,79999.99999999994,79999.99999999994,79999.99999999994,80499.99999999999,80999.99999999994,80999.99999999994,80999.99999999994,82000.00000000007,82000.00000000007,82000.00000000007,82500.00000000001,82500.00000000001,82500.00000000001,83000.00000000001,83000.00000000001,83499.99999999993,83999.99999999996,84500.00000000004,84500.00000000004,84500.00000000004,84900.0,85000.0,85000.0,85000.0,85000.0,85399.99999999999,85500.00000000001,85999.99999999994,85999.99999999994,85999.99999999994,86999.99999999997,86999.99999999997,86999.99999999997,86999.99999999997,87500.0,88000.00000000001,88000.00000000001,88000.00000000001,88000.00000000001,88999.99999999996,89471.0,89499.99999999997,89499.99999999997,89999.99999999997,89999.99999999997,89999.99999999997,90349.99999999997,90999.99999999996,90999.99999999996,90999.99999999996,91299.99999999991,91500.00000000001,91500.00000000001,92000.0,92899.99999999993,93000.00000000001,93000.00000000001,93000.00000000001,93500.00000000007,93500.00000000007,94000.00000000006,94499.99999999999,94750.00000000004,95000.00000000006,95000.00000000006,96499.99999999997,96499.99999999997,96999.99999999997,96999.99999999997,96999.99999999997,97499.99999999997,98000.00000000001,98000.00000000001,98000.00000000001,98300.00000000003,98600.00000000003,99499.99999999996,99900.0,100000.00000000001,100000.00000000001,100000.00000000001,100000.00000000001,100000.00000000001,100000.00000000001,100000.00000000001,100000.00000000001,100000.00000000001,101000.00000000009,101800.00000000003,102000.00000000003,102000.00000000003,102000.00000000003,102776.00000000009,102999.99999999999,103199.99999999996,103600.00000000003,103999.99999999996,104899.99999999994,104899.99999999994,105000.00000000004,105000.00000000004,105000.00000000004,105000.00000000004,105000.00000000004,105500.00000000007,105899.99999999996,106000.00000000004,106000.00000000004,106000.00000000004,106250.00000000009,106500.0,106500.0,107000.00000000003,107000.00000000003,107000.00000000003,107399.99999999999,107500.00000000003,107500.00000000003,107500.00000000003,107900.00000000003,108000.0,108000.0,108000.0,108000.0,108000.0,108000.0,108479.99999999994,108500.00000000009,108959.00000000004,108999.99999999994,108999.99999999994,109008.00000000007,109500.00000000007,109500.00000000007,109500.00000000007,109500.00000000007,109900.00000000003,109900.00000000003,109900.00000000003,109999.99999999991,109999.99999999991,109999.99999999991,109999.99999999991,109999.99999999991,109999.99999999991,109999.99999999991,109999.99999999991,109999.99999999991,109999.99999999991,109999.99999999991,109999.99999999991,109999.99999999991,110500.00000000003,110500.00000000003,111000.00000000004,111250.00000000004,112000.00000000003,112000.00000000003,112000.00000000003,112000.00000000003,112000.00000000003,112000.00000000003,112000.00000000003,112500.00000000006,112500.00000000006,113000.0,113000.0,113000.0,113000.0,113000.0,113000.0,114500.0000000001,114500.0000000001,114504.00000000006,115000.00000000009,115000.00000000009,115000.00000000009,115000.00000000009,115000.00000000009,115000.00000000009,115000.00000000009,115000.00000000009,115000.00000000009,115000.00000000009,115000.00000000009,115000.00000000009,116000.00000000006,116000.00000000006,116000.00000000006,116049.99999999997,116500.00000000001,116900.0,117000.0,117000.0,117000.0,117000.0,117499.99999999996,117499.99999999996,117999.99999999991,117999.99999999991,117999.99999999991,117999.99999999991,117999.99999999991,117999.99999999991,118400.00000000004,118500.0,118500.0,118500.0,118500.0,118858.00000000004,118963.99999999999,119000.0000000001,119000.0000000001,119000.0000000001,119000.0000000001,119000.0000000001,119000.0000000001,119000.0000000001,119199.99999999999,119500.0,119500.0,119500.0,119500.0,119749.99999999991,119900.00000000004,119900.00000000004,120000.00000000006,120000.00000000006,120000.00000000006,120000.00000000006,120000.00000000006,120000.00000000006,120000.00000000006,120499.99999999994,120499.99999999994,120499.99999999994,120499.99999999994,121000.0,121500.00000000004,121600.00000000009,122000.0000000001,122000.0000000001,122000.0000000001,122000.0000000001,122499.9999999999,122499.9999999999,122900.0,123000.00000000003,123000.00000000003,123000.00000000003,123000.00000000003,123500.0000000001,123600.00000000001,124000.0000000001,124000.0000000001,124000.0000000001,124000.0000000001,124000.0000000001,124000.0000000001,124499.99999999993,124499.99999999993,124499.99999999993,124499.99999999993,124900.00000000004,124900.00000000004,124999.99999999991,124999.99999999991,124999.99999999991,124999.99999999991,124999.99999999991,124999.99999999991,124999.99999999991,124999.99999999991,124999.99999999991,124999.99999999991,125499.99999999991,125499.99999999991,125499.99999999991,125499.99999999991,126000.00000000007,126000.00000000007,126000.00000000007,126175.00000000009,126499.99999999997,126999.99999999996,126999.99999999996,126999.99999999996,126999.99999999996,126999.99999999996,126999.99999999996,126999.99999999996,126999.99999999996,126999.99999999996,127499.99999999991,127499.99999999991,127499.99999999991,127499.99999999991,127499.99999999991,127499.99999999991,128000.00000000004,128000.00000000004,128000.00000000004,128000.00000000004,128000.00000000004,128000.00000000004,128000.00000000004,128199.99999999993,128500.00000000012,128500.00000000012,128500.00000000012,128500.00000000012,128899.9999999999,128949.99999999988,129000.00000000006,129000.00000000006,129000.00000000006,129000.00000000006,129000.00000000006,129000.00000000006,129000.00000000006,129000.00000000006,129499.99999999991,129499.99999999991,129499.99999999991,129499.99999999991,129899.99999999996,129899.99999999996,129899.99999999996,129899.99999999996,130000.00000000006,130000.00000000006,130000.00000000006,130000.00000000006,130000.00000000006,130000.00000000006,130000.00000000006,130000.00000000006,130000.00000000006,130000.00000000006,130000.00000000006,130250.00000000006,130500.00000000012,130500.00000000012,130500.00000000012,130999.99999999993,130999.99999999993,130999.99999999993,131399.99999999988,131500.0000000001,131500.0000000001,131500.0000000001,131999.99999999994,131999.99999999994,131999.99999999994,131999.99999999994,131999.99999999994,131999.99999999994,132249.99999999994,132499.99999999994,132499.99999999994,132499.99999999994,132499.99999999994,132499.99999999994,132499.99999999994,132999.99999999997,132999.99999999997,132999.99999999997,132999.99999999997,132999.99999999997,132999.99999999997,133500.0000000001,133700.0000000001,133900.0,133900.0,134000.00000000006,134000.00000000006,134000.00000000006,134431.99999999994,134449.99999999988,134500.00000000006,134500.00000000006,134800.00000000006,134899.9999999999,134899.9999999999,135000.00000000012,135000.00000000012,135000.00000000012,135000.00000000012,135000.00000000012,135000.00000000012,135000.00000000012,135000.00000000012,135000.00000000012,135000.00000000012,135000.00000000012,135000.00000000012,135000.00000000012,135000.00000000012,135000.00000000012,135000.00000000012,135000.00000000012,135499.99999999997,135499.99999999997,135750.00000000003,135900.00000000003,135959.99999999988,135999.99999999988,135999.99999999988,135999.99999999988,136500.0000000001,136500.0000000001,136500.0000000001,136500.0000000001,136500.0000000001,136899.9999999999,136904.99999999997,137000.00000000012,137000.00000000012,137000.00000000012,137000.00000000012,137000.00000000012,137449.99999999988,137500.0,137500.0,137500.0,137500.0,137500.0,137500.0,137899.99999999994,137999.99999999988,137999.99999999988,137999.99999999988,138500.0000000001,138500.0000000001,138799.99999999997,138887.00000000012,138999.99999999994,138999.99999999994,138999.99999999994,138999.99999999994,138999.99999999994,138999.99999999994,138999.99999999994,138999.99999999994,138999.99999999994,138999.99999999994,138999.99999999994,139400.00000000012,139400.00000000012,139499.9999999999,139600.00000000006,139900.00000000012,139949.99999999997,139999.9999999999,139999.9999999999,139999.9999999999,139999.9999999999,139999.9999999999,139999.9999999999,139999.9999999999,139999.9999999999,139999.9999999999,139999.9999999999,139999.9999999999,139999.9999999999,139999.9999999999,139999.9999999999,139999.9999999999,139999.9999999999,139999.9999999999,139999.9999999999,139999.9999999999,139999.9999999999,140200.00000000006,141000.0,141000.0,141000.0,141000.0,141000.0,141000.0,141000.0,141000.0,141499.99999999997,142000.00000000012,142000.00000000012,142000.00000000012,142000.00000000012,142124.99999999997,142500.0,142500.0,142500.0,142599.99999999994,142953.00000000006,142999.9999999999,142999.9999999999,142999.9999999999,142999.9999999999,142999.9999999999,142999.9999999999,142999.9999999999,142999.9999999999,142999.9999999999,142999.9999999999,143250.00000000012,143500.00000000012,143500.00000000012,143749.99999999997,143899.99999999994,144000.00000000012,144000.00000000012,144000.00000000012,144000.00000000012,144000.00000000012,144000.00000000012,144000.00000000012,144000.00000000012,144000.00000000012,144000.00000000012,144151.99999999994,144499.99999999997,144499.99999999997,144899.9999999999,144999.99999999994,144999.99999999994,144999.99999999994,144999.99999999994,144999.99999999994,144999.99999999994,144999.99999999994,144999.99999999994,144999.99999999994,144999.99999999994,144999.99999999994,144999.99999999994,144999.99999999994,144999.99999999994,145250.0,145500.00000000012,145899.99999999988,145999.99999999994,145999.99999999994,145999.99999999994,146499.99999999988,146800.00000000003,146999.9999999999,146999.9999999999,146999.9999999999,146999.9999999999,146999.9999999999,146999.9999999999,146999.9999999999,146999.9999999999,146999.9999999999,147399.9999999999,147500.0,147999.9999999999,147999.9999999999,147999.9999999999,147999.9999999999,147999.9999999999,147999.9999999999,147999.9999999999,148499.99999999997,148499.99999999997,148499.99999999997,148799.9999999999,149000.00000000012,149000.00000000012,149000.00000000012,149000.00000000012,149299.9999999999,149349.99999999988,149499.99999999988,149499.99999999988,149700.00000000012,149899.99999999994,149899.99999999994,149899.99999999994,149899.99999999994,149999.99999999994,149999.99999999994,149999.99999999994,149999.99999999994,150499.9999999999,150750.00000000012,150900.00000000012,151000.0000000001,151000.0000000001,151000.0000000001,151000.0000000001,151000.0000000001,151400.00000000003,151500.00000000003,151999.99999999997,151999.99999999997,151999.99999999997,151999.99999999997,151999.99999999997,151999.99999999997,152999.99999999994,152999.99999999994,152999.99999999994,153336.99999999997,153499.9999999999,153499.9999999999,153499.9999999999,153575.0000000001,153899.99999999994,153899.99999999994,154000.00000000003,154000.00000000003,154000.00000000003,154000.00000000003,154000.00000000003,154299.9999999999,154499.99999999988,154900.00000000006,155000.0,155000.0,155000.0,155000.0,155000.0,155000.0,155000.0,155000.0,155000.0,155000.0,155000.0,155000.0,155000.0,155000.0,155835.00000000012,155900.0000000001,156000.00000000012,156000.00000000012,156000.00000000012,156000.00000000012,156500.00000000006,156932.00000000012,156999.9999999999,156999.9999999999,156999.9999999999,156999.9999999999,156999.9999999999,156999.9999999999,157499.99999999994,157499.99999999994,157900.00000000006,157900.00000000006,158000.00000000012,158000.00000000012,158000.00000000012,158000.00000000012,158000.00000000012,158000.00000000012,158499.9999999999,158900.0,158999.99999999997,158999.99999999997,158999.99999999997,158999.99999999997,159434.00000000015,159500.00000000006,159500.00000000006,159500.00000000006,159894.99999999994,159949.99999999985,159999.9999999999,159999.9999999999,159999.9999999999,159999.9999999999,159999.9999999999,159999.9999999999,159999.9999999999,159999.9999999999,159999.9999999999,159999.9999999999,159999.9999999999,159999.9999999999,160199.99999999985,160999.99999999997,160999.99999999997,161500.0000000001,161500.0000000001,161750.00000000015,161999.99999999988,161999.99999999988,161999.99999999988,161999.99999999988,162499.9999999999,162900.0000000001,162900.0000000001,163000.00000000012,163000.00000000012,163000.00000000012,163000.00000000012,163500.00000000012,163500.00000000012,163899.99999999994,163990.00000000003,163999.99999999985,163999.99999999985,163999.99999999985,164500.0000000001,164500.0000000001,164699.99999999994,164899.99999999994,164990.00000000012,165000.00000000006,165000.00000000006,165000.00000000006,165000.00000000006,165000.00000000006,165000.00000000006,165000.00000000006,165000.00000000006,165150.0000000001,165400.00000000006,165499.99999999994,165499.99999999994,165499.99999999994,165599.9999999999,166000.00000000003,166000.00000000003,166999.99999999985,166999.99999999985,166999.99999999985,166999.99999999985,167239.99999999985,167499.9999999999,167499.9999999999,167499.9999999999,167900.00000000003,167900.00000000003,167999.99999999994,167999.99999999994,167999.99999999994,167999.99999999994,168499.9999999999,168499.9999999999,168499.9999999999,169000.00000000012,169000.00000000012,169000.00000000012,169499.99999999988,169499.99999999988,169900.00000000015,169989.99999999985,170000.0,170000.0,170000.0,170000.0,170000.0,170000.0,170000.0,170000.0,171000.00000000003,171000.00000000003,171000.00000000003,171000.00000000003,171000.00000000003,171500.00000000003,171750.00000000003,171899.99999999988,171999.9999999999,172399.99999999988,172500.00000000003,172500.00000000003,172500.00000000003,172500.00000000003,172500.00000000003,172784.99999999985,172999.99999999985,172999.99999999985,172999.99999999985,172999.99999999985,172999.99999999985,172999.99999999985,172999.99999999985,173500.00000000012,173732.99999999985,173900.00000000012,173999.99999999997,173999.99999999997,173999.99999999997,173999.99999999997,173999.99999999997,173999.99999999997,173999.99999999997,174499.9999999999,174900.0000000001,175000.00000000003,175000.00000000003,175000.00000000003,175000.00000000003,175000.00000000003,175000.00000000003,175000.00000000003,175000.00000000003,175000.00000000003,175499.99999999988,175499.99999999988,175499.99999999988,175899.99999999988,175899.99999999988,176000.00000000003,176000.00000000003,176000.00000000003,176000.00000000003,176000.00000000003,176000.00000000003,176000.00000000003,176000.00000000003,176432.0000000001,176485.0000000001,176499.9999999999,176499.9999999999,177000.00000000006,177000.00000000006,177000.00000000006,177000.00000000006,177000.00000000006,177499.99999999997,177499.99999999997,177499.99999999997,177999.99999999994,177999.99999999994,177999.99999999994,177999.99999999994,177999.99999999994,177999.99999999994,177999.99999999994,178400.00000000015,178739.9999999999,178899.99999999985,178999.99999999994,178999.99999999994,178999.99999999994,179199.9999999999,179199.9999999999,179399.9999999999,179500.00000000006,179540.00000000003,179600.0,179664.99999999985,179900.0,179900.0,179900.0,179900.0,179900.0,179999.99999999997,179999.99999999997,179999.99999999997,179999.99999999997,179999.99999999997,179999.99999999997,179999.99999999997,179999.99999999997,179999.99999999997,179999.99999999997,180499.99999999988,180499.99999999988,180499.99999999988,180499.99999999988,180999.99999999985,180999.99999999985,180999.99999999985,180999.99999999985,180999.99999999985,180999.99999999985,180999.99999999985,181134.0000000001,181499.99999999988,181900.00000000003,181999.9999999999,182900.00000000012,183000.00000000003,183200.00000000003,183499.99999999985,183899.99999999985,184000.0,184000.0,184000.0,184000.0,184099.99999999997,184749.99999999985,184899.9999999999,185000.00000000006,185000.00000000006,185000.00000000006,185000.00000000006,185000.00000000006,185000.00000000006,185000.00000000006,185000.00000000006,185000.00000000006,185000.00000000006,185500.0000000001,185749.9999999999,185850.0000000001,185899.99999999994,186000.00000000003,186499.99999999985,186499.99999999985,186700.00000000003,187000.00000000017,187000.00000000017,187000.00000000017,187100.0,187500.00000000006,187500.00000000006,187500.00000000006,187500.00000000006,187500.00000000006,187500.00000000006,187750.00000000003,188000.00000000012,188000.00000000012,188000.00000000012,188499.99999999997,188700.00000000006,189000.0,189000.0,189000.0,189000.0,189000.0,189000.0,189950.00000000012,190000.00000000012,190000.00000000012,190000.00000000012,190000.00000000012,190000.00000000012,190000.00000000012,190000.00000000012,190000.00000000012,190000.00000000012,190000.00000000012,190000.00000000012,190000.00000000012,190000.00000000012,190999.99999999997,190999.99999999997,190999.99999999997,190999.99999999997,191999.99999999994,191999.99999999994,191999.99999999994,191999.99999999994,191999.99999999994,192140.0000000001,192499.99999999985,192499.99999999985,192999.99999999997,192999.99999999997,192999.99999999997,193499.99999999997,193499.99999999997,193879.00000000006,193999.99999999997,193999.99999999997,193999.99999999997,194200.99999999994,194500.00000000003,194500.00000000003,194500.00000000003,194699.99999999988,194999.99999999994,194999.99999999994,194999.99999999994,195399.99999999985,196000.00000000006,196000.00000000006,196000.00000000006,196500.0000000001,196500.0000000001,197000.00000000012,197000.00000000012,197000.00000000012,197000.00000000012,197499.99999999997,197499.99999999997,197900.00000000003,197900.00000000003,197900.00000000003,198500.0,198899.99999999997,199900.00000000003,199900.00000000003,200000.00000000006,200000.00000000006,200000.00000000006,200000.00000000006,200000.00000000006,200000.00000000006,200000.00000000006,200000.00000000006,200100.0000000001,200141.00000000006,200499.99999999997,200499.99999999997,200623.99999999985,200999.99999999994,200999.99999999994,200999.99999999994,201800.00000000003,202500.00000000003,202500.00000000003,202500.00000000003,202664.99999999985,202900.0000000001,203000.0000000001,203000.0000000001,204000.00000000006,204000.00000000006,204749.99999999997,204900.00000000017,205000.0,205000.0,205000.0,205000.0,205000.0,205000.0,205950.00000000012,206000.0,206300.00000000006,206900.00000000003,207000.0000000001,207000.0000000001,207499.99999999985,207499.99999999985,207499.99999999985,207499.99999999985,207499.99999999985,208300.0,208500.00000000012,208899.99999999988,208899.99999999988,209500.00000000006,210000.0000000001,210000.0000000001,210000.0000000001,210000.0000000001,210000.0000000001,211000.00000000017,211000.00000000017,212000.00000000012,212000.00000000012,212000.00000000012,212899.99999999985,213000.00000000003,213000.00000000003,213000.00000000003,213250.00000000015,213489.99999999997,213500.00000000017,213500.00000000017,214000.0000000001,214000.0000000001,214000.0000000001,214000.0000000001,214000.0000000001,214500.00000000012,214900.00000000006,215000.00000000006,215000.00000000006,215000.00000000006,215000.00000000006,215000.00000000006,215000.00000000006,215000.00000000006,215000.00000000006,215199.99999999994,216000.00000000003,216499.99999999988,216836.99999999983,217000.00000000017,217000.00000000017,217500.00000000015,217999.9999999999,219210.00000000012,219499.99999999997,219499.99999999997,219499.99999999997,219999.99999999985,219999.99999999985,219999.99999999985,219999.99999999985,219999.99999999985,221000.00000000006,221000.00000000006,221499.99999999994,222000.00000000012,222000.00000000012,222000.00000000012,222500.00000000012,222500.00000000012,222999.99999999997,223500.0,223500.0,224000.0000000001,224000.0000000001,224500.00000000017,224899.99999999988,224899.99999999988,225000.00000000015,225000.00000000015,225000.00000000015,225000.00000000015,225000.00000000015,225000.00000000015,226000.00000000003,226000.00000000003,226000.00000000003,226700.00000000012,226999.9999999998,226999.9999999998,226999.9999999998,227680.0000000001,227874.99999999985,227999.9999999998,227999.9999999998,228500.00000000003,228500.00000000003,228949.99999999997,228999.99999999983,229456.0000000001,230000.0000000002,230000.0000000002,230000.0000000002,230000.0000000002,230000.0000000002,230000.0000000002,230000.0000000002,230000.0000000002,230500.00000000015,231499.99999999994,231499.99999999994,232000.00000000015,232000.00000000015,232000.00000000015,232599.9999999999,233000.00000000006,233169.9999999999,233229.99999999983,234000.0,234000.0,234999.99999999994,234999.99999999994,234999.99999999994,234999.99999999994,234999.99999999994,234999.99999999994,234999.99999999994,235128.00000000017,235999.99999999983,235999.99999999983,236499.99999999983,236499.99999999983,237000.00000000003,237000.00000000003,237499.99999999994,237999.9999999998,239000.00000000003,239000.00000000003,239000.00000000003,239000.00000000003,239000.00000000003,239000.00000000003,239499.99999999985,239685.99999999994,239798.99999999985,239900.0000000002,240000.00000000015,240000.00000000015,240000.00000000015,240000.00000000015,240000.00000000015,240000.00000000015,240999.99999999988,241499.99999999983,241499.99999999983,242000.00000000003,242000.00000000003,243000.00000000012,243999.9999999998,243999.9999999998,243999.9999999998,244399.9999999998,244599.9999999999,244999.99999999983,245350.00000000012,245500.0000000001,246578.00000000012,247999.9999999998,247999.9999999998,248327.99999999988,248899.99999999997,249699.99999999997,249999.99999999983,249999.99999999983,249999.99999999983,249999.99999999983,249999.99999999983,249999.99999999983,249999.99999999983,249999.99999999983,250579.99999999983,250999.99999999983,252000.00000000017,252677.99999999983,252999.99999999997,253293.0000000001,253999.99999999994,254899.99999999988,254999.99999999985,254999.99999999985,255499.9999999999,255899.99999999977,256000.00000000012,256000.00000000012,256299.99999999983,256999.9999999998,257500.0000000002,258000.00000000015,258999.99999999983,259500.0000000001,260000.00000000015,260000.00000000015,260000.00000000015,260000.00000000015,260000.00000000015,260000.00000000015,260399.99999999983,261500.00000000023,261999.99999999985,262280.0000000002,262499.9999999999,262499.9999999999,263000.00000000023,263434.99999999977,264131.99999999994,264560.99999999977,264999.9999999999,265900.0000000002,265979.0,265999.99999999994,265999.99999999994,266500.00000000006,267000.00000000023,268000.0000000001,268000.0000000001,269500.0,269789.99999999994,269999.99999999977,269999.99999999977,269999.99999999977,271000.0,271000.0,271900.0000000001,271999.9999999998,271999.9999999998,273999.99999999977,274299.99999999977,274724.99999999994,274899.99999999977,274970.0,275000.00000000006,275000.00000000006,275000.00000000006,275000.00000000006,275000.00000000006,275500.0,275999.9999999998,277000.0000000002,277000.0000000002,277499.9999999999,277999.9999999999,277999.9999999999,279500.0000000002,279999.9999999998,279999.9999999998,279999.9999999998,279999.9999999998,280999.9999999998,281212.9999999998,282922.0000000002,283462.9999999998,284000.00000000023,284000.00000000023,285000.0,285000.0,285000.0,285999.9999999999,286999.99999999977,286999.99999999977,287090.00000000006,289000.0,289999.9999999999,289999.9999999999,289999.9999999999,289999.9999999999,289999.9999999999,293077.00000000023,293999.9999999999,295000.00000000006,295493.00000000023,297000.0,299799.9999999999,300999.9999999998,301500.00000000023,302000.00000000023,302000.00000000023,303477.0000000001,305000.0,305900.0000000001,305999.9999999999,306999.9999999998,308999.99999999977,310000.0,310000.0,311499.9999999999,311872.00000000023,312500.00000000006,313000.0000000001,314813.00000000006,314999.99999999994,314999.99999999994,314999.99999999994,314999.99999999994,315500.00000000006,315750.0000000002,316600.0000000002,316999.9999999998,317999.99999999994,317999.99999999994,318060.9999999999,319000.0000000001,319899.99999999977,319999.9999999998,319999.9999999998,319999.9999999998,319999.9999999998,323999.9999999998,324999.9999999999,324999.9999999999,324999.9999999999,324999.9999999999,325300.0000000001,325624.0,326000.00000000023,327999.99999999977,328900.00000000006,333168.0000000001,334999.9999999998,334999.9999999998,334999.9999999998,335999.9999999999,336999.9999999999,337500.0,339749.99999999977,340000.00000000006,340000.00000000006,341000.0000000003,342642.9999999997,345000.00000000006,345000.00000000006,348000.0,350000.0000000001,350000.0000000001,354000.0000000002,359100.0000000002,359999.99999999994,361918.9999999999,367293.99999999994,369899.9999999999,370877.9999999997,372401.9999999998,372499.99999999994,373999.9999999997,375000.0000000002,377426.0000000003,377499.9999999999,378499.99999999977,380000.0000000003,381000.00000000035,383970.00000000023,384999.9999999997,384999.9999999997,386250.00000000006,392000.0000000001,392500.0000000001,394432.00000000023,394616.9999999999,394999.99999999994,395192.0000000001,401999.99999999994,402860.9999999998,403000.0000000001,410000.00000000006,412499.99999999977,415297.9999999998,422999.9999999997,424869.99999999965,426000.00000000006,430000.0000000002,437153.99999999965,438779.99999999994,439999.9999999997,446261.0000000001,451949.9999999997,464999.9999999997,466499.9999999999,474999.99999999994,485000.00000000035,501837.0000000002,538000.0000000003,554999.9999999998,556581.0000000003,582933.0,611656.9999999997,625000.0000000002,745000.0,754999.9999999999],\"yaxis\":\"y\",\"type\":\"scattergl\"},{\"name\":\"Prediction\",\"x\":[1,2,3,4,5,6,7,8,9,10,11,12,13,14,15,16,17,18,19,20,21,22,23,24,25,26,27,28,29,30,31,32,33,34,35,36,37,38,39,40,41,42,43,44,45,46,47,48,49,50,51,52,53,54,55,56,57,58,59,60,61,62,63,64,65,66,67,68,69,70,71,72,73,74,75,76,77,78,79,80,81,82,83,84,85,86,87,88,89,90,91,92,93,94,95,96,97,98,99,100,101,102,103,104,105,106,107,108,109,110,111,112,113,114,115,116,117,118,119,120,121,122,123,124,125,126,127,128,129,130,131,132,133,134,135,136,137,138,139,140,141,142,143,144,145,146,147,148,149,150,151,152,153,154,155,156,157,158,159,160,161,162,163,164,165,166,167,168,169,170,171,172,173,174,175,176,177,178,179,180,181,182,183,184,185,186,187,188,189,190,191,192,193,194,195,196,197,198,199,200,201,202,203,204,205,206,207,208,209,210,211,212,213,214,215,216,217,218,219,220,221,222,223,224,225,226,227,228,229,230,231,232,233,234,235,236,237,238,239,240,241,242,243,244,245,246,247,248,249,250,251,252,253,254,255,256,257,258,259,260,261,262,263,264,265,266,267,268,269,270,271,272,273,274,275,276,277,278,279,280,281,282,283,284,285,286,287,288,289,290,291,292,293,294,295,296,297,298,299,300,301,302,303,304,305,306,307,308,309,310,311,312,313,314,315,316,317,318,319,320,321,322,323,324,325,326,327,328,329,330,331,332,333,334,335,336,337,338,339,340,341,342,343,344,345,346,347,348,349,350,351,352,353,354,355,356,357,358,359,360,361,362,363,364,365,366,367,368,369,370,371,372,373,374,375,376,377,378,379,380,381,382,383,384,385,386,387,388,389,390,391,392,393,394,395,396,397,398,399,400,401,402,403,404,405,406,407,408,409,410,411,412,413,414,415,416,417,418,419,420,421,422,423,424,425,426,427,428,429,430,431,432,433,434,435,436,437,438,439,440,441,442,443,444,445,446,447,448,449,450,451,452,453,454,455,456,457,458,459,460,461,462,463,464,465,466,467,468,469,470,471,472,473,474,475,476,477,478,479,480,481,482,483,484,485,486,487,488,489,490,491,492,493,494,495,496,497,498,499,500,501,502,503,504,505,506,507,508,509,510,511,512,513,514,515,516,517,518,519,520,521,522,523,524,525,526,527,528,529,530,531,532,533,534,535,536,537,538,539,540,541,542,543,544,545,546,547,548,549,550,551,552,553,554,555,556,557,558,559,560,561,562,563,564,565,566,567,568,569,570,571,572,573,574,575,576,577,578,579,580,581,582,583,584,585,586,587,588,589,590,591,592,593,594,595,596,597,598,599,600,601,602,603,604,605,606,607,608,609,610,611,612,613,614,615,616,617,618,619,620,621,622,623,624,625,626,627,628,629,630,631,632,633,634,635,636,637,638,639,640,641,642,643,644,645,646,647,648,649,650,651,652,653,654,655,656,657,658,659,660,661,662,663,664,665,666,667,668,669,670,671,672,673,674,675,676,677,678,679,680,681,682,683,684,685,686,687,688,689,690,691,692,693,694,695,696,697,698,699,700,701,702,703,704,705,706,707,708,709,710,711,712,713,714,715,716,717,718,719,720,721,722,723,724,725,726,727,728,729,730,731,732,733,734,735,736,737,738,739,740,741,742,743,744,745,746,747,748,749,750,751,752,753,754,755,756,757,758,759,760,761,762,763,764,765,766,767,768,769,770,771,772,773,774,775,776,777,778,779,780,781,782,783,784,785,786,787,788,789,790,791,792,793,794,795,796,797,798,799,800,801,802,803,804,805,806,807,808,809,810,811,812,813,814,815,816,817,818,819,820,821,822,823,824,825,826,827,828,829,830,831,832,833,834,835,836,837,838,839,840,841,842,843,844,845,846,847,848,849,850,851,852,853,854,855,856,857,858,859,860,861,862,863,864,865,866,867,868,869,870,871,872,873,874,875,876,877,878,879,880,881,882,883,884,885,886,887,888,889,890,891,892,893,894,895,896,897,898,899,900,901,902,903,904,905,906,907,908,909,910,911,912,913,914,915,916,917,918,919,920,921,922,923,924,925,926,927,928,929,930,931,932,933,934,935,936,937,938,939,940,941,942,943,944,945,946,947,948,949,950,951,952,953,954,955,956,957,958,959,960,961,962,963,964,965,966,967,968,969,970,971,972,973,974,975,976,977,978,979,980,981,982,983,984,985,986,987,988,989,990,991,992,993,994,995,996,997,998,999,1000,1001,1002,1003,1004,1005,1006,1007,1008,1009,1010,1011,1012,1013,1014,1015,1016,1017,1018,1019,1020,1021,1022,1023,1024,1025,1026,1027,1028,1029,1030,1031,1032,1033,1034,1035,1036,1037,1038,1039,1040,1041,1042,1043,1044,1045,1046,1047,1048,1049,1050,1051,1052,1053,1054,1055,1056,1057,1058,1059,1060,1061,1062,1063,1064,1065,1066,1067,1068,1069,1070,1071,1072,1073,1074,1075,1076,1077,1078,1079,1080,1081,1082,1083,1084,1085,1086,1087,1088,1089,1090,1091,1092,1093,1094,1095,1096,1097,1098,1099,1100,1101,1102,1103,1104,1105,1106,1107,1108,1109,1110,1111,1112,1113,1114,1115,1116,1117,1118,1119,1120,1121,1122,1123,1124,1125,1126,1127,1128,1129,1130,1131,1132,1133,1134,1135,1136,1137,1138,1139,1140,1141,1142,1143,1144,1145,1146,1147,1148,1149,1150,1151,1152,1153,1154,1155,1156,1157,1158,1159,1160,1161,1162,1163,1164,1165,1166,1167,1168,1169,1170,1171,1172,1173,1174,1175,1176,1177,1178,1179,1180,1181,1182,1183,1184,1185,1186,1187,1188,1189,1190,1191,1192,1193,1194,1195,1196,1197,1198,1199,1200,1201,1202,1203,1204,1205,1206,1207,1208,1209,1210,1211,1212,1213,1214,1215,1216,1217,1218,1219,1220,1221,1222,1223,1224,1225,1226,1227,1228,1229,1230,1231,1232,1233,1234,1235,1236,1237,1238,1239,1240,1241,1242,1243,1244,1245,1246,1247,1248,1249,1250,1251,1252,1253,1254,1255,1256,1257,1258,1259,1260,1261,1262,1263,1264,1265,1266,1267,1268,1269,1270,1271,1272,1273,1274,1275,1276,1277,1278,1279,1280,1281,1282,1283,1284,1285,1286,1287,1288,1289,1290,1291,1292,1293,1294,1295,1296,1297,1298,1299,1300,1301,1302,1303,1304,1305,1306,1307,1308,1309,1310,1311,1312,1313,1314,1315,1316,1317,1318,1319,1320,1321,1322,1323,1324,1325,1326,1327,1328,1329,1330,1331,1332,1333,1334,1335,1336,1337,1338,1339,1340,1341,1342,1343,1344,1345,1346,1347,1348,1349,1350,1351,1352,1353,1354,1355,1356,1357,1358,1359,1360,1361,1362,1363,1364,1365,1366,1367,1368,1369,1370,1371,1372,1373,1374,1375,1376,1377,1378,1379,1380,1381,1382,1383,1384,1385,1386,1387,1388,1389,1390,1391,1392,1393,1394,1395,1396,1397,1398,1399,1400,1401,1402,1403,1404,1405,1406,1407,1408,1409,1410,1411,1412,1413,1414,1415,1416,1417,1418,1419,1420,1421,1422,1423,1424,1425,1426,1427,1428,1429,1430,1431,1432,1433,1434,1435,1436,1437,1438,1439,1440,1441,1442,1443,1444,1445,1446,1447,1448,1449,1450,1451,1452,1453,1454,1455,1456,1457,1458,1459,1460],\"y\":[36525.8157231471,37766.5438819469,39127.005343253026,39204.58751351494,42001.10919667753,52762.3210285701,50478.597755145725,52731.016790643924,53846.76020892559,57588.689893820636,57946.64983420532,61102.42576478868,56840.29991625865,55177.699438299,57378.56399168312,78330.11661771518,66084.74470109734,69244.04061042925,62279.76005365895,64722.22732181594,69022.85935243464,63871.73554710969,70093.02059311248,70940.9077931942,74434.68903745087,74491.20497399691,74113.82415998164,73601.5187690219,75312.2150896696,76591.54341404767,77473.45322987763,79333.61397542672,84937.93926417676,79753.239427504,82007.36312448411,76131.90252201437,79353.33691174806,79036.63034991018,82906.37856243296,77842.05833574942,80743.92909373477,79888.95783344703,80044.1609512006,80225.3433127293,76628.36140518267,80690.88119286769,87791.65807378943,80370.94662974672,95946.64426904848,89734.28331397053,81030.8350124602,83028.11758166159,81407.6235129595,78630.65168385302,82028.81337314218,89750.48379606435,87790.64769854904,88306.01624907959,79128.40584426365,82469.12159678656,81758.20044679301,89075.63570774763,83657.56027866271,84759.0471894447,85391.22745130477,83762.30390496686,84201.9230044622,85069.5745684746,93921.68201888548,84981.76406922132,86468.63904158617,93378.39662863841,83728.86495122302,88095.76325467265,88241.20889718733,91143.31289541771,91539.1681542527,88733.28542040929,88217.03039744636,91710.33943821075,93827.05276295518,91042.87801045818,88475.77320949346,87245.6316360932,91209.43664844807,90713.11547332122,90705.02572367308,89587.3850330304,92845.91709391284,89989.43799594199,90043.7370041274,95341.07719911382,91970.73284878455,89496.84755705857,88636.2022114493,93620.78762114201,91490.04563389378,92150.85280198694,98260.09672881107,90051.23586441904,94224.31002174805,93417.47203991676,95471.99631469925,98629.55227714937,104344.81816988408,95726.62058922423,101363.01593532394,93781.58677706668,93398.52907216932,90685.59891797518,103950.95856194997,103248.24507525883,106084.04405778793,93635.81785928413,96565.37323447899,101469.589499103,100863.17655188589,101268.10635766549,101299.97557186855,96382.74553763404,113291.84828041619,97490.20811221439,101759.7170964555,93017.80849876064,99430.99213148798,102575.01998285772,102524.56994081524,103236.94509313825,99618.95754690678,101498.71778519772,98975.84728953046,103094.67895826435,102272.80221757687,112098.75425646231,107187.43286089998,112748.81103288746,107468.48010697216,101521.08211027039,106100.85879360982,105444.03854424045,109345.79845421549,106223.37440223184,109050.42048729464,103023.30451827201,98454.01719896511,102568.77142846107,96805.0770647857,109203.15852227845,108843.13383284566,112762.9082845752,103713.59122132864,105214.59688331901,107874.50359829245,102521.28458342658,111514.9471377786,108063.45479454142,111042.12093448106,113081.24106708704,107684.90950132303,108795.45596021463,106401.67841932857,108324.1560561457,109389.92567517476,104365.87771853703,111074.05370659272,110083.53464588309,117685.77342902003,112144.72124889679,107786.73066601683,109833.112580073,109247.8005486401,104183.77164281586,113833.8859994782,110608.07566325812,106060.53813300913,107993.65630567305,109416.65407347244,111830.79335890184,111525.3715659035,105108.15517527214,114318.42653784067,114783.24209591445,112147.053230342,112622.28455685428,115318.52235711674,114824.20297346603,109960.15253509456,112077.25572437912,106868.84656099498,112030.97475036331,110742.05523406822,111066.40579942605,108156.54984166648,115701.70514409599,112422.9116659629,112015.46447946267,106626.51653026002,111139.3931591151,105750.7721024867,111348.16029932938,119370.27198154699,113064.11954106638,114983.46329740938,104134.83486015818,110416.5107613727,111266.7227843877,113229.03629382963,117681.92027420113,117600.26954334388,112765.51386614713,120667.89394683123,112443.25008938844,118430.23324326432,107857.39236074316,115585.27860530796,112681.78637279397,110574.58519002826,113099.61356584307,114982.1230484868,113967.05774687354,116231.24828563117,113625.44399693504,118398.26475421294,113059.45278166882,120112.91107095616,113119.03940208959,116615.00705568837,115282.63006832049,120283.55834753004,114918.17143715711,122774.4823287789,117732.27887932945,120386.67394823139,112905.84357809166,122174.7719410983,108752.61902284947,113134.65585268309,120450.69270183389,114721.23149958637,119991.16567988807,115570.05088603709,118334.40902126936,114275.42759249278,119906.63886705221,115937.60178558047,118486.17366491401,116263.73031962197,114296.48574908933,119269.67517309364,124346.53863803197,117255.51122175151,121627.11447251053,118760.42281750552,114084.13292443236,118079.53151965677,120342.44333024987,123796.22007675299,121760.71354644622,121275.4939354038,119015.99114308668,120017.60618701536,118843.68529563888,121028.19869858402,117776.6649612966,122758.21670819653,113264.7870018199,125313.46525538288,125480.0903570033,121092.85612105814,116921.0408426536,116554.79867947838,117746.39299636091,118226.42376251434,116845.16238024234,131659.08525204426,119425.26002394628,115572.52951135348,131107.78055917294,118338.40296630903,120814.23512166012,121926.10210995014,120408.62500667124,121270.73303323032,125598.87246999113,122647.34381077765,125475.59925955828,115300.0930641257,126194.16479048788,120018.26436591936,123230.69494917859,125507.66275707922,126637.47986586651,119094.56639160331,121200.77566630802,125243.80337506042,120495.51558096874,125434.25053670642,131845.67792192192,121042.70372432689,124676.29325797338,124615.57460111317,122588.058416959,119085.58858309644,125829.53517943984,123942.79379254182,124925.01293547357,120094.41474847103,122662.1955048387,123382.99255254502,126163.9598137996,124446.73621354246,125754.56439986649,120922.96146895796,120292.48967239019,121422.02859186032,123437.43278984934,122468.41385016212,129102.21992572761,124500.23519756935,128528.68474890647,124487.66915757729,126348.56926020964,130750.11500056366,131442.4275674628,126302.96646108352,122058.46870324439,122592.43369116637,129767.32143728637,130576.75146566314,123483.0537849449,126588.08268935622,127371.74354048754,131878.42383860587,135230.3719400873,126777.59921318905,130126.10330815725,128901.82680171037,127484.9686212597,120928.0393447992,128926.77103165218,129183.33910503058,127928.13542009747,127819.46456021882,126868.30152116885,125928.85353998032,126969.98128261372,130762.93601484502,127814.93653819429,126340.06858525799,122759.60299440508,131599.9613560118,127384.37173186862,140157.5740243665,129076.8943690426,131453.91770040538,130720.95187367033,131248.73547285923,126196.70894935941,124491.52962564045,132903.42286211386,125676.96726803007,127140.40492653215,131642.32568061948,130763.24524916238,127815.3911690602,127488.98054640136,124433.4803919023,130960.76428004658,128636.91930987417,128654.11894682402,127088.20414830586,129597.01266326602,128935.19657254912,130660.67786215254,129701.5249846924,129886.91658941073,127533.85528481318,129279.52694366888,141752.6183035665,127939.35269199587,132619.31387605477,131797.45621181082,131568.3998888665,132700.4542135851,137199.91784224272,131304.09035913544,129325.13004569725,129266.50221461139,129779.24667707889,129784.85824503326,135358.886532196,130342.57834760721,131820.13209632837,132260.8591449951,134698.4097267311,135663.9860401423,129181.92799994782,132337.74407846702,137695.0601381553,134700.37469218118,132309.34502365463,134015.84750092425,132579.83098270366,134085.0631843436,129886.52328283682,136102.87868794415,131442.71453335663,128996.1447568556,129936.96700095713,135577.61958125845,134124.40053127884,139223.64088826903,132799.13423979504,132469.5032728138,139399.4253600076,131791.64247024964,130209.72072857911,132411.4989098361,133211.49977503798,129985.16097173314,133006.74768406173,132898.1717337829,143052.40830681034,132338.10639644417,133805.9162004751,133647.05149338278,132162.43043478014,134895.7414493612,132520.98284885247,134704.85136320817,130842.14395199576,124830.62502982182,134958.03511776464,130255.36665463037,143184.05606868482,133629.05119863854,132541.24852289166,134231.01854178376,131667.98085572,127313.98141509319,133735.78977378545,137119.17884592846,134255.52790769615,137052.88164364407,136283.12274646322,133357.73077140094,138758.26360636106,142615.1972800071,132637.20704104492,133952.34662921878,132443.35899874018,136373.8943892363,134062.51789228726,137793.5553187252,134125.5887199428,136857.9551908756,135305.81302855082,140852.46035434358,131201.5822525404,134835.17008207625,140611.1263400199,136863.9626765684,130830.42008821422,134390.62639194255,134429.47127946842,138362.07360994528,136193.25148256766,139873.97501717327,135573.18232779924,132800.33626480808,137640.39209713144,138936.33773247534,137840.91778924607,136236.47397888754,143460.65320048886,130837.92398529148,133851.52006470188,135899.13584363222,133771.92209099757,132136.1835972273,141632.15611616895,138959.89242680318,134554.37116080933,136924.22654197938,138370.11672165536,137380.14366253384,136199.8420441156,138436.0741359707,138000.0580907263,141700.15816368253,143652.94492277034,139314.82718755797,140890.58650706284,138372.51724696223,135273.55893063766,141832.6672799964,139757.8161564993,152407.38239670816,141209.53242333824,141534.38985160665,142071.82918569935,139912.1574559392,137350.09410017217,132588.01350615922,143869.49239426476,143469.43430525952,139674.31659836316,136155.00083432242,136409.9875246419,136308.38980539015,125723.97032451078,141788.59345045532,136600.10166369003,143478.30500036245,138651.01836710196,140805.40960886958,136914.8913218883,144704.05362773314,134658.94322945536,137675.2988480575,136469.5502273188,138389.94400437947,142580.7011237161,140276.0267354634,139081.30260003172,143510.97134276194,145194.83825654496,137365.53676904071,137538.53927766753,141834.71944577497,144841.721272743,149810.96935008554,131380.0544643175,152297.52702671883,143278.12127509734,139255.1505501176,141685.01077230877,138698.878517526,143310.5232160784,138745.9265335267,141935.90744775158,141885.75118796687,139122.34263598366,141897.09600212966,138094.60637605577,137227.07908708276,141612.53787752465,136669.32588848632,142281.42343267886,143286.28961013822,141636.5383280158,142280.14599116534,144668.35981496522,141594.04472375428,143832.59760874335,144715.64114379068,143709.03742922447,143399.7067092051,143226.31556287038,142977.3374852111,144496.24788224665,142826.1609285998,139692.58067996227,135562.84649254224,152194.75093291828,144151.1402770743,143971.41424698065,141315.03089517957,141044.23579423834,148531.33200283622,142365.00076933016,149851.88006711347,144620.75017218335,142290.9526817612,144391.34084004446,145020.08652185893,148773.22896935564,147480.66426709318,149162.17088602547,150438.08558435005,145676.89889337285,147994.39660219883,146127.64271604852,139612.74692350024,147183.70720747724,145664.6212915116,165835.13121767712,139882.68229480422,146424.4059214633,149476.0615570445,145203.9199206788,145818.73860176303,146371.29369992422,146818.94037033065,144942.51310467548,143455.18037403247,145576.3974334483,154357.83645681592,141620.91721879438,149616.7516280737,149750.2959464889,150575.43297631608,149008.72557289267,144394.6953094534,152692.12848010054,142719.12738576235,145102.74784332802,142547.9495797758,153203.64382490586,150756.43789035387,150879.88248466456,150302.3502944637,140038.89528269536,150580.26460206733,143917.4874121874,143418.35653940903,143545.9691682774,150652.60394043336,148555.8278133759,147077.36595435737,146104.99345831198,154696.33387958407,155190.92746267866,156078.16967912676,149108.88211599636,149833.81082831632,152418.43979422085,149120.45763249657,145533.06299201702,151366.3585988681,146861.0468793146,141998.64018501833,151933.49659765893,150889.59405931135,148435.19546458463,154617.65833915622,151034.17078198295,145493.37263840192,149030.736661087,147146.74779857747,148359.9539151345,156505.29555540284,147920.21022251976,149521.47301668493,163485.13310510007,154844.6337822689,169947.29431277912,153751.6923190058,155276.92213327266,150370.75805984664,151631.7178180382,146759.0539496646,145786.7458012752,148389.33055810467,156922.61821032158,159590.5472561218,158584.98389180683,156306.89467801404,151729.04594454647,151490.48405395832,157703.0899622569,154559.7951943937,151122.5187139494,147977.33266552648,152038.17231033574,153437.95314941122,152375.66854985218,170016.96184862455,145933.34514516857,152007.51301203074,148116.95858343787,149644.03919201813,151322.29675851873,156577.49306124187,162289.92417495564,156559.30555296227,154415.92420851297,157046.57460354734,153913.7826490871,158530.57931657997,159246.5532671309,160440.6166905126,156023.55923813354,151659.01874353763,152661.58781634714,153891.84655422883,160104.2822772218,149731.7712994585,156834.19666683362,163281.66804017307,165000.02298470258,156816.82522364773,157067.14693453402,160775.14298806968,167370.0331415593,155046.425285745,159995.56124897598,141717.42636326564,157215.75191856353,155499.34707123184,158672.3582953225,169820.83169205565,155459.05134989045,154542.43224196945,152399.04762905315,155627.0509657635,158003.90956232886,161024.51739109456,159167.32011794735,155557.8758643906,177753.5290751768,159285.27378722676,154333.8634413832,162136.22683727907,168848.81571633922,166078.79202313494,159887.88107049093,157700.4112523935,166221.04208880544,156418.6835388024,157562.1175127447,167565.49262847437,160995.0080638469,164767.5757714766,160588.92703306043,160413.6037582402,171796.35149445615,159878.49072753382,158521.74160711898,158344.2637550387,158458.43327727754,158054.15960197977,153286.82370363278,161828.31066779318,168823.6563083602,172042.27188577753,163372.75250848266,167892.6520300802,159691.14048273192,158519.95762854465,168660.71110519557,162401.81144663662,163008.4961358,177934.70631189045,164971.11563354384,159050.22119872776,162055.9233411702,161306.25755002833,163678.62181105796,166207.1032459258,165442.16112438127,162155.03444352487,164770.21333280567,173153.382781171,165196.257315535,163730.71348569205,166534.56099872733,175604.03618631163,149432.03708925753,165006.96091398987,163740.85709102594,161138.8815134858,166699.44397407302,158733.41422316266,173521.53334731385,157118.03141327132,165554.56585998088,168654.59917151375,163785.13440943553,169314.5683746061,168031.7275646854,175302.0186497203,161586.91701861352,169188.3817839819,163230.47317577858,171192.08611536302,173483.32055612133,172836.7876644491,172720.0194191951,171456.6727149299,163218.67071065117,164169.64215908776,160616.79129354938,175007.43855504965,166786.16288811114,165837.09087064845,170572.38086493715,172578.52823595566,181200.17383192203,163335.7994449924,171500.635129624,165213.15212961115,174859.60860677765,169737.15880534617,167328.29209144603,170467.23273065095,157990.18156077949,168713.89906060643,182259.72770090392,164836.9014241768,171615.35799834653,175743.79018486314,177699.77324289223,181785.17281672638,178241.93368506053,171063.72157287897,172858.00018925525,173529.8617889051,176968.54779543355,173040.14097624202,169343.83950274903,174135.6095208507,183712.3113332133,179998.61804163895,172062.16995841564,178570.55311947933,171269.12125478638,174933.22530251363,174493.19109368886,175280.15701209664,176457.05155607118,181549.34577443896,174906.15944251083,170434.04658268465,173359.3220533505,180121.0430074217,166252.16654086273,179856.58000432653,170784.91527498577,175808.39248610404,174389.9834604485,174777.9079048583,176340.26890528272,176906.65749184802,178850.5510448379,169094.89780212697,172049.88676007427,176780.36900345705,169175.94200511405,181675.87484125732,176734.58260723486,174302.77133577317,182508.3493267639,174344.29509574408,173583.9715529112,173676.8857485061,173491.85553249257,167816.64969963406,179358.08550131792,177204.50606541272,179911.43221220278,173419.43418548425,179895.98651741724,174320.92685044915,173710.1847850971,179863.8764361697,176496.28698087917,175126.28683133711,178767.33871407856,176291.76199560185,178496.59311825776,182534.48520186316,179369.13136804185,181938.343173646,180553.02624740047,176603.20300357562,178990.3162080757,173566.92082471843,177161.50790595543,183626.5304345541,177504.77954954427,180370.27917809912,167759.9804459277,180110.39167587407,173976.58069002995,185380.93752300623,176971.50759951482,181647.66612973032,176769.52798208976,188823.88872461554,187603.14903951847,183102.86832140267,185694.0654419839,177938.12053253458,174316.2643355534,177079.57493769706,178575.43581474602,183225.94085733115,177346.97054823965,190637.11971253183,192662.8653777162,176234.27755282994,175858.21529028504,171215.4424654743,190139.6253691393,178439.528934804,177335.22543303715,173814.06609987293,172004.25345775264,175503.94038539595,177094.01303290395,188225.390259559,173488.32212590866,179779.99000985245,173625.6694145385,182091.71050018974,179688.57232908328,187170.9536026831,174491.35257049632,177405.12882825435,193171.70001396787,184672.46174180586,192696.91009678165,184364.89717385062,193797.84450933727,176879.40291993943,178325.8824045786,179356.05956495256,187788.01316838808,184883.97543033308,189789.64647697215,224184.86480157654,188296.38164599452,183231.41006481575,188722.59107965403,189036.80190117192,188769.80576048876,175293.79565777644,181602.40097654998,190771.12797252167,192860.93757524466,186859.0587371683,182996.12754577494,187685.38588706375,184493.75135889064,198650.86778140726,191014.3102373112,183519.28824306678,193406.8620263234,182946.72243091097,184857.37803123373,185458.5548829162,192830.3175233277,189586.86693180708,191495.32052027923,189968.77745821094,188550.32787687072,195840.67418001403,195519.39950526514,182672.32469699398,188224.0144095821,196312.70144055324,168750.70668745693,183771.68415661552,194759.68337228033,185216.78418062226,188651.7601865601,191302.97179733007,189600.92520432526,188306.89209462088,189129.35297801386,194214.2091590242,193546.5364008276,187964.12259090814,207166.76882235054,187629.958103145,191609.98329394613,190638.22755996173,190495.97991342796,190357.09283768805,192843.90391268994,188611.33583377398,186341.3566815006,203896.6417095438,198826.12405278644,190563.55249260613,189622.03975169067,191688.6291615018,195919.529060327,190145.18573670238,196635.8654706849,191604.90168560072,196380.90610297304,192530.2606749737,197080.06211105804,196009.01749587554,189903.91673990534,201793.73378821078,194570.62469993826,187745.54787547796,192214.26642302287,208596.47601106745,203420.36848270023,197997.93673450933,192589.8887812179,192861.0391281464,197822.7187691622,192392.1195584689,189596.37185065213,202156.30659765846,200270.6686574241,194847.6259595685,190177.03336855804,211222.3807308835,192824.1560684639,199090.37521312505,197163.10190023677,194184.30259006223,195850.9846219803,202319.08201597555,190683.6917620187,197002.73120130555,199387.7756166789,203732.9469403092,193065.04943112927,199120.98173987717,189465.4063359991,198229.4024672913,191348.4546809791,201228.02731824774,193702.12967826088,200977.57273090244,199261.2302930726,199970.18889062223,208549.68928650042,206693.88528704346,202545.881092249,211357.27705096774,194137.4105979629,201195.23322464296,200218.69242065254,203746.49836890734,201957.30706366518,198184.10396589962,193926.96013496557,195626.15090701668,206752.2616025164,201680.8488811486,215550.63381355355,200728.18933835128,206944.63573176067,206120.46870332138,204088.1111215611,203190.21604121878,199765.5743054705,198466.3108281637,204484.46795475215,210211.56498816918,201011.04615151754,201160.81955589386,211362.87338568302,204896.82762362715,205674.74122410212,211593.31830506504,201393.83149762612,207422.96884919403,201715.78983632667,197382.75967516555,223085.90413745496,205384.74561405246,197433.25206179856,201267.0616293559,197456.05865295642,202004.8366654919,203058.4079021134,206280.5675281699,200477.6815597839,202708.04440999115,216953.44758537158,214168.29657728056,201087.258949886,206950.79376210738,206137.9171385399,204778.40537636203,218855.2960643654,200814.71182266236,214692.9860646171,216081.93289239873,205307.61020830658,208342.5033188534,204455.2496560877,213542.03927551577,212064.15490860035,216362.48746417204,210138.6090557249,216022.76137347482,210784.3732659241,215006.39994513663,207468.0608835496,214644.0553757963,205801.46918591126,211110.4312677202,211286.52375208895,219767.74874416844,222883.75404265607,205148.79868993955,220222.86042992238,216349.2527569834,212594.7987179053,217891.33091048483,225658.46659543604,213557.4846359823,212864.9311230015,215268.71252348434,218272.70597142505,216981.5298155214,217089.82505302862,210078.451251178,210084.0034086592,209210.02452798025,216528.9916423832,218246.2324729648,221378.28481997183,211277.87279331067,221393.2565002791,213498.12763927924,222622.37526392494,227232.04056747898,214437.09332253772,219342.1811255848,216637.81670701018,223124.94392885503,220917.03789460682,219426.23069811676,221005.5198914396,218712.11402936527,218538.76725674162,223709.85270972695,219248.60823153055,221004.1011935358,225254.48787318188,224639.2147350012,231176.51713412357,222641.91015420476,218439.75353307868,212796.95142764793,227681.23248841622,218541.84486170858,218557.80813902625,215434.40263108385,216637.30299537373,228602.61181862158,217869.3548400031,230209.23328312652,213838.04080439545,226604.95637648858,229813.23545812882,224261.4976746413,218371.74389493218,233814.39093268855,221106.3023214077,218848.06955577148,236852.3834273686,220329.2478873495,217193.67428052405,224503.68180321433,235403.29951580625,228588.31989556956,238426.6287107296,230300.55809495968,229412.91223198277,231660.5813220233,241791.35262277597,228097.31230349804,216695.50268850807,231448.36079551277,230658.60076530252,233260.03620860976,234095.97799479018,221623.33405058036,232173.93253370764,239406.21128976802,223234.11837078028,221978.5176051502,238427.4551536464,239853.72073445597,229740.89730472502,233426.42117109397,233489.23469209077,224310.7423139935,236584.45562432302,247027.1850087471,210428.8669146655,227956.1095906334,247061.603262911,233381.91713775293,241556.85238514547,228858.74082997398,231286.85992807968,231064.46496223132,242641.29780949804,234428.227750964,236531.1060004618,250162.25870106605,240592.46858352554,229395.68531847157,244772.99525214994,233149.49492027168,245841.14941037164,239823.42856299065,224993.53199028148,239744.08283025373,240951.1655487451,241266.20425656714,245514.97898030552,237855.8005484611,246691.61555394268,237764.4328702617,237215.58496203675,240418.90278343603,241926.81966107106,235122.5179365551,243329.27487459485,236954.61591024185,245008.21512755615,225913.16863435452,237008.3965596558,223144.12661028752,235761.716043948,244546.95556387043,240365.20707226702,233120.60751718612,246150.35989715453,247131.98140103827,243383.1164470388,250257.68502541064,242890.14856762363,251973.95907548157,245861.2152729586,242958.6097589754,235388.57712250878,252181.90590188451,241240.4036966289,253860.88320727483,249632.01088957558,251067.1622253932,254746.8599955467,252614.40685327657,247465.40295893626,264070.2038328846,247664.74902503265,248800.94053481676,249961.26801674688,227033.23665693012,266116.52280550555,260707.5302164475,245542.47770994587,245719.9538908557,271827.6339060314,248419.8021585561,241974.1972193063,258898.57730083517,255629.1925202652,262046.81889778256,253228.66546345747,250700.05681626507,257687.4488020259,257691.14128127947,254786.27937623046,263673.49577996327,257869.08360356986,252530.84688887955,260202.2648075793,259757.6499145186,275508.5647142506,261133.17865578245,260048.1914962759,255316.46000663374,265692.26607629296,249111.4253792531,266371.0563711071,274412.54667943384,261337.9667766929,268875.68765191786,258777.06077408078,248400.55939836014,263556.63303210196,272258.13565132295,273530.53963925125,276460.5263329219,258402.97268772777,270922.96063392307,275289.01460588287,265654.4700814873,270236.5599356483,273041.59885754937,283562.4842009989,264008.40296206926,277026.47773186216,258143.94395454918,271432.1631353072,262838.3839151547,280220.1706415167,261018.70926386665,279814.12103115855,274692.31079730036,268114.0644778556,261652.9944124336,282279.8064435359,275069.02750559076,265725.3215117294,291546.371358903,273324.3639695877,273144.2413661903,278269.68442744616,287128.7321546061,268607.5472538348,266682.4449978983,279823.59024938726,292038.5516441638,274586.5450022226,284541.90532903525,287837.97135306086,275333.631986991,291063.52289785113,257113.91206044276,287865.93589256116,284959.2125988426,273397.44712505705,273804.03299143544,285909.3433534403,287741.7612149487,280934.1741731849,287670.86536045186,287917.3471272126,280526.2118994971,293898.1771296759,300094.5332334551,289356.20357919147,283794.8265067012,296117.7623628494,279491.8957129257,280491.59071594436,295687.0854373037,290475.81052796426,287938.37796275906,296305.7360650239,302857.60773422767,300839.4669509482,308845.39359089255,293609.0387808512,303870.50568925566,295611.4320416343,308035.016593703,311159.09384483413,294883.81103105866,304882.88556813804,307762.1477973978,311377.7540974946,302014.46737283905,312023.67912332807,313212.7465393082,309985.2399160873,304228.0028891822,315845.09375749266,326293.006182773,319070.15671704215,307654.4005841894,324176.96373866365,315425.2844693806,323972.25750923576,323752.7561474857,348128.19659375335,319787.5217008532,328571.58881032397,332976.6232320631,330304.2141732905,316144.13084095734,315551.8173525226,313738.65176789835,314682.9484955476,313937.7649460827,314298.7900022247,330901.1533881322,314176.7524634568,335755.7129769221,326332.13087821094,324251.2856661762,313236.921612827,327333.01851740817,321281.5839117061,324116.02082213364,331488.87596457766,343938.6022036637,341235.46138468746,344982.4661447979,338132.77010827995,326262.8300410431,331617.7342974846,337108.3652132835,330800.9664218142,348851.0895791387,332282.6512643977,334949.02911697293,338439.44819526223,346453.7554810436,334324.26058586664,335856.5753994476,336775.8982823476,343320.83408347284,362079.4993322421,350408.63235949306,368128.5059129075,336325.9062575818,368737.6033625074,351200.83808882255,357147.7118549366,371537.8808966901,367339.37528456555,367565.1018365131,381077.85454538016,384797.49030387943,391559.7335753253,379441.24470065767,379217.3007478807,375319.23211279913,379282.56452835264,375409.7435542277,379699.82224291784,380296.43050494225,404978.0641253505,404338.791441097,388981.62502893026,408488.62117363233,390045.07583587186,391817.63243191014,354508.4081769511,383591.8434301259,403291.5224672499,405096.62275589124,388043.21753778454,420345.6999350663,421674.664654268,411378.78175382933,421186.916493943,420754.93323938147,418691.6793697871,425228.59437183844,413976.318420987,446429.31514806044,440304.3076443918,446255.9645299511,453526.4296532843,467473.1544407669,432843.48674010346,464020.74924915866,452140.96517428797,476338.9624064733,475215.1689935191,494847.4080721967,515615.3035222801,504302.1220040585,560583.4671007125,572475.1560727672,574512.0744328034,588013.9772302038,615100.5686396748,633172.7371790005,721664.8323171256,719085.9891946191],\"type\":\"scatter\"}],                        {\"template\":{\"data\":{\"histogram2dcontour\":[{\"type\":\"histogram2dcontour\",\"colorbar\":{\"outlinewidth\":0,\"ticks\":\"\"},\"colorscale\":[[0.0,\"#0d0887\"],[0.1111111111111111,\"#46039f\"],[0.2222222222222222,\"#7201a8\"],[0.3333333333333333,\"#9c179e\"],[0.4444444444444444,\"#bd3786\"],[0.5555555555555556,\"#d8576b\"],[0.6666666666666666,\"#ed7953\"],[0.7777777777777778,\"#fb9f3a\"],[0.8888888888888888,\"#fdca26\"],[1.0,\"#f0f921\"]]}],\"choropleth\":[{\"type\":\"choropleth\",\"colorbar\":{\"outlinewidth\":0,\"ticks\":\"\"}}],\"histogram2d\":[{\"type\":\"histogram2d\",\"colorbar\":{\"outlinewidth\":0,\"ticks\":\"\"},\"colorscale\":[[0.0,\"#0d0887\"],[0.1111111111111111,\"#46039f\"],[0.2222222222222222,\"#7201a8\"],[0.3333333333333333,\"#9c179e\"],[0.4444444444444444,\"#bd3786\"],[0.5555555555555556,\"#d8576b\"],[0.6666666666666666,\"#ed7953\"],[0.7777777777777778,\"#fb9f3a\"],[0.8888888888888888,\"#fdca26\"],[1.0,\"#f0f921\"]]}],\"heatmap\":[{\"type\":\"heatmap\",\"colorbar\":{\"outlinewidth\":0,\"ticks\":\"\"},\"colorscale\":[[0.0,\"#0d0887\"],[0.1111111111111111,\"#46039f\"],[0.2222222222222222,\"#7201a8\"],[0.3333333333333333,\"#9c179e\"],[0.4444444444444444,\"#bd3786\"],[0.5555555555555556,\"#d8576b\"],[0.6666666666666666,\"#ed7953\"],[0.7777777777777778,\"#fb9f3a\"],[0.8888888888888888,\"#fdca26\"],[1.0,\"#f0f921\"]]}],\"heatmapgl\":[{\"type\":\"heatmapgl\",\"colorbar\":{\"outlinewidth\":0,\"ticks\":\"\"},\"colorscale\":[[0.0,\"#0d0887\"],[0.1111111111111111,\"#46039f\"],[0.2222222222222222,\"#7201a8\"],[0.3333333333333333,\"#9c179e\"],[0.4444444444444444,\"#bd3786\"],[0.5555555555555556,\"#d8576b\"],[0.6666666666666666,\"#ed7953\"],[0.7777777777777778,\"#fb9f3a\"],[0.8888888888888888,\"#fdca26\"],[1.0,\"#f0f921\"]]}],\"contourcarpet\":[{\"type\":\"contourcarpet\",\"colorbar\":{\"outlinewidth\":0,\"ticks\":\"\"}}],\"contour\":[{\"type\":\"contour\",\"colorbar\":{\"outlinewidth\":0,\"ticks\":\"\"},\"colorscale\":[[0.0,\"#0d0887\"],[0.1111111111111111,\"#46039f\"],[0.2222222222222222,\"#7201a8\"],[0.3333333333333333,\"#9c179e\"],[0.4444444444444444,\"#bd3786\"],[0.5555555555555556,\"#d8576b\"],[0.6666666666666666,\"#ed7953\"],[0.7777777777777778,\"#fb9f3a\"],[0.8888888888888888,\"#fdca26\"],[1.0,\"#f0f921\"]]}],\"surface\":[{\"type\":\"surface\",\"colorbar\":{\"outlinewidth\":0,\"ticks\":\"\"},\"colorscale\":[[0.0,\"#0d0887\"],[0.1111111111111111,\"#46039f\"],[0.2222222222222222,\"#7201a8\"],[0.3333333333333333,\"#9c179e\"],[0.4444444444444444,\"#bd3786\"],[0.5555555555555556,\"#d8576b\"],[0.6666666666666666,\"#ed7953\"],[0.7777777777777778,\"#fb9f3a\"],[0.8888888888888888,\"#fdca26\"],[1.0,\"#f0f921\"]]}],\"mesh3d\":[{\"type\":\"mesh3d\",\"colorbar\":{\"outlinewidth\":0,\"ticks\":\"\"}}],\"scatter\":[{\"fillpattern\":{\"fillmode\":\"overlay\",\"size\":10,\"solidity\":0.2},\"type\":\"scatter\"}],\"parcoords\":[{\"type\":\"parcoords\",\"line\":{\"colorbar\":{\"outlinewidth\":0,\"ticks\":\"\"}}}],\"scatterpolargl\":[{\"type\":\"scatterpolargl\",\"marker\":{\"colorbar\":{\"outlinewidth\":0,\"ticks\":\"\"}}}],\"bar\":[{\"error_x\":{\"color\":\"#2a3f5f\"},\"error_y\":{\"color\":\"#2a3f5f\"},\"marker\":{\"line\":{\"color\":\"#E5ECF6\",\"width\":0.5},\"pattern\":{\"fillmode\":\"overlay\",\"size\":10,\"solidity\":0.2}},\"type\":\"bar\"}],\"scattergeo\":[{\"type\":\"scattergeo\",\"marker\":{\"colorbar\":{\"outlinewidth\":0,\"ticks\":\"\"}}}],\"scatterpolar\":[{\"type\":\"scatterpolar\",\"marker\":{\"colorbar\":{\"outlinewidth\":0,\"ticks\":\"\"}}}],\"histogram\":[{\"marker\":{\"pattern\":{\"fillmode\":\"overlay\",\"size\":10,\"solidity\":0.2}},\"type\":\"histogram\"}],\"scattergl\":[{\"type\":\"scattergl\",\"marker\":{\"colorbar\":{\"outlinewidth\":0,\"ticks\":\"\"}}}],\"scatter3d\":[{\"type\":\"scatter3d\",\"line\":{\"colorbar\":{\"outlinewidth\":0,\"ticks\":\"\"}},\"marker\":{\"colorbar\":{\"outlinewidth\":0,\"ticks\":\"\"}}}],\"scattermapbox\":[{\"type\":\"scattermapbox\",\"marker\":{\"colorbar\":{\"outlinewidth\":0,\"ticks\":\"\"}}}],\"scatterternary\":[{\"type\":\"scatterternary\",\"marker\":{\"colorbar\":{\"outlinewidth\":0,\"ticks\":\"\"}}}],\"scattercarpet\":[{\"type\":\"scattercarpet\",\"marker\":{\"colorbar\":{\"outlinewidth\":0,\"ticks\":\"\"}}}],\"carpet\":[{\"aaxis\":{\"endlinecolor\":\"#2a3f5f\",\"gridcolor\":\"white\",\"linecolor\":\"white\",\"minorgridcolor\":\"white\",\"startlinecolor\":\"#2a3f5f\"},\"baxis\":{\"endlinecolor\":\"#2a3f5f\",\"gridcolor\":\"white\",\"linecolor\":\"white\",\"minorgridcolor\":\"white\",\"startlinecolor\":\"#2a3f5f\"},\"type\":\"carpet\"}],\"table\":[{\"cells\":{\"fill\":{\"color\":\"#EBF0F8\"},\"line\":{\"color\":\"white\"}},\"header\":{\"fill\":{\"color\":\"#C8D4E3\"},\"line\":{\"color\":\"white\"}},\"type\":\"table\"}],\"barpolar\":[{\"marker\":{\"line\":{\"color\":\"#E5ECF6\",\"width\":0.5},\"pattern\":{\"fillmode\":\"overlay\",\"size\":10,\"solidity\":0.2}},\"type\":\"barpolar\"}],\"pie\":[{\"automargin\":true,\"type\":\"pie\"}]},\"layout\":{\"autotypenumbers\":\"strict\",\"colorway\":[\"#636efa\",\"#EF553B\",\"#00cc96\",\"#ab63fa\",\"#FFA15A\",\"#19d3f3\",\"#FF6692\",\"#B6E880\",\"#FF97FF\",\"#FECB52\"],\"font\":{\"color\":\"#2a3f5f\"},\"hovermode\":\"closest\",\"hoverlabel\":{\"align\":\"left\"},\"paper_bgcolor\":\"white\",\"plot_bgcolor\":\"#E5ECF6\",\"polar\":{\"bgcolor\":\"#E5ECF6\",\"angularaxis\":{\"gridcolor\":\"white\",\"linecolor\":\"white\",\"ticks\":\"\"},\"radialaxis\":{\"gridcolor\":\"white\",\"linecolor\":\"white\",\"ticks\":\"\"}},\"ternary\":{\"bgcolor\":\"#E5ECF6\",\"aaxis\":{\"gridcolor\":\"white\",\"linecolor\":\"white\",\"ticks\":\"\"},\"baxis\":{\"gridcolor\":\"white\",\"linecolor\":\"white\",\"ticks\":\"\"},\"caxis\":{\"gridcolor\":\"white\",\"linecolor\":\"white\",\"ticks\":\"\"}},\"coloraxis\":{\"colorbar\":{\"outlinewidth\":0,\"ticks\":\"\"}},\"colorscale\":{\"sequential\":[[0.0,\"#0d0887\"],[0.1111111111111111,\"#46039f\"],[0.2222222222222222,\"#7201a8\"],[0.3333333333333333,\"#9c179e\"],[0.4444444444444444,\"#bd3786\"],[0.5555555555555556,\"#d8576b\"],[0.6666666666666666,\"#ed7953\"],[0.7777777777777778,\"#fb9f3a\"],[0.8888888888888888,\"#fdca26\"],[1.0,\"#f0f921\"]],\"sequentialminus\":[[0.0,\"#0d0887\"],[0.1111111111111111,\"#46039f\"],[0.2222222222222222,\"#7201a8\"],[0.3333333333333333,\"#9c179e\"],[0.4444444444444444,\"#bd3786\"],[0.5555555555555556,\"#d8576b\"],[0.6666666666666666,\"#ed7953\"],[0.7777777777777778,\"#fb9f3a\"],[0.8888888888888888,\"#fdca26\"],[1.0,\"#f0f921\"]],\"diverging\":[[0,\"#8e0152\"],[0.1,\"#c51b7d\"],[0.2,\"#de77ae\"],[0.3,\"#f1b6da\"],[0.4,\"#fde0ef\"],[0.5,\"#f7f7f7\"],[0.6,\"#e6f5d0\"],[0.7,\"#b8e186\"],[0.8,\"#7fbc41\"],[0.9,\"#4d9221\"],[1,\"#276419\"]]},\"xaxis\":{\"gridcolor\":\"white\",\"linecolor\":\"white\",\"ticks\":\"\",\"title\":{\"standoff\":15},\"zerolinecolor\":\"white\",\"automargin\":true,\"zerolinewidth\":2},\"yaxis\":{\"gridcolor\":\"white\",\"linecolor\":\"white\",\"ticks\":\"\",\"title\":{\"standoff\":15},\"zerolinecolor\":\"white\",\"automargin\":true,\"zerolinewidth\":2},\"scene\":{\"xaxis\":{\"backgroundcolor\":\"#E5ECF6\",\"gridcolor\":\"white\",\"linecolor\":\"white\",\"showbackground\":true,\"ticks\":\"\",\"zerolinecolor\":\"white\",\"gridwidth\":2},\"yaxis\":{\"backgroundcolor\":\"#E5ECF6\",\"gridcolor\":\"white\",\"linecolor\":\"white\",\"showbackground\":true,\"ticks\":\"\",\"zerolinecolor\":\"white\",\"gridwidth\":2},\"zaxis\":{\"backgroundcolor\":\"#E5ECF6\",\"gridcolor\":\"white\",\"linecolor\":\"white\",\"showbackground\":true,\"ticks\":\"\",\"zerolinecolor\":\"white\",\"gridwidth\":2}},\"shapedefaults\":{\"line\":{\"color\":\"#2a3f5f\"}},\"annotationdefaults\":{\"arrowcolor\":\"#2a3f5f\",\"arrowhead\":0,\"arrowwidth\":1},\"geo\":{\"bgcolor\":\"white\",\"landcolor\":\"#E5ECF6\",\"subunitcolor\":\"white\",\"showland\":true,\"showlakes\":true,\"lakecolor\":\"white\"},\"title\":{\"x\":0.05},\"mapbox\":{\"style\":\"light\"}}},\"xaxis\":{\"anchor\":\"y\",\"domain\":[0.0,1.0],\"title\":{\"text\":\"Id\"}},\"yaxis\":{\"anchor\":\"x\",\"domain\":[0.0,1.0],\"title\":{\"text\":\"SalePrice\"}},\"legend\":{\"tracegroupgap\":0},\"margin\":{\"t\":60}},                        {\"responsive\": true}                    ).then(function(){\n",
       "                            \n",
       "var gd = document.getElementById('16aa4fa4-bcd0-420a-ae37-24976f6c5aec');\n",
       "var x = new MutationObserver(function (mutations, observer) {{\n",
       "        var display = window.getComputedStyle(gd).display;\n",
       "        if (!display || display === 'none') {{\n",
       "            console.log([gd, 'removed!']);\n",
       "            Plotly.purge(gd);\n",
       "            observer.disconnect();\n",
       "        }}\n",
       "}});\n",
       "\n",
       "// Listen for the removal of the full notebook cells\n",
       "var notebookContainer = gd.closest('#notebook-container');\n",
       "if (notebookContainer) {{\n",
       "    x.observe(notebookContainer, {childList: true});\n",
       "}}\n",
       "\n",
       "// Listen for the clearing of the current output cell\n",
       "var outputEl = gd.closest('.output');\n",
       "if (outputEl) {{\n",
       "    x.observe(outputEl, {childList: true});\n",
       "}}\n",
       "\n",
       "                        })                };                });            </script>        </div>"
      ]
     },
     "metadata": {},
     "output_type": "display_data"
    }
   ],
   "source": [
    "plot_actual_vs_pred(model, X, y)"
   ]
  },
  {
   "cell_type": "markdown",
   "id": "c1cb8bf0",
   "metadata": {
    "_cell_guid": "dc76ed22-7360-4cf1-b0d7-45507a047904",
    "_uuid": "dceeb095-6a00-46a9-88d6-c3661ee85d1d",
    "papermill": {
     "duration": 0.049576,
     "end_time": "2022-05-05T22:11:45.380566",
     "exception": false,
     "start_time": "2022-05-05T22:11:45.330990",
     "status": "completed"
    },
    "tags": []
   },
   "source": [
    "# Submission"
   ]
  },
  {
   "cell_type": "markdown",
   "id": "98368feb",
   "metadata": {
    "_cell_guid": "9ddce2e7-4aa2-46ac-a20f-bf63496f20e2",
    "_uuid": "6766465a-780b-467c-988d-14d321616c7a",
    "papermill": {
     "duration": 0.049747,
     "end_time": "2022-05-05T22:11:45.481136",
     "exception": false,
     "start_time": "2022-05-05T22:11:45.431389",
     "status": "completed"
    },
    "tags": []
   },
   "source": [
    "### Reading test data"
   ]
  },
  {
   "cell_type": "code",
   "execution_count": 21,
   "id": "1c26e4d0",
   "metadata": {
    "_cell_guid": "14f401a1-b22f-47d8-8a86-4ea563329055",
    "_uuid": "3a9363b5-1826-4453-8af3-23875114ee58",
    "collapsed": false,
    "execution": {
     "iopub.execute_input": "2022-05-05T22:11:45.584300Z",
     "iopub.status.busy": "2022-05-05T22:11:45.583389Z",
     "iopub.status.idle": "2022-05-05T22:11:45.640613Z",
     "shell.execute_reply": "2022-05-05T22:11:45.639332Z"
    },
    "jupyter": {
     "outputs_hidden": false
    },
    "papermill": {
     "duration": 0.111008,
     "end_time": "2022-05-05T22:11:45.642873",
     "exception": false,
     "start_time": "2022-05-05T22:11:45.531865",
     "status": "completed"
    },
    "tags": []
   },
   "outputs": [
    {
     "name": "stdout",
     "output_type": "stream",
     "text": [
      "\n",
      "Loading test data...\n",
      "\n"
     ]
    },
    {
     "data": {
      "text/html": [
       "<div>\n",
       "<style scoped>\n",
       "    .dataframe tbody tr th:only-of-type {\n",
       "        vertical-align: middle;\n",
       "    }\n",
       "\n",
       "    .dataframe tbody tr th {\n",
       "        vertical-align: top;\n",
       "    }\n",
       "\n",
       "    .dataframe thead th {\n",
       "        text-align: right;\n",
       "    }\n",
       "</style>\n",
       "<table border=\"1\" class=\"dataframe\">\n",
       "  <thead>\n",
       "    <tr style=\"text-align: right;\">\n",
       "      <th></th>\n",
       "      <th>MSSubClass</th>\n",
       "      <th>MSZoning</th>\n",
       "      <th>LotFrontage</th>\n",
       "      <th>LotArea</th>\n",
       "      <th>Street</th>\n",
       "      <th>Alley</th>\n",
       "      <th>LotShape</th>\n",
       "      <th>LandContour</th>\n",
       "      <th>Utilities</th>\n",
       "      <th>LotConfig</th>\n",
       "      <th>...</th>\n",
       "      <th>ScreenPorch</th>\n",
       "      <th>PoolArea</th>\n",
       "      <th>PoolQC</th>\n",
       "      <th>Fence</th>\n",
       "      <th>MiscFeature</th>\n",
       "      <th>MiscVal</th>\n",
       "      <th>MoSold</th>\n",
       "      <th>YrSold</th>\n",
       "      <th>SaleType</th>\n",
       "      <th>SaleCondition</th>\n",
       "    </tr>\n",
       "    <tr>\n",
       "      <th>Id</th>\n",
       "      <th></th>\n",
       "      <th></th>\n",
       "      <th></th>\n",
       "      <th></th>\n",
       "      <th></th>\n",
       "      <th></th>\n",
       "      <th></th>\n",
       "      <th></th>\n",
       "      <th></th>\n",
       "      <th></th>\n",
       "      <th></th>\n",
       "      <th></th>\n",
       "      <th></th>\n",
       "      <th></th>\n",
       "      <th></th>\n",
       "      <th></th>\n",
       "      <th></th>\n",
       "      <th></th>\n",
       "      <th></th>\n",
       "      <th></th>\n",
       "      <th></th>\n",
       "    </tr>\n",
       "  </thead>\n",
       "  <tbody>\n",
       "    <tr>\n",
       "      <th>1461</th>\n",
       "      <td>20</td>\n",
       "      <td>RH</td>\n",
       "      <td>80.0</td>\n",
       "      <td>11622</td>\n",
       "      <td>Pave</td>\n",
       "      <td>NaN</td>\n",
       "      <td>Reg</td>\n",
       "      <td>Lvl</td>\n",
       "      <td>AllPub</td>\n",
       "      <td>Inside</td>\n",
       "      <td>...</td>\n",
       "      <td>120</td>\n",
       "      <td>0</td>\n",
       "      <td>NaN</td>\n",
       "      <td>MnPrv</td>\n",
       "      <td>NaN</td>\n",
       "      <td>0</td>\n",
       "      <td>6</td>\n",
       "      <td>2010</td>\n",
       "      <td>WD</td>\n",
       "      <td>Normal</td>\n",
       "    </tr>\n",
       "    <tr>\n",
       "      <th>1462</th>\n",
       "      <td>20</td>\n",
       "      <td>RL</td>\n",
       "      <td>81.0</td>\n",
       "      <td>14267</td>\n",
       "      <td>Pave</td>\n",
       "      <td>NaN</td>\n",
       "      <td>IR1</td>\n",
       "      <td>Lvl</td>\n",
       "      <td>AllPub</td>\n",
       "      <td>Corner</td>\n",
       "      <td>...</td>\n",
       "      <td>0</td>\n",
       "      <td>0</td>\n",
       "      <td>NaN</td>\n",
       "      <td>NaN</td>\n",
       "      <td>Gar2</td>\n",
       "      <td>12500</td>\n",
       "      <td>6</td>\n",
       "      <td>2010</td>\n",
       "      <td>WD</td>\n",
       "      <td>Normal</td>\n",
       "    </tr>\n",
       "    <tr>\n",
       "      <th>1463</th>\n",
       "      <td>60</td>\n",
       "      <td>RL</td>\n",
       "      <td>74.0</td>\n",
       "      <td>13830</td>\n",
       "      <td>Pave</td>\n",
       "      <td>NaN</td>\n",
       "      <td>IR1</td>\n",
       "      <td>Lvl</td>\n",
       "      <td>AllPub</td>\n",
       "      <td>Inside</td>\n",
       "      <td>...</td>\n",
       "      <td>0</td>\n",
       "      <td>0</td>\n",
       "      <td>NaN</td>\n",
       "      <td>MnPrv</td>\n",
       "      <td>NaN</td>\n",
       "      <td>0</td>\n",
       "      <td>3</td>\n",
       "      <td>2010</td>\n",
       "      <td>WD</td>\n",
       "      <td>Normal</td>\n",
       "    </tr>\n",
       "    <tr>\n",
       "      <th>1464</th>\n",
       "      <td>60</td>\n",
       "      <td>RL</td>\n",
       "      <td>78.0</td>\n",
       "      <td>9978</td>\n",
       "      <td>Pave</td>\n",
       "      <td>NaN</td>\n",
       "      <td>IR1</td>\n",
       "      <td>Lvl</td>\n",
       "      <td>AllPub</td>\n",
       "      <td>Inside</td>\n",
       "      <td>...</td>\n",
       "      <td>0</td>\n",
       "      <td>0</td>\n",
       "      <td>NaN</td>\n",
       "      <td>NaN</td>\n",
       "      <td>NaN</td>\n",
       "      <td>0</td>\n",
       "      <td>6</td>\n",
       "      <td>2010</td>\n",
       "      <td>WD</td>\n",
       "      <td>Normal</td>\n",
       "    </tr>\n",
       "    <tr>\n",
       "      <th>1465</th>\n",
       "      <td>120</td>\n",
       "      <td>RL</td>\n",
       "      <td>43.0</td>\n",
       "      <td>5005</td>\n",
       "      <td>Pave</td>\n",
       "      <td>NaN</td>\n",
       "      <td>IR1</td>\n",
       "      <td>HLS</td>\n",
       "      <td>AllPub</td>\n",
       "      <td>Inside</td>\n",
       "      <td>...</td>\n",
       "      <td>144</td>\n",
       "      <td>0</td>\n",
       "      <td>NaN</td>\n",
       "      <td>NaN</td>\n",
       "      <td>NaN</td>\n",
       "      <td>0</td>\n",
       "      <td>1</td>\n",
       "      <td>2010</td>\n",
       "      <td>WD</td>\n",
       "      <td>Normal</td>\n",
       "    </tr>\n",
       "  </tbody>\n",
       "</table>\n",
       "<p>5 rows × 79 columns</p>\n",
       "</div>"
      ],
      "text/plain": [
       "      MSSubClass MSZoning  LotFrontage  LotArea Street Alley LotShape  \\\n",
       "Id                                                                      \n",
       "1461          20       RH         80.0    11622   Pave   NaN      Reg   \n",
       "1462          20       RL         81.0    14267   Pave   NaN      IR1   \n",
       "1463          60       RL         74.0    13830   Pave   NaN      IR1   \n",
       "1464          60       RL         78.0     9978   Pave   NaN      IR1   \n",
       "1465         120       RL         43.0     5005   Pave   NaN      IR1   \n",
       "\n",
       "     LandContour Utilities LotConfig  ... ScreenPorch PoolArea PoolQC  Fence  \\\n",
       "Id                                    ...                                      \n",
       "1461         Lvl    AllPub    Inside  ...         120        0    NaN  MnPrv   \n",
       "1462         Lvl    AllPub    Corner  ...           0        0    NaN    NaN   \n",
       "1463         Lvl    AllPub    Inside  ...           0        0    NaN  MnPrv   \n",
       "1464         Lvl    AllPub    Inside  ...           0        0    NaN    NaN   \n",
       "1465         HLS    AllPub    Inside  ...         144        0    NaN    NaN   \n",
       "\n",
       "     MiscFeature MiscVal  MoSold  YrSold  SaleType  SaleCondition  \n",
       "Id                                                                 \n",
       "1461         NaN       0       6    2010        WD         Normal  \n",
       "1462        Gar2   12500       6    2010        WD         Normal  \n",
       "1463         NaN       0       3    2010        WD         Normal  \n",
       "1464         NaN       0       6    2010        WD         Normal  \n",
       "1465         NaN       0       1    2010        WD         Normal  \n",
       "\n",
       "[5 rows x 79 columns]"
      ]
     },
     "execution_count": 21,
     "metadata": {},
     "output_type": "execute_result"
    }
   ],
   "source": [
    "print('\\nLoading test data...\\n')\n",
    "\n",
    "test_df = pd.read_csv('../input/house-prices-advanced-regression-techniques/test.csv', index_col=\"Id\")\n",
    "\n",
    "test_df.head()"
   ]
  },
  {
   "cell_type": "markdown",
   "id": "8947a99f",
   "metadata": {
    "_cell_guid": "4b9f5d85-f755-463e-9def-8a3b51f47b9d",
    "_uuid": "0a17d6a0-21ed-42a6-b42a-3022f91529a8",
    "papermill": {
     "duration": 0.050932,
     "end_time": "2022-05-05T22:11:45.745183",
     "exception": false,
     "start_time": "2022-05-05T22:11:45.694251",
     "status": "completed"
    },
    "tags": []
   },
   "source": [
    "### Preparing test data for model"
   ]
  },
  {
   "cell_type": "code",
   "execution_count": 22,
   "id": "24f848d8",
   "metadata": {
    "_cell_guid": "2f89b4c7-bf07-456a-a4e1-8dc175326060",
    "_uuid": "348de84f-9652-4074-b6b5-650566f8f33c",
    "collapsed": false,
    "execution": {
     "iopub.execute_input": "2022-05-05T22:11:45.849745Z",
     "iopub.status.busy": "2022-05-05T22:11:45.848889Z",
     "iopub.status.idle": "2022-05-05T22:11:46.309105Z",
     "shell.execute_reply": "2022-05-05T22:11:46.308478Z"
    },
    "jupyter": {
     "outputs_hidden": false
    },
    "papermill": {
     "duration": 0.514253,
     "end_time": "2022-05-05T22:11:46.310859",
     "exception": false,
     "start_time": "2022-05-05T22:11:45.796606",
     "status": "completed"
    },
    "tags": []
   },
   "outputs": [
    {
     "name": "stdout",
     "output_type": "stream",
     "text": [
      "\n",
      "Preparing data...\n",
      "\n"
     ]
    },
    {
     "data": {
      "text/html": [
       "<div>\n",
       "<style scoped>\n",
       "    .dataframe tbody tr th:only-of-type {\n",
       "        vertical-align: middle;\n",
       "    }\n",
       "\n",
       "    .dataframe tbody tr th {\n",
       "        vertical-align: top;\n",
       "    }\n",
       "\n",
       "    .dataframe thead th {\n",
       "        text-align: right;\n",
       "    }\n",
       "</style>\n",
       "<table border=\"1\" class=\"dataframe\">\n",
       "  <thead>\n",
       "    <tr style=\"text-align: right;\">\n",
       "      <th></th>\n",
       "      <th>LotFrontage</th>\n",
       "      <th>LotArea</th>\n",
       "      <th>LotShape</th>\n",
       "      <th>Utilities</th>\n",
       "      <th>LandSlope</th>\n",
       "      <th>OverallQual</th>\n",
       "      <th>OverallCond</th>\n",
       "      <th>YearBuilt</th>\n",
       "      <th>YearRemodAdd</th>\n",
       "      <th>MasVnrArea</th>\n",
       "      <th>...</th>\n",
       "      <th>SaleCondition_Family</th>\n",
       "      <th>SaleCondition_Normal</th>\n",
       "      <th>SaleCondition_Partial</th>\n",
       "      <th>GarageType_2Types</th>\n",
       "      <th>GarageType_Attchd</th>\n",
       "      <th>GarageType_Basment</th>\n",
       "      <th>GarageType_BuiltIn</th>\n",
       "      <th>GarageType_CarPort</th>\n",
       "      <th>GarageType_Detchd</th>\n",
       "      <th>GarageType_None</th>\n",
       "    </tr>\n",
       "  </thead>\n",
       "  <tbody>\n",
       "    <tr>\n",
       "      <th>1461</th>\n",
       "      <td>0.645747</td>\n",
       "      <td>0.110763</td>\n",
       "      <td>-0.701291</td>\n",
       "      <td>0.02618</td>\n",
       "      <td>-0.225716</td>\n",
       "      <td>-0.795151</td>\n",
       "      <td>0.381743</td>\n",
       "      <td>-0.340077</td>\n",
       "      <td>-1.156380</td>\n",
       "      <td>-0.570750</td>\n",
       "      <td>...</td>\n",
       "      <td>-0.117851</td>\n",
       "      <td>0.467651</td>\n",
       "      <td>-0.305995</td>\n",
       "      <td>-0.064238</td>\n",
       "      <td>0.823505</td>\n",
       "      <td>-0.114827</td>\n",
       "      <td>-0.253259</td>\n",
       "      <td>-0.078757</td>\n",
       "      <td>-0.600559</td>\n",
       "      <td>-0.24236</td>\n",
       "    </tr>\n",
       "    <tr>\n",
       "      <th>1462</th>\n",
       "      <td>0.674605</td>\n",
       "      <td>0.375850</td>\n",
       "      <td>1.016637</td>\n",
       "      <td>0.02618</td>\n",
       "      <td>-0.225716</td>\n",
       "      <td>-0.071836</td>\n",
       "      <td>0.381743</td>\n",
       "      <td>-0.439440</td>\n",
       "      <td>-1.301740</td>\n",
       "      <td>0.027027</td>\n",
       "      <td>...</td>\n",
       "      <td>-0.117851</td>\n",
       "      <td>0.467651</td>\n",
       "      <td>-0.305995</td>\n",
       "      <td>-0.064238</td>\n",
       "      <td>0.823505</td>\n",
       "      <td>-0.114827</td>\n",
       "      <td>-0.253259</td>\n",
       "      <td>-0.078757</td>\n",
       "      <td>-0.600559</td>\n",
       "      <td>-0.24236</td>\n",
       "    </tr>\n",
       "    <tr>\n",
       "      <th>1463</th>\n",
       "      <td>0.472599</td>\n",
       "      <td>0.332053</td>\n",
       "      <td>1.016637</td>\n",
       "      <td>0.02618</td>\n",
       "      <td>-0.225716</td>\n",
       "      <td>-0.795151</td>\n",
       "      <td>-0.517200</td>\n",
       "      <td>0.852269</td>\n",
       "      <td>0.636400</td>\n",
       "      <td>-0.570750</td>\n",
       "      <td>...</td>\n",
       "      <td>-0.117851</td>\n",
       "      <td>0.467651</td>\n",
       "      <td>-0.305995</td>\n",
       "      <td>-0.064238</td>\n",
       "      <td>0.823505</td>\n",
       "      <td>-0.114827</td>\n",
       "      <td>-0.253259</td>\n",
       "      <td>-0.078757</td>\n",
       "      <td>-0.600559</td>\n",
       "      <td>-0.24236</td>\n",
       "    </tr>\n",
       "    <tr>\n",
       "      <th>1464</th>\n",
       "      <td>0.588031</td>\n",
       "      <td>-0.054002</td>\n",
       "      <td>1.016637</td>\n",
       "      <td>0.02618</td>\n",
       "      <td>-0.225716</td>\n",
       "      <td>-0.071836</td>\n",
       "      <td>0.381743</td>\n",
       "      <td>0.885390</td>\n",
       "      <td>0.636400</td>\n",
       "      <td>-0.460051</td>\n",
       "      <td>...</td>\n",
       "      <td>-0.117851</td>\n",
       "      <td>0.467651</td>\n",
       "      <td>-0.305995</td>\n",
       "      <td>-0.064238</td>\n",
       "      <td>0.823505</td>\n",
       "      <td>-0.114827</td>\n",
       "      <td>-0.253259</td>\n",
       "      <td>-0.078757</td>\n",
       "      <td>-0.600559</td>\n",
       "      <td>-0.24236</td>\n",
       "    </tr>\n",
       "    <tr>\n",
       "      <th>1465</th>\n",
       "      <td>-0.421999</td>\n",
       "      <td>-0.552407</td>\n",
       "      <td>1.016637</td>\n",
       "      <td>0.02618</td>\n",
       "      <td>-0.225716</td>\n",
       "      <td>1.374795</td>\n",
       "      <td>-0.517200</td>\n",
       "      <td>0.686666</td>\n",
       "      <td>0.345679</td>\n",
       "      <td>-0.570750</td>\n",
       "      <td>...</td>\n",
       "      <td>-0.117851</td>\n",
       "      <td>0.467651</td>\n",
       "      <td>-0.305995</td>\n",
       "      <td>-0.064238</td>\n",
       "      <td>0.823505</td>\n",
       "      <td>-0.114827</td>\n",
       "      <td>-0.253259</td>\n",
       "      <td>-0.078757</td>\n",
       "      <td>-0.600559</td>\n",
       "      <td>-0.24236</td>\n",
       "    </tr>\n",
       "  </tbody>\n",
       "</table>\n",
       "<p>5 rows × 208 columns</p>\n",
       "</div>"
      ],
      "text/plain": [
       "      LotFrontage   LotArea  LotShape  Utilities  LandSlope  OverallQual  \\\n",
       "1461     0.645747  0.110763 -0.701291    0.02618  -0.225716    -0.795151   \n",
       "1462     0.674605  0.375850  1.016637    0.02618  -0.225716    -0.071836   \n",
       "1463     0.472599  0.332053  1.016637    0.02618  -0.225716    -0.795151   \n",
       "1464     0.588031 -0.054002  1.016637    0.02618  -0.225716    -0.071836   \n",
       "1465    -0.421999 -0.552407  1.016637    0.02618  -0.225716     1.374795   \n",
       "\n",
       "      OverallCond  YearBuilt  YearRemodAdd  MasVnrArea  ...  \\\n",
       "1461     0.381743  -0.340077     -1.156380   -0.570750  ...   \n",
       "1462     0.381743  -0.439440     -1.301740    0.027027  ...   \n",
       "1463    -0.517200   0.852269      0.636400   -0.570750  ...   \n",
       "1464     0.381743   0.885390      0.636400   -0.460051  ...   \n",
       "1465    -0.517200   0.686666      0.345679   -0.570750  ...   \n",
       "\n",
       "      SaleCondition_Family  SaleCondition_Normal  SaleCondition_Partial  \\\n",
       "1461             -0.117851              0.467651              -0.305995   \n",
       "1462             -0.117851              0.467651              -0.305995   \n",
       "1463             -0.117851              0.467651              -0.305995   \n",
       "1464             -0.117851              0.467651              -0.305995   \n",
       "1465             -0.117851              0.467651              -0.305995   \n",
       "\n",
       "      GarageType_2Types  GarageType_Attchd  GarageType_Basment  \\\n",
       "1461          -0.064238           0.823505           -0.114827   \n",
       "1462          -0.064238           0.823505           -0.114827   \n",
       "1463          -0.064238           0.823505           -0.114827   \n",
       "1464          -0.064238           0.823505           -0.114827   \n",
       "1465          -0.064238           0.823505           -0.114827   \n",
       "\n",
       "      GarageType_BuiltIn  GarageType_CarPort  GarageType_Detchd  \\\n",
       "1461           -0.253259           -0.078757          -0.600559   \n",
       "1462           -0.253259           -0.078757          -0.600559   \n",
       "1463           -0.253259           -0.078757          -0.600559   \n",
       "1464           -0.253259           -0.078757          -0.600559   \n",
       "1465           -0.253259           -0.078757          -0.600559   \n",
       "\n",
       "      GarageType_None  \n",
       "1461         -0.24236  \n",
       "1462         -0.24236  \n",
       "1463         -0.24236  \n",
       "1464         -0.24236  \n",
       "1465         -0.24236  \n",
       "\n",
       "[5 rows x 208 columns]"
      ]
     },
     "execution_count": 22,
     "metadata": {},
     "output_type": "execute_result"
    }
   ],
   "source": [
    "print('\\nPreparing data...\\n')\n",
    "\n",
    "X_test = prepare_features(test_df, scaler, X.columns)\n",
    "\n",
    "X_test.head()"
   ]
  },
  {
   "cell_type": "markdown",
   "id": "940d5f57",
   "metadata": {
    "_cell_guid": "a900969b-db80-4e91-93ed-1db7a9570e72",
    "_uuid": "60f02153-7ed6-42a1-83d6-fbb151cbf59c",
    "papermill": {
     "duration": 0.052125,
     "end_time": "2022-05-05T22:11:46.415377",
     "exception": false,
     "start_time": "2022-05-05T22:11:46.363252",
     "status": "completed"
    },
    "tags": []
   },
   "source": [
    "### Making predictions"
   ]
  },
  {
   "cell_type": "code",
   "execution_count": 23,
   "id": "e038d9f5",
   "metadata": {
    "_cell_guid": "c4d99acd-c902-4c6d-b86b-d026060a1fb6",
    "_uuid": "8c81d5fe-7651-4d44-9c85-cad399488e4f",
    "collapsed": false,
    "execution": {
     "iopub.execute_input": "2022-05-05T22:11:46.522585Z",
     "iopub.status.busy": "2022-05-05T22:11:46.522029Z",
     "iopub.status.idle": "2022-05-05T22:11:46.800979Z",
     "shell.execute_reply": "2022-05-05T22:11:46.800340Z"
    },
    "jupyter": {
     "outputs_hidden": false
    },
    "papermill": {
     "duration": 0.334695,
     "end_time": "2022-05-05T22:11:46.803003",
     "exception": false,
     "start_time": "2022-05-05T22:11:46.468308",
     "status": "completed"
    },
    "tags": []
   },
   "outputs": [
    {
     "name": "stdout",
     "output_type": "stream",
     "text": [
      "\n",
      "Predicting target...\n",
      "\n"
     ]
    },
    {
     "data": {
      "text/html": [
       "<div>\n",
       "<style scoped>\n",
       "    .dataframe tbody tr th:only-of-type {\n",
       "        vertical-align: middle;\n",
       "    }\n",
       "\n",
       "    .dataframe tbody tr th {\n",
       "        vertical-align: top;\n",
       "    }\n",
       "\n",
       "    .dataframe thead th {\n",
       "        text-align: right;\n",
       "    }\n",
       "</style>\n",
       "<table border=\"1\" class=\"dataframe\">\n",
       "  <thead>\n",
       "    <tr style=\"text-align: right;\">\n",
       "      <th></th>\n",
       "      <th>Id</th>\n",
       "      <th>SalePrice</th>\n",
       "    </tr>\n",
       "  </thead>\n",
       "  <tbody>\n",
       "    <tr>\n",
       "      <th>0</th>\n",
       "      <td>1461</td>\n",
       "      <td>115548.400109</td>\n",
       "    </tr>\n",
       "    <tr>\n",
       "      <th>1</th>\n",
       "      <td>1462</td>\n",
       "      <td>157114.576070</td>\n",
       "    </tr>\n",
       "    <tr>\n",
       "      <th>2</th>\n",
       "      <td>1463</td>\n",
       "      <td>187070.016766</td>\n",
       "    </tr>\n",
       "    <tr>\n",
       "      <th>3</th>\n",
       "      <td>1464</td>\n",
       "      <td>190686.943943</td>\n",
       "    </tr>\n",
       "    <tr>\n",
       "      <th>4</th>\n",
       "      <td>1465</td>\n",
       "      <td>195115.826327</td>\n",
       "    </tr>\n",
       "  </tbody>\n",
       "</table>\n",
       "</div>"
      ],
      "text/plain": [
       "     Id      SalePrice\n",
       "0  1461  115548.400109\n",
       "1  1462  157114.576070\n",
       "2  1463  187070.016766\n",
       "3  1464  190686.943943\n",
       "4  1465  195115.826327"
      ]
     },
     "execution_count": 23,
     "metadata": {},
     "output_type": "execute_result"
    }
   ],
   "source": [
    "print('\\nPredicting target...\\n')\n",
    "\n",
    "test_preds = pd.DataFrame.from_dict({'Id': test_df.index,'SalePrice': np.exp(model.predict(X_test.values))})\n",
    "\n",
    "test_preds.head()"
   ]
  },
  {
   "cell_type": "markdown",
   "id": "c496bf9a",
   "metadata": {
    "_cell_guid": "160dfe1a-13da-424f-aad0-e6a1b676b154",
    "_uuid": "2260bba0-2aa2-4148-82d2-7da8e92815c0",
    "papermill": {
     "duration": 0.052859,
     "end_time": "2022-05-05T22:11:46.909930",
     "exception": false,
     "start_time": "2022-05-05T22:11:46.857071",
     "status": "completed"
    },
    "tags": []
   },
   "source": [
    "### Saving submission file"
   ]
  },
  {
   "cell_type": "code",
   "execution_count": 24,
   "id": "fb798c89",
   "metadata": {
    "_cell_guid": "9d028df6-b31c-47ab-93ee-8677f18bf943",
    "_uuid": "7332b142-125a-4996-bb8e-f38c0b5397c7",
    "collapsed": false,
    "execution": {
     "iopub.execute_input": "2022-05-05T22:11:47.018959Z",
     "iopub.status.busy": "2022-05-05T22:11:47.018685Z",
     "iopub.status.idle": "2022-05-05T22:11:47.030737Z",
     "shell.execute_reply": "2022-05-05T22:11:47.029813Z"
    },
    "jupyter": {
     "outputs_hidden": false
    },
    "papermill": {
     "duration": 0.070085,
     "end_time": "2022-05-05T22:11:47.033213",
     "exception": false,
     "start_time": "2022-05-05T22:11:46.963128",
     "status": "completed"
    },
    "tags": []
   },
   "outputs": [
    {
     "name": "stdout",
     "output_type": "stream",
     "text": [
      "\n",
      "Saving output...\n",
      "\n",
      "Saved successfully!\n",
      "\n"
     ]
    }
   ],
   "source": [
    "print('\\nSaving output...')\n",
    "\n",
    "test_preds.to_csv('submission.csv', index=False)\n",
    "\n",
    "print('\\nSaved successfully!\\n')"
   ]
  }
 ],
 "metadata": {
  "kernelspec": {
   "display_name": "Python 3",
   "language": "python",
   "name": "python3"
  },
  "language_info": {
   "codemirror_mode": {
    "name": "ipython",
    "version": 3
   },
   "file_extension": ".py",
   "mimetype": "text/x-python",
   "name": "python",
   "nbconvert_exporter": "python",
   "pygments_lexer": "ipython3",
   "version": "3.7.12"
  },
  "papermill": {
   "default_parameters": {},
   "duration": 44.914096,
   "end_time": "2022-05-05T22:11:49.706288",
   "environment_variables": {},
   "exception": null,
   "input_path": "__notebook__.ipynb",
   "output_path": "__notebook__.ipynb",
   "parameters": {},
   "start_time": "2022-05-05T22:11:04.792192",
   "version": "2.3.4"
  }
 },
 "nbformat": 4,
 "nbformat_minor": 5
}
