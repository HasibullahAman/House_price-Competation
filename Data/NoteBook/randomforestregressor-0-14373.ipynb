{
 "cells": [
  {
   "cell_type": "code",
   "execution_count": 1,
   "id": "80dc9f3c",
   "metadata": {
    "_cell_guid": "b1076dfc-b9ad-4769-8c92-a6c4dae69d19",
    "_uuid": "8f2839f25d086af736a60e9eeb907d3b93b6e0e5",
    "execution": {
     "iopub.execute_input": "2023-02-17T14:51:27.699961Z",
     "iopub.status.busy": "2023-02-17T14:51:27.699282Z",
     "iopub.status.idle": "2023-02-17T14:51:27.714538Z",
     "shell.execute_reply": "2023-02-17T14:51:27.713428Z"
    },
    "papermill": {
     "duration": 0.027714,
     "end_time": "2023-02-17T14:51:27.717479",
     "exception": false,
     "start_time": "2023-02-17T14:51:27.689765",
     "status": "completed"
    },
    "tags": []
   },
   "outputs": [
    {
     "name": "stdout",
     "output_type": "stream",
     "text": [
      "/kaggle/input/house-prices-advanced-regression-techniques/sample_submission.csv\n",
      "/kaggle/input/house-prices-advanced-regression-techniques/data_description.txt\n",
      "/kaggle/input/house-prices-advanced-regression-techniques/train.csv\n",
      "/kaggle/input/house-prices-advanced-regression-techniques/test.csv\n"
     ]
    }
   ],
   "source": [
    "# This Python 3 environment comes with many helpful analytics libraries installed\n",
    "# It is defined by the kaggle/python Docker image: https://github.com/kaggle/docker-python\n",
    "# For example, here's several helpful packages to load\n",
    "\n",
    "import numpy as np # linear algebra\n",
    "import pandas as pd # data processing, CSV file I/O (e.g. pd.read_csv)\n",
    "\n",
    "# Input data files are available in the read-only \"../input/\" directory\n",
    "# For example, running this (by clicking run or pressing Shift+Enter) will list all files under the input directory\n",
    "\n",
    "import os\n",
    "for dirname, _, filenames in os.walk('/kaggle/input'):\n",
    "    for filename in filenames:\n",
    "        print(os.path.join(dirname, filename))\n",
    "\n",
    "# You can write up to 20GB to the current directory (/kaggle/working/) that gets preserved as output when you create a version using \"Save & Run All\" \n",
    "# You can also write temporary files to /kaggle/temp/, but they won't be saved outside of the current session"
   ]
  },
  {
   "cell_type": "code",
   "execution_count": 2,
   "id": "93e1c59f",
   "metadata": {
    "execution": {
     "iopub.execute_input": "2023-02-17T14:51:27.727441Z",
     "iopub.status.busy": "2023-02-17T14:51:27.726612Z",
     "iopub.status.idle": "2023-02-17T14:51:28.863507Z",
     "shell.execute_reply": "2023-02-17T14:51:28.862258Z"
    },
    "papermill": {
     "duration": 1.144877,
     "end_time": "2023-02-17T14:51:28.866372",
     "exception": false,
     "start_time": "2023-02-17T14:51:27.721495",
     "status": "completed"
    },
    "tags": []
   },
   "outputs": [],
   "source": [
    "from sklearn.ensemble import RandomForestRegressor\n",
    "from sklearn.model_selection import GridSearchCV\n",
    "from sklearn.preprocessing import LabelEncoder\n",
    "\n",
    "# Load the data\n",
    "train_data = pd.read_csv('/kaggle/input/house-prices-advanced-regression-techniques/train.csv')\n",
    "test_data = pd.read_csv('/kaggle/input/house-prices-advanced-regression-techniques/test.csv')"
   ]
  },
  {
   "cell_type": "code",
   "execution_count": 3,
   "id": "972c85cb",
   "metadata": {
    "execution": {
     "iopub.execute_input": "2023-02-17T14:51:28.875702Z",
     "iopub.status.busy": "2023-02-17T14:51:28.875265Z",
     "iopub.status.idle": "2023-02-17T14:51:28.893723Z",
     "shell.execute_reply": "2023-02-17T14:51:28.892327Z"
    },
    "papermill": {
     "duration": 0.026709,
     "end_time": "2023-02-17T14:51:28.896880",
     "exception": false,
     "start_time": "2023-02-17T14:51:28.870171",
     "status": "completed"
    },
    "tags": []
   },
   "outputs": [],
   "source": [
    "# Data Cleaning and Preprocessing\n",
    "train_data.drop('Id', axis=1, inplace=True)\n",
    "test_ids = test_data['Id']\n",
    "test_data.drop('Id', axis=1, inplace=True)"
   ]
  },
  {
   "cell_type": "code",
   "execution_count": 4,
   "id": "c16923e0",
   "metadata": {
    "execution": {
     "iopub.execute_input": "2023-02-17T14:51:28.906833Z",
     "iopub.status.busy": "2023-02-17T14:51:28.906169Z",
     "iopub.status.idle": "2023-02-17T14:51:28.930339Z",
     "shell.execute_reply": "2023-02-17T14:51:28.929203Z"
    },
    "papermill": {
     "duration": 0.032178,
     "end_time": "2023-02-17T14:51:28.933009",
     "exception": false,
     "start_time": "2023-02-17T14:51:28.900831",
     "status": "completed"
    },
    "tags": []
   },
   "outputs": [],
   "source": [
    "# Fill missing values with median for numerical features\n",
    "for col in train_data.select_dtypes(include=[np.number]).columns:\n",
    "    train_data[col].fillna(train_data[col].median(), inplace=True)"
   ]
  },
  {
   "cell_type": "code",
   "execution_count": 5,
   "id": "de16c99d",
   "metadata": {
    "execution": {
     "iopub.execute_input": "2023-02-17T14:51:28.941987Z",
     "iopub.status.busy": "2023-02-17T14:51:28.941571Z",
     "iopub.status.idle": "2023-02-17T14:51:28.965076Z",
     "shell.execute_reply": "2023-02-17T14:51:28.963921Z"
    },
    "papermill": {
     "duration": 0.030852,
     "end_time": "2023-02-17T14:51:28.967625",
     "exception": false,
     "start_time": "2023-02-17T14:51:28.936773",
     "status": "completed"
    },
    "tags": []
   },
   "outputs": [],
   "source": [
    "# Fill missing values with median for numerical features\n",
    "for col in test_data.select_dtypes(include=[np.number]).columns:\n",
    "    test_data[col].fillna(test_data[col].median(), inplace=True)"
   ]
  },
  {
   "cell_type": "code",
   "execution_count": 6,
   "id": "227add9a",
   "metadata": {
    "execution": {
     "iopub.execute_input": "2023-02-17T14:51:28.977877Z",
     "iopub.status.busy": "2023-02-17T14:51:28.976570Z",
     "iopub.status.idle": "2023-02-17T14:51:29.046187Z",
     "shell.execute_reply": "2023-02-17T14:51:29.044764Z"
    },
    "papermill": {
     "duration": 0.077473,
     "end_time": "2023-02-17T14:51:29.048833",
     "exception": false,
     "start_time": "2023-02-17T14:51:28.971360",
     "status": "completed"
    },
    "tags": []
   },
   "outputs": [],
   "source": [
    "# Fill missing values with mode for categorical features\n",
    "for col in train_data.select_dtypes(include='object').columns:\n",
    "    train_data[col].fillna(train_data[col].mode()[0], inplace=True)\n",
    "    test_data[col].fillna(test_data[col].mode()[0], inplace=True)"
   ]
  },
  {
   "cell_type": "code",
   "execution_count": 7,
   "id": "e49a25ee",
   "metadata": {
    "execution": {
     "iopub.execute_input": "2023-02-17T14:51:29.057925Z",
     "iopub.status.busy": "2023-02-17T14:51:29.057484Z",
     "iopub.status.idle": "2023-02-17T14:51:29.239242Z",
     "shell.execute_reply": "2023-02-17T14:51:29.237750Z"
    },
    "papermill": {
     "duration": 0.189477,
     "end_time": "2023-02-17T14:51:29.242037",
     "exception": false,
     "start_time": "2023-02-17T14:51:29.052560",
     "status": "completed"
    },
    "tags": []
   },
   "outputs": [],
   "source": [
    "# Feature Engineering\n",
    "\n",
    "# Filling missing values with mode for categorical features and median for numerical features\n",
    "cols_with_missing = ['MSZoning', 'LotFrontage', 'Utilities', 'Exterior1st', 'Exterior2nd', 'MasVnrType', 'BsmtQual',\n",
    "                     'BsmtCond', 'BsmtExposure', 'BsmtFinType1', 'BsmtFinSF1', 'BsmtFinType2', 'BsmtFinSF2', 'BsmtUnfSF',\n",
    "                     'TotalBsmtSF', 'Electrical', 'BsmtFullBath', 'BsmtHalfBath', 'KitchenQual', 'Functional', 'FireplaceQu',\n",
    "                     'GarageType', 'GarageYrBlt', 'GarageFinish', 'GarageCars', 'GarageArea', 'GarageQual', 'GarageCond',\n",
    "                     'PoolQC', 'Fence', 'MiscFeature', 'SaleType']\n",
    "\n",
    "for col in cols_with_missing:\n",
    "    if col in ['LotFrontage', 'MasVnrArea', 'GarageYrBlt']:\n",
    "        train_data[col] = train_data.groupby('Neighborhood')[col].transform(lambda x: x.fillna(x.median()))\n",
    "        test_data[col] = test_data.groupby('Neighborhood')[col].transform(lambda x: x.fillna(x.median()))\n",
    "    elif train_data[col].dtype == 'object':\n",
    "        train_data[col].fillna(train_data[col].mode()[0], inplace=True)\n",
    "        test_data[col].fillna(train_data[col].mode()[0], inplace=True)\n",
    "    else:\n",
    "        train_data[col].fillna(train_data[col].median(), inplace=True)\n",
    "        test_data[col].fillna(train_data[col].median(), inplace=True)\n",
    "\n",
    "# Adding new features\n",
    "train_data['TotalSF'] = train_data['TotalBsmtSF'] + train_data['1stFlrSF'] + train_data['2ndFlrSF']\n",
    "train_data['TotalBathrooms'] = train_data['FullBath'] + (0.5 * train_data['HalfBath']) + train_data['BsmtFullBath'] + (0.5 * train_data['BsmtHalfBath'])\n",
    "train_data['TotalPorchSF'] = train_data['OpenPorchSF'] + train_data['EnclosedPorch'] + train_data['3SsnPorch'] + train_data['ScreenPorch']\n",
    "\n",
    "test_data['TotalSF'] = test_data['TotalBsmtSF'] + test_data['1stFlrSF'] + test_data['2ndFlrSF']\n",
    "test_data['TotalBathrooms'] = test_data['FullBath'] + (0.5 * test_data['HalfBath']) + test_data['BsmtFullBath'] + (0.5 * test_data['BsmtHalfBath'])\n",
    "test_data['TotalPorchSF'] = test_data['OpenPorchSF'] + test_data['EnclosedPorch'] + test_data['3SsnPorch'] + test_data['ScreenPorch']\n",
    "\n",
    "# Encoding categorical features\n",
    "categorical_cols = [col for col in train_data.columns if train_data[col].dtype == 'object']\n",
    "for col in categorical_cols:\n",
    "    le = LabelEncoder()\n",
    "    train_data[col] = le.fit_transform(train_data[col])\n",
    "    test_data[col] = le.transform(test_data[col])\n"
   ]
  },
  {
   "cell_type": "code",
   "execution_count": 8,
   "id": "3d27654e",
   "metadata": {
    "execution": {
     "iopub.execute_input": "2023-02-17T14:51:29.251415Z",
     "iopub.status.busy": "2023-02-17T14:51:29.250986Z",
     "iopub.status.idle": "2023-02-17T14:58:35.034203Z",
     "shell.execute_reply": "2023-02-17T14:58:35.032266Z"
    },
    "papermill": {
     "duration": 425.791611,
     "end_time": "2023-02-17T14:58:35.037439",
     "exception": false,
     "start_time": "2023-02-17T14:51:29.245828",
     "status": "completed"
    },
    "tags": []
   },
   "outputs": [],
   "source": [
    "# Hyperparameter Tuning\n",
    "rf = RandomForestRegressor()\n",
    "params = {'n_estimators': [100, 200, 300],\n",
    "          'max_depth': [10, 20, 30],\n",
    "          'min_samples_split': [2, 5, 10],\n",
    "          'min_samples_leaf': [1, 2, 4]}\n",
    "grid_search = GridSearchCV(estimator=rf, param_grid=params, cv=5, n_jobs=-1)\n",
    "grid_search.fit(train_data.drop('SalePrice', axis=1), train_data['SalePrice'])\n",
    "best_params = grid_search.best_params_"
   ]
  },
  {
   "cell_type": "code",
   "execution_count": 9,
   "id": "f38ed747",
   "metadata": {
    "execution": {
     "iopub.execute_input": "2023-02-17T14:58:35.047413Z",
     "iopub.status.busy": "2023-02-17T14:58:35.047019Z",
     "iopub.status.idle": "2023-02-17T14:58:39.647797Z",
     "shell.execute_reply": "2023-02-17T14:58:39.646718Z"
    },
    "papermill": {
     "duration": 4.60854,
     "end_time": "2023-02-17T14:58:39.650049",
     "exception": false,
     "start_time": "2023-02-17T14:58:35.041509",
     "status": "completed"
    },
    "tags": []
   },
   "outputs": [
    {
     "data": {
      "text/plain": [
       "RandomForestRegressor(max_depth=30, n_estimators=200)"
      ]
     },
     "execution_count": 9,
     "metadata": {},
     "output_type": "execute_result"
    }
   ],
   "source": [
    "# Model training\n",
    "rf = RandomForestRegressor(n_estimators=best_params['n_estimators'],\n",
    "                           max_depth=best_params['max_depth'],\n",
    "                           min_samples_split=best_params['min_samples_split'],\n",
    "                           min_samples_leaf=best_params['min_samples_leaf'])\n",
    "rf.fit(train_data.drop('SalePrice', axis=1), train_data['SalePrice'])"
   ]
  },
  {
   "cell_type": "code",
   "execution_count": 10,
   "id": "8028bf70",
   "metadata": {
    "execution": {
     "iopub.execute_input": "2023-02-17T14:58:39.659273Z",
     "iopub.status.busy": "2023-02-17T14:58:39.658914Z",
     "iopub.status.idle": "2023-02-17T14:58:39.749964Z",
     "shell.execute_reply": "2023-02-17T14:58:39.748815Z"
    },
    "papermill": {
     "duration": 0.098778,
     "end_time": "2023-02-17T14:58:39.752699",
     "exception": false,
     "start_time": "2023-02-17T14:58:39.653921",
     "status": "completed"
    },
    "tags": []
   },
   "outputs": [],
   "source": [
    "# Model Prediction\n",
    "predictions = rf.predict(test_data)"
   ]
  },
  {
   "cell_type": "code",
   "execution_count": 11,
   "id": "9f4eb076",
   "metadata": {
    "execution": {
     "iopub.execute_input": "2023-02-17T14:58:39.762383Z",
     "iopub.status.busy": "2023-02-17T14:58:39.762004Z",
     "iopub.status.idle": "2023-02-17T14:58:39.774811Z",
     "shell.execute_reply": "2023-02-17T14:58:39.773688Z"
    },
    "papermill": {
     "duration": 0.020749,
     "end_time": "2023-02-17T14:58:39.777451",
     "exception": false,
     "start_time": "2023-02-17T14:58:39.756702",
     "status": "completed"
    },
    "tags": []
   },
   "outputs": [],
   "source": [
    "# Create a submission file\n",
    "submission_df = pd.DataFrame({'Id': test_ids , 'SalePrice': predictions})\n",
    "submission_df.to_csv('submission.csv', index=False)"
   ]
  }
 ],
 "metadata": {
  "kernelspec": {
   "display_name": "Python 3",
   "language": "python",
   "name": "python3"
  },
  "language_info": {
   "codemirror_mode": {
    "name": "ipython",
    "version": 3
   },
   "file_extension": ".py",
   "mimetype": "text/x-python",
   "name": "python",
   "nbconvert_exporter": "python",
   "pygments_lexer": "ipython3",
   "version": "3.7.12"
  },
  "papermill": {
   "default_parameters": {},
   "duration": 442.994833,
   "end_time": "2023-02-17T14:58:42.404098",
   "environment_variables": {},
   "exception": null,
   "input_path": "__notebook__.ipynb",
   "output_path": "__notebook__.ipynb",
   "parameters": {},
   "start_time": "2023-02-17T14:51:19.409265",
   "version": "2.3.4"
  }
 },
 "nbformat": 4,
 "nbformat_minor": 5
}
