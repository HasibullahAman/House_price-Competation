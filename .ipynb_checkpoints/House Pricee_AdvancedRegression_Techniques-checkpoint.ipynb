{
 "cells": [
  {
   "cell_type": "markdown",
   "metadata": {},
   "source": [
    "\n",
    "# <b>1 <span style='color:#94D4F6'>|</span> Data Preprocessing</b>\n",
    "\n",
    "<div style=\"color:white;display:fill;border-radius:8px;background-color:#03112A;font-size:150%;letter-spacing:1.0px\"><p style=\"padding: 10px;color:white;\"><b><b><span style='color:#94D4F6'>1.1 |</span></b> Importing the libraries </b></p>\n"
   ]
  },
  {
   "cell_type": "markdown",
   "metadata": {},
   "source": [
    "-  **<mark style=\"background-color:#FFC300;color:black;border-radius:5px;opacity:0.7\"> Importing the  necessary libraries </mark>** "
   ]
  },
  {
   "cell_type": "markdown",
   "metadata": {},
   "source": [
    "<center><span style=\"font-family:Comic Sans MS; color:navy \"><h1>House Pricee:Advanced Regression Techniques</h1></span></center>"
   ]
  },
  {
   "cell_type": "markdown",
   "metadata": {},
   "source": [
    "# <b>1 <span style='color:#94D4F6'>|</span>Import Data</b>"
   ]
  },
  {
   "cell_type": "markdown",
   "metadata": {},
   "source": [
    "<div style=\"color:white;display:fill;border-radius:8px;background-color:#03112A;font-size:150%;letter-spacing:1.0px\"><p style=\"padding: 10px;color:white;\"><b><b><span style='color:#94D4F6'>1.1 |</span></b> Importing the libraries </b></p>"
   ]
  },
  {
   "cell_type": "code",
   "execution_count": 4,
   "metadata": {},
   "outputs": [],
   "source": [
    "import pandas as pd #data processing, CSV file I/O\n",
    "import numpy as np # linear algebra\n",
    "import os\n",
    "for dirname, _, filenames in os.walk('/kaggle/input'):\n",
    "    for filename in filenames:\n",
    "        print(os.path.join(dirname, filename))\n",
    "import warnings\n",
    "warnings.filterwarnings('ignore') #Ignore Warning\n",
    "#for graphs, visuals, etc.\n",
    "import matplotlib.pyplot as plt\n",
    "import seaborn as sns\n",
    "%matplotlib inline"
   ]
  },
  {
   "cell_type": "markdown",
   "metadata": {},
   "source": [
    "<div style=\"color:white;display:fill;border-radius:8px;background-color:#03112A;font-size:150%;letter-spacing:1.0px\"><p style=\"padding: 10px;color:white;\"><b><b><span style='color:#94D4F6'>1.2 |</span></b> Importing the Dataset </b></p>"
   ]
  },
  {
   "cell_type": "code",
   "execution_count": null,
   "metadata": {},
   "outputs": [],
   "source": []
  },
  {
   "cell_type": "code",
   "execution_count": 8,
   "metadata": {},
   "outputs": [],
   "source": [
    "df = pd.read_csv('Data/train.csv')\n",
    "df_test = pd.read_csv('Data/train.csv')\n",
    "# tod_sum=[tod,tod_test]"
   ]
  },
  {
   "cell_type": "code",
   "execution_count": null,
   "metadata": {},
   "outputs": [],
   "source": []
  },
  {
   "cell_type": "code",
   "execution_count": null,
   "metadata": {},
   "outputs": [],
   "source": []
  }
 ],
 "metadata": {
  "kernelspec": {
   "display_name": "Python 3",
   "language": "python",
   "name": "python3"
  },
  "language_info": {
   "codemirror_mode": {
    "name": "ipython",
    "version": 3
   },
   "file_extension": ".py",
   "mimetype": "text/x-python",
   "name": "python",
   "nbconvert_exporter": "python",
   "pygments_lexer": "ipython3",
   "version": "3.8.3"
  }
 },
 "nbformat": 4,
 "nbformat_minor": 4
}
